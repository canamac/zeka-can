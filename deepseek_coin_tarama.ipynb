{
  "nbformat": 4,
  "nbformat_minor": 0,
  "metadata": {
    "colab": {
      "provenance": [],
      "authorship_tag": "ABX9TyO9mCYxwUD/pBPFBKWTXIgZ",
      "include_colab_link": true
    },
    "kernelspec": {
      "name": "python3",
      "display_name": "Python 3"
    },
    "language_info": {
      "name": "python"
    }
  },
  "cells": [
    {
      "cell_type": "markdown",
      "metadata": {
        "id": "view-in-github",
        "colab_type": "text"
      },
      "source": [
        "<a href=\"https://colab.research.google.com/github/canamac/zeka-can/blob/main/deepseek_coin_tarama.ipynb\" target=\"_parent\"><img src=\"https://colab.research.google.com/assets/colab-badge.svg\" alt=\"Open In Colab\"/></a>"
      ]
    },
    {
      "cell_type": "code",
      "execution_count": null,
      "metadata": {
        "colab": {
          "base_uri": "https://localhost:8080/"
        },
        "id": "vUyr8AfGCaLF",
        "outputId": "8ff3cce8-cc5b-401a-f15e-407c2f9c9231"
      },
      "outputs": [
        {
          "output_type": "stream",
          "name": "stdout",
          "text": [
            "\n",
            "--- Tarama Zamanı: Mon Feb  3 18:19:33 2025 ---\n",
            "       Coin Sembol        Fiyat   24s Yüksek    24s Düşük  24s Değişim (%) Sinyal\n",
            "    bitcoin    btc 99265.000000 99605.000000 92460.000000          1.92122    SAT\n",
            "   ethereum    eth  2712.290000  2980.090000  2368.280000         -8.80534    SAT\n",
            "     solana    sol   206.400000   209.520000   183.180000          1.66380    SAT\n",
            "binancecoin    bnb   595.600000   628.790000   523.650000         -4.28021    SAT\n",
            "    cardano    ada     0.771886     0.823783     0.573037         -4.55132    SAT\n"
          ]
        }
      ],
      "source": [
        "import pandas as pd\n",
        "import requests\n",
        "import time\n",
        "import numpy as np  # Eksik olan kütüphane eklendi\n",
        "\n",
        "# CoinGecko API erişim bilgileri\n",
        "COINGECKO_URL = \"https://api.coingecko.com/api/v3/coins/markets\"\n",
        "HEADERS = {\n",
        "    'User-Agent': 'Mozilla/5.0 (Windows NT 10.0; Win64; x64) AppleWebKit/537.36 (KHTML, like Gecko) Chrome/91.0.4472.124 Safari/537.36'\n",
        "}\n",
        "\n",
        "# CoinGecko'dan veri çekme fonksiyonu\n",
        "def get_coingecko_data(coin_ids, vs_currency='usd'):\n",
        "    try:\n",
        "        params = {\n",
        "            'vs_currency': vs_currency,\n",
        "            'ids': ','.join(coin_ids),\n",
        "            'order': 'market_cap_desc',\n",
        "            'per_page': 100,\n",
        "            'page': 1,\n",
        "            'sparkline': False\n",
        "        }\n",
        "        response = requests.get(COINGECKO_URL, headers=HEADERS, params=params, timeout=15)\n",
        "        response.raise_for_status()\n",
        "        return response.json()\n",
        "    except Exception as e:\n",
        "        print(f\"CoinGecko API Hatası: {str(e)}\")\n",
        "        return None\n",
        "\n",
        "# Veriyi işleme fonksiyonu\n",
        "def process_coingecko_data(data):\n",
        "    if not data:\n",
        "        return pd.DataFrame()\n",
        "\n",
        "    df = pd.DataFrame(data)\n",
        "    df = df[['id', 'symbol', 'current_price', 'high_24h', 'low_24h', 'price_change_percentage_24h']]\n",
        "    df.rename(columns={\n",
        "        'id': 'Coin',\n",
        "        'symbol': 'Sembol',\n",
        "        'current_price': 'Fiyat',\n",
        "        'high_24h': '24s Yüksek',\n",
        "        'low_24h': '24s Düşük',\n",
        "        'price_change_percentage_24h': '24s Değişim (%)'\n",
        "    }, inplace=True)\n",
        "    return df\n",
        "\n",
        "# Sinyal analizi fonksiyonu\n",
        "def analyze_data(df):\n",
        "    if df.empty:\n",
        "        return df\n",
        "\n",
        "    # Örnek sinyal: Fiyat 24 saat içinde %5'ten fazla artmışsa \"AL\"\n",
        "    df['Sinyal'] = np.where(df['24s Değişim (%)'] > 5, 'AL', 'SAT')\n",
        "    return df\n",
        "\n",
        "# Ana tarama fonksiyonu\n",
        "def scan_coins(coin_ids):\n",
        "    data = get_coingecko_data(coin_ids)\n",
        "    if data:\n",
        "        df = process_coingecko_data(data)\n",
        "        if not df.empty:\n",
        "            df = analyze_data(df)\n",
        "            return df\n",
        "    return pd.DataFrame()\n",
        "\n",
        "# Çalıştırma\n",
        "if __name__ == \"__main__\":\n",
        "    coin_ids = ['bitcoin', 'ethereum', 'binancecoin', 'cardano', 'solana']  # CoinGecko ID'leri\n",
        "    while True:\n",
        "        print(f\"\\n--- Tarama Zamanı: {time.ctime()} ---\")\n",
        "        result = scan_coins(coin_ids)\n",
        "        if not result.empty:\n",
        "            print(result.to_string(index=False))\n",
        "        else:\n",
        "            print(\"Veri alınamadı.\")\n",
        "        time.sleep(300)  # 5 dakikada bir tarama"
      ]
    }
  ]
}