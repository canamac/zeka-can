{
  "nbformat": 4,
  "nbformat_minor": 0,
  "metadata": {
    "colab": {
      "provenance": [],
      "authorship_tag": "ABX9TyPYXuEAtOJT+gp/sXaaZZSs",
      "include_colab_link": true
    },
    "kernelspec": {
      "name": "python3",
      "display_name": "Python 3"
    },
    "language_info": {
      "name": "python"
    }
  },
  "cells": [
    {
      "cell_type": "markdown",
      "metadata": {
        "id": "view-in-github",
        "colab_type": "text"
      },
      "source": [
        "<a href=\"https://colab.research.google.com/github/canamac/zeka-can/blob/main/%C4%B0LK_F%C4%B0YATTAN_%C4%B0T%C4%B0BAREN_DE%C4%9E%C4%B0%C5%9E%C4%B0M_ANAL%C4%B0Z%C4%B0.ipynb\" target=\"_parent\"><img src=\"https://colab.research.google.com/assets/colab-badge.svg\" alt=\"Open In Colab\"/></a>"
      ]
    },
    {
      "cell_type": "code",
      "execution_count": 1,
      "metadata": {
        "colab": {
          "base_uri": "https://localhost:8080/"
        },
        "id": "rAvX2krOKpvu",
        "outputId": "12108a1b-8428-493a-c35e-04523cfd9455"
      },
      "outputs": [
        {
          "output_type": "stream",
          "name": "stderr",
          "text": [
            "<ipython-input-1-bcf935b83e51>:21: RuntimeWarning: divide by zero encountered in scalar divide\n",
            "  percent_change = ((last_close - first_open) / first_open) * 100\n"
          ]
        },
        {
          "output_type": "stream",
          "name": "stdout",
          "text": [
            "          Symbol   First Open   Last Close     Change %\n",
            "0        KNC-USD     1.404502     0.540626   -61.507610\n",
            "1        ZIL-USD     0.136822     0.019321   -85.878612\n",
            "2        ZEN-USD    24.941401    19.468187   -21.944290\n",
            "3        YGG-USD     1.667175     0.392873   -76.434825\n",
            "4        LAT-USD     0.829942     0.008886   -98.929265\n",
            "5        YFI-USD  1049.669800  7482.176270   612.812379\n",
            "6        XVS-USD     2.555205     8.222426   221.791248\n",
            "7        XTZ-USD     1.618220     1.182636   -26.917475\n",
            "8        XRP-USD     0.217911     2.463869  1030.676652\n",
            "9        XRD-USD     0.168490     0.017938   -89.353872\n",
            "10       XMR-USD   112.531998   198.341064    76.253038\n",
            "11       XLM-USD     0.033792     0.410261  1114.075891\n",
            "12  FARTCOIN-USD     0.062188     0.899038  1345.678428\n",
            "13       XEM-USD     0.193797     0.024490   -87.362880\n",
            "14       XEC-USD     0.000028     0.000033    17.512574\n",
            "15       XCN-USD     0.001214     0.000983   -19.038152\n",
            "16       XCH-USD  1595.039429    20.594450   -98.708844\n",
            "17       WOO-USD     0.000000     0.184097          inf\n",
            "18     WOJAK-USD     0.000114     0.000688   503.728367\n",
            "19       WIN-USD     0.000448     0.000091   -79.757984\n"
          ]
        }
      ],
      "source": [
        "import yfinance as yf\n",
        "import pandas as pd\n",
        "\n",
        "# Sembol listesi\n",
        "symbols = [\n",
        "    'KNC-USD', 'ZIL-USD', 'ZEN-USD', 'YGG-USD', 'LAT-USD', 'YFI-USD', 'XVS-USD', 'XTZ-USD',\n",
        "    'XRP-USD', 'XRD-USD', 'XMR-USD', 'XLM-USD', 'FARTCOIN-USD', 'XEM-USD', 'XEC-USD', 'XCN-USD',\n",
        "    'XCH-USD', 'WOO-USD', 'WOJAK-USD', 'WIN-USD'\n",
        "]\n",
        "\n",
        "# Veri çekme ve değişim hesaplama fonksiyonu\n",
        "def calculate_change(symbol):\n",
        "    ticker = yf.Ticker(symbol)\n",
        "    hist = ticker.history(period=\"max\")\n",
        "\n",
        "    if hist.empty:\n",
        "        return None, None, None\n",
        "\n",
        "    first_open = hist['Open'].iloc[0]\n",
        "    last_close = hist['Close'].iloc[-1]\n",
        "    percent_change = ((last_close - first_open) / first_open) * 100\n",
        "\n",
        "    return first_open, last_close, percent_change\n",
        "\n",
        "# Sonuçları depolamak için bir DataFrame oluştur\n",
        "results = []\n",
        "\n",
        "# Her sembol için veri çek ve değişimi hesapla\n",
        "for symbol in symbols:\n",
        "    first_open, last_close, percent_change = calculate_change(symbol)\n",
        "    if first_open is not None:\n",
        "        results.append([symbol, first_open, last_close, percent_change])\n",
        "\n",
        "# DataFrame'e dönüştür\n",
        "df = pd.DataFrame(results, columns=['Symbol', 'First Open', 'Last Close', 'Change %'])\n",
        "\n",
        "# Sonuçları yazdır\n",
        "print(df)"
      ]
    }
  ]
}