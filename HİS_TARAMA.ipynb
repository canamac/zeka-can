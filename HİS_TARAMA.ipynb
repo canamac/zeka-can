{
  "nbformat": 4,
  "nbformat_minor": 0,
  "metadata": {
    "colab": {
      "provenance": [],
      "authorship_tag": "ABX9TyODKTPQ1v6g96lhB2VRuUJB",
      "include_colab_link": true
    },
    "kernelspec": {
      "name": "python3",
      "display_name": "Python 3"
    },
    "language_info": {
      "name": "python"
    }
  },
  "cells": [
    {
      "cell_type": "markdown",
      "metadata": {
        "id": "view-in-github",
        "colab_type": "text"
      },
      "source": [
        "<a href=\"https://colab.research.google.com/github/canamac/zeka-can/blob/main/H%C4%B0S_TARAMA.ipynb\" target=\"_parent\"><img src=\"https://colab.research.google.com/assets/colab-badge.svg\" alt=\"Open In Colab\"/></a>"
      ]
    },
    {
      "cell_type": "code",
      "execution_count": null,
      "metadata": {
        "id": "s0lKn4qVsoq0"
      },
      "outputs": [],
      "source": [
        "pip install pandas_ta\n",
        "import pandas as pd\n",
        "import pandas_ta as ta\n",
        "import ssl\n",
        "from urllib import request\n",
        "import requests\n",
        "import matplotlib.pyplot as plt\n",
        "\n",
        "def Hisse_Temel_Veriler():\n",
        "    url1=\"https://www.isyatirim.com.tr/tr-tr/analiz/hisse/Sayfalar/Temel-Degerler-Ve-Oranlar.aspx#page-1\"\n",
        "    context = ssl._create_unverified_context()\n",
        "    response = request.urlopen(url1, context=context)\n",
        "    url1 = response.read()\n",
        "    df = pd.read_html(url1,decimal=',', thousands='.')                         #Tüm Hisselerin Tablolarını Aktar\n",
        "    df=df[6]\n",
        "    Hisseler=df['Kod'].values.tolist()\n",
        "    return Hisseler\n",
        "\n",
        "def Stock_Prices(Hisse,period=120,Bar=100):\n",
        "    url = f\"https://www.isyatirim.com.tr/_Layouts/15/IsYatirim.Website/Common/ChartData.aspx/IntradayDelay?period={period}&code={Hisse}.E.BIST&last={Bar}\"\n",
        "    r1 = requests.get(url).json()\n",
        "    data = pd.DataFrame.from_dict(r1)\n",
        "    data[['Volume', 'Close']] = pd.DataFrame(data['data'].tolist(), index=data.index)\n",
        "    data.drop(columns=['data'], inplace=True)\n",
        "    return data\n",
        "\n",
        "def BBands_Squeeze(data,length=20,stdev=2,perct=2.5):\n",
        "    df=data.copy()\n",
        "    stdev=float(stdev)\n",
        "    BBands=ta.bbands(df['Close'],length=20)\n",
        "    BBands['Band_Width'] = BBands['BBU_'+str(length)+'_'+str(stdev)] - BBands['BBL_'+str(length)+'_'+str(stdev)]\n",
        "    BBands['Band_Width_Percentage'] = (BBands['Band_Width'] / BBands['BBM_'+str(length)+'_'+str(stdev)]) * 100\n",
        "    BBands['Squeeze'] = BBands.apply(lambda x: 1 if x['Band_Width_Percentage'] < perct else 0, axis=1)\n",
        "    return BBands\n",
        "\n",
        "def Plot_BBands_with_Squeze(Hisse,data,BBands,length=20,stdev=2):\n",
        "    plt.close()\n",
        "    stdev=float(stdev)\n",
        "    last_10_squeeze = BBands['Squeeze'].iloc[-10:].tolist()\n",
        "    last_perct=BBands['Band_Width_Percentage'].iloc[-1:].tolist()\n",
        "\n",
        "    if 1 in last_10_squeeze:\n",
        "        # Verileri ve Bollinger bantlarını çiz\n",
        "        plt.figure(figsize=(10, 5))\n",
        "        plt.plot(data.index, data['Close'], label='Close Price')\n",
        "        plt.plot(BBands.index, BBands['BBU_'+str(length)+'_'+str(stdev)], label='Upper Band', color='green',linestyle='--')\n",
        "        plt.plot(BBands.index, BBands['BBL_'+str(length)+'_'+str(stdev)], label='Lower Band', color='red',linestyle='--')\n",
        "        plt.plot(BBands.index, BBands['BBM_'+str(length)+'_'+str(stdev)], label='Middle Band', color='blue',linestyle='--')\n",
        "        last_squeeze_point = BBands[BBands['Squeeze'] == 1].index[-1]\n",
        "        plt.axvline(x=last_squeeze_point, color='orange', linestyle='--', alpha=0.5)\n",
        "        plt.legend()\n",
        "        plt.title(f'{Hisse} Bollinger Bands Sıkışması')\n",
        "        plt.xlabel('Date')\n",
        "        plt.ylabel('Price')\n",
        "        plt.grid()\n",
        "        plt.savefig(f'{Hisse}_BB_Sıkışması.png', bbox_inches='tight', dpi=200)\n",
        "    else:\n",
        "        return\n",
        "    return\n",
        "Hisseler=Hisse_Temel_Veriler()\n",
        "\n",
        "for i in range(0,len(Hisseler)):\n",
        "    print(Hisseler[i])\n",
        "    try:\n",
        "        P=240\n",
        "        B=100\n",
        "        L=20\n",
        "        S=2\n",
        "        Perc=2.5\n",
        "        data=Stock_Prices(Hisseler[i],period=P,Bar=B)\n",
        "        BBands=BBands_Squeeze(data,length=L,stdev=S,perct=Perc)\n",
        "        Plot_BBands_with_Squeze(Hisseler[i],data,BBands,length=L,stdev=S)\n",
        "    except:\n",
        "        pass\n"
      ]
    }
  ]
}