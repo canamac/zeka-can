{
  "nbformat": 4,
  "nbformat_minor": 0,
  "metadata": {
    "colab": {
      "provenance": [],
      "include_colab_link": true
    },
    "kernelspec": {
      "name": "python3",
      "display_name": "Python 3"
    },
    "language_info": {
      "name": "python"
    }
  },
  "cells": [
    {
      "cell_type": "markdown",
      "metadata": {
        "id": "view-in-github",
        "colab_type": "text"
      },
      "source": [
        "<a href=\"https://colab.research.google.com/github/canamac/zeka-can/blob/main/Kripto_Dusen_Yukselen_Trendi_K%C4%B1ranlar.ipynb\" target=\"_parent\"><img src=\"https://colab.research.google.com/assets/colab-badge.svg\" alt=\"Open In Colab\"/></a>"
      ]
    },
    {
      "cell_type": "code",
      "execution_count": null,
      "metadata": {
        "colab": {
          "base_uri": "https://localhost:8080/"
        },
        "id": "nCSqY4sPMwAj",
        "outputId": "901a89c7-c201-4d3d-e574-f95eac3a5655"
      },
      "outputs": [
        {
          "output_type": "stream",
          "name": "stdout",
          "text": [
            "Collecting git+https://github.com/rongardF/tvdatafeed\n",
            "  Cloning https://github.com/rongardF/tvdatafeed to /tmp/pip-req-build-6u5mjbh5\n",
            "  Running command git clone --filter=blob:none --quiet https://github.com/rongardF/tvdatafeed /tmp/pip-req-build-6u5mjbh5\n",
            "  Resolved https://github.com/rongardF/tvdatafeed to commit e6f6aaa7de439ac6e454d9b26d2760ded8dc4923\n",
            "  Preparing metadata (setup.py) ... \u001b[?25l\u001b[?25hdone\n",
            "Requirement already satisfied: tradingview-screener in /usr/local/lib/python3.10/dist-packages (2.5.0)\n",
            "Requirement already satisfied: setuptools in /usr/local/lib/python3.10/dist-packages (from tvdatafeed==2.1.0) (75.1.0)\n",
            "Requirement already satisfied: pandas in /usr/local/lib/python3.10/dist-packages (from tvdatafeed==2.1.0) (2.2.2)\n",
            "Requirement already satisfied: websocket-client in /usr/local/lib/python3.10/dist-packages (from tvdatafeed==2.1.0) (1.8.0)\n",
            "Requirement already satisfied: requests in /usr/local/lib/python3.10/dist-packages (from tvdatafeed==2.1.0) (2.32.3)\n",
            "Requirement already satisfied: numpy>=1.22.4 in /usr/local/lib/python3.10/dist-packages (from pandas->tvdatafeed==2.1.0) (1.26.4)\n",
            "Requirement already satisfied: python-dateutil>=2.8.2 in /usr/local/lib/python3.10/dist-packages (from pandas->tvdatafeed==2.1.0) (2.8.2)\n",
            "Requirement already satisfied: pytz>=2020.1 in /usr/local/lib/python3.10/dist-packages (from pandas->tvdatafeed==2.1.0) (2024.2)\n",
            "Requirement already satisfied: tzdata>=2022.7 in /usr/local/lib/python3.10/dist-packages (from pandas->tvdatafeed==2.1.0) (2024.2)\n",
            "Requirement already satisfied: charset-normalizer<4,>=2 in /usr/local/lib/python3.10/dist-packages (from requests->tvdatafeed==2.1.0) (3.4.0)\n",
            "Requirement already satisfied: idna<4,>=2.5 in /usr/local/lib/python3.10/dist-packages (from requests->tvdatafeed==2.1.0) (3.10)\n",
            "Requirement already satisfied: urllib3<3,>=1.21.1 in /usr/local/lib/python3.10/dist-packages (from requests->tvdatafeed==2.1.0) (2.2.3)\n",
            "Requirement already satisfied: certifi>=2017.4.17 in /usr/local/lib/python3.10/dist-packages (from requests->tvdatafeed==2.1.0) (2024.8.30)\n",
            "Requirement already satisfied: six>=1.5 in /usr/local/lib/python3.10/dist-packages (from python-dateutil>=2.8.2->pandas->tvdatafeed==2.1.0) (1.16.0)\n",
            "Collecting git+https://github.com/rongardF/tvdatafeed\n",
            "  Cloning https://github.com/rongardF/tvdatafeed to /tmp/pip-req-build-ldyllyd4\n",
            "  Running command git clone --filter=blob:none --quiet https://github.com/rongardF/tvdatafeed /tmp/pip-req-build-ldyllyd4\n",
            "  Resolved https://github.com/rongardF/tvdatafeed to commit e6f6aaa7de439ac6e454d9b26d2760ded8dc4923\n",
            "  Preparing metadata (setup.py) ... \u001b[?25l\u001b[?25hdone\n",
            "Requirement already satisfied: tradingview-screener in /usr/local/lib/python3.10/dist-packages (2.5.0)\n",
            "Requirement already satisfied: matplotlib in /usr/local/lib/python3.10/dist-packages (3.8.0)\n",
            "Requirement already satisfied: scipy in /usr/local/lib/python3.10/dist-packages (1.13.1)\n",
            "Requirement already satisfied: setuptools in /usr/local/lib/python3.10/dist-packages (from tvdatafeed==2.1.0) (75.1.0)\n",
            "Requirement already satisfied: pandas in /usr/local/lib/python3.10/dist-packages (from tvdatafeed==2.1.0) (2.2.2)\n",
            "Requirement already satisfied: websocket-client in /usr/local/lib/python3.10/dist-packages (from tvdatafeed==2.1.0) (1.8.0)\n",
            "Requirement already satisfied: requests in /usr/local/lib/python3.10/dist-packages (from tvdatafeed==2.1.0) (2.32.3)\n",
            "Requirement already satisfied: contourpy>=1.0.1 in /usr/local/lib/python3.10/dist-packages (from matplotlib) (1.3.1)\n",
            "Requirement already satisfied: cycler>=0.10 in /usr/local/lib/python3.10/dist-packages (from matplotlib) (0.12.1)\n",
            "Requirement already satisfied: fonttools>=4.22.0 in /usr/local/lib/python3.10/dist-packages (from matplotlib) (4.55.0)\n",
            "Requirement already satisfied: kiwisolver>=1.0.1 in /usr/local/lib/python3.10/dist-packages (from matplotlib) (1.4.7)\n",
            "Requirement already satisfied: numpy<2,>=1.21 in /usr/local/lib/python3.10/dist-packages (from matplotlib) (1.26.4)\n",
            "Requirement already satisfied: packaging>=20.0 in /usr/local/lib/python3.10/dist-packages (from matplotlib) (24.2)\n",
            "Requirement already satisfied: pillow>=6.2.0 in /usr/local/lib/python3.10/dist-packages (from matplotlib) (11.0.0)\n",
            "Requirement already satisfied: pyparsing>=2.3.1 in /usr/local/lib/python3.10/dist-packages (from matplotlib) (3.2.0)\n",
            "Requirement already satisfied: python-dateutil>=2.7 in /usr/local/lib/python3.10/dist-packages (from matplotlib) (2.8.2)\n",
            "Requirement already satisfied: pytz>=2020.1 in /usr/local/lib/python3.10/dist-packages (from pandas->tvdatafeed==2.1.0) (2024.2)\n",
            "Requirement already satisfied: tzdata>=2022.7 in /usr/local/lib/python3.10/dist-packages (from pandas->tvdatafeed==2.1.0) (2024.2)\n",
            "Requirement already satisfied: six>=1.5 in /usr/local/lib/python3.10/dist-packages (from python-dateutil>=2.7->matplotlib) (1.16.0)\n",
            "Requirement already satisfied: charset-normalizer<4,>=2 in /usr/local/lib/python3.10/dist-packages (from requests->tvdatafeed==2.1.0) (3.4.0)\n",
            "Requirement already satisfied: idna<4,>=2.5 in /usr/local/lib/python3.10/dist-packages (from requests->tvdatafeed==2.1.0) (3.10)\n",
            "Requirement already satisfied: urllib3<3,>=1.21.1 in /usr/local/lib/python3.10/dist-packages (from requests->tvdatafeed==2.1.0) (2.2.3)\n",
            "Requirement already satisfied: certifi>=2017.4.17 in /usr/local/lib/python3.10/dist-packages (from requests->tvdatafeed==2.1.0) (2024.8.30)\n",
            "Requirement already satisfied: tqdm in /usr/local/lib/python3.10/dist-packages (4.66.6)\n"
          ]
        },
        {
          "output_type": "stream",
          "name": "stderr",
          "text": [
            "WARNING:tvDatafeed.main:you are using nologin method, data you access may be limited\n"
          ]
        },
        {
          "output_type": "stream",
          "name": "stdout",
          "text": [
            "Kaç farklı zaman diliminde tarama yapmak istiyorsunuz?\n",
            "1: Tek Zaman Dilimi\n",
            "2: İki Zaman Dilimi\n",
            "Seçiminizi yapın (1-2): 1\n",
            "Lütfen zaman dilimi(lerini) seçin:\n",
            "1: 15 Dakika - 144 bar\n",
            "2: 30 Dakika - 89 bar\n",
            "3: 1 Saat - 89 bar\n",
            "4: 4 Saat - 89 bar\n",
            "5: Günlük - 55 bar\n",
            "6: Haftalık - 55 bar\n",
            "Birinci zaman dilimini seçin (1-6): 1\n",
            "Seçilen zaman dilimi: 15 Dakika, Bar sayısı: 144\n"
          ]
        },
        {
          "output_type": "stream",
          "name": "stderr",
          "text": [
            "\rTarama Yapılıyor:   0%|          | 0/53 [00:00<?, ?kripto/s]"
          ]
        },
        {
          "output_type": "stream",
          "name": "stdout",
          "text": [
            "\n",
            "1000SATSUSDT için veri çekiliyor...\n",
            "1000SATSUSDT: Veri başarıyla çekildi. Satır sayısı: 500\n"
          ]
        },
        {
          "output_type": "stream",
          "name": "stderr",
          "text": [
            "\rTarama Yapılıyor:   2%|▏         | 1/53 [00:00<00:45,  1.15kripto/s]"
          ]
        },
        {
          "output_type": "stream",
          "name": "stdout",
          "text": [
            "\u001b[33m1000SATSUSDT: Yukarı kırılım tespit edildi. Fiyat: 0.0002668\u001b[0m\n",
            "\n",
            "1INCHUSDT için veri çekiliyor...\n",
            "1INCHUSDT: Veri başarıyla çekildi. Satır sayısı: 500\n"
          ]
        },
        {
          "output_type": "stream",
          "name": "stderr",
          "text": [
            "\rTarama Yapılıyor:   4%|▍         | 2/53 [00:01<00:43,  1.16kripto/s]"
          ]
        },
        {
          "output_type": "stream",
          "name": "stdout",
          "text": [
            "\u001b[33m1INCHUSDT: Yukarı kırılım tespit edildi. Fiyat: 0.465\u001b[0m\n",
            "\n",
            "1MBABYDOGEUSDT için veri çekiliyor...\n",
            "1MBABYDOGEUSDT: Veri başarıyla çekildi. Satır sayısı: 500\n"
          ]
        },
        {
          "output_type": "stream",
          "name": "stderr",
          "text": [
            "\rTarama Yapılıyor:   6%|▌         | 3/53 [00:02<00:45,  1.10kripto/s]"
          ]
        },
        {
          "output_type": "stream",
          "name": "stdout",
          "text": [
            "\u001b[33m1MBABYDOGEUSDT: Aşağı kırılım tespit edildi. Fiyat: 0.0023666\u001b[0m\n",
            "\n",
            "AAVEUSDT için veri çekiliyor...\n",
            "AAVEUSDT: Veri başarıyla çekildi. Satır sayısı: 500\n"
          ]
        },
        {
          "output_type": "stream",
          "name": "stderr",
          "text": [
            "\rTarama Yapılıyor:   8%|▊         | 4/53 [00:03<00:44,  1.11kripto/s]"
          ]
        },
        {
          "output_type": "stream",
          "name": "stdout",
          "text": [
            "\u001b[33mAAVEUSDT: Yukarı kırılım tespit edildi. Fiyat: 231.65\u001b[0m\n",
            "\n",
            "ACAUSDT için veri çekiliyor...\n",
            "ACAUSDT: Veri başarıyla çekildi. Satır sayısı: 500\n"
          ]
        },
        {
          "output_type": "stream",
          "name": "stderr",
          "text": [
            "\rTarama Yapılıyor:   9%|▉         | 5/53 [00:04<00:40,  1.18kripto/s]"
          ]
        },
        {
          "output_type": "stream",
          "name": "stdout",
          "text": [
            "\u001b[33mACAUSDT: Aşağı kırılım tespit edildi. Fiyat: 0.097\u001b[0m\n",
            "\n",
            "ACEUSDT için veri çekiliyor...\n",
            "ACEUSDT: Veri başarıyla çekildi. Satır sayısı: 500\n"
          ]
        },
        {
          "output_type": "stream",
          "name": "stderr",
          "text": [
            "\rTarama Yapılıyor:  11%|█▏        | 6/53 [00:05<00:38,  1.23kripto/s]"
          ]
        },
        {
          "output_type": "stream",
          "name": "stdout",
          "text": [
            "ACEUSDT: Kırılım tespit edilmedi.\n",
            "\n",
            "ACHUSDT için veri çekiliyor...\n",
            "ACHUSDT: Veri başarıyla çekildi. Satır sayısı: 500\n"
          ]
        },
        {
          "output_type": "stream",
          "name": "stderr",
          "text": [
            "\rTarama Yapılıyor:  13%|█▎        | 7/53 [00:05<00:35,  1.30kripto/s]"
          ]
        },
        {
          "output_type": "stream",
          "name": "stdout",
          "text": [
            "\u001b[33mACHUSDT: Yukarı kırılım tespit edildi. Fiyat: 0.02999\u001b[0m\n",
            "\n",
            "ACMUSDT için veri çekiliyor...\n",
            "ACMUSDT: Veri başarıyla çekildi. Satır sayısı: 500\n"
          ]
        },
        {
          "output_type": "stream",
          "name": "stderr",
          "text": [
            "\rTarama Yapılıyor:  15%|█▌        | 8/53 [00:06<00:34,  1.31kripto/s]"
          ]
        },
        {
          "output_type": "stream",
          "name": "stdout",
          "text": [
            "\u001b[33mACMUSDT: Yukarı kırılım tespit edildi. Fiyat: 1.812\u001b[0m\n",
            "\n",
            "ADAUSDT için veri çekiliyor...\n",
            "ADAUSDT: Veri başarıyla çekildi. Satır sayısı: 500\n"
          ]
        },
        {
          "output_type": "stream",
          "name": "stderr",
          "text": [
            "\rTarama Yapılıyor:  17%|█▋        | 9/53 [00:07<00:32,  1.35kripto/s]"
          ]
        },
        {
          "output_type": "stream",
          "name": "stdout",
          "text": [
            "ADAUSDT: Kırılım tespit edilmedi.\n",
            "\n",
            "ADXUSDT için veri çekiliyor...\n",
            "ADXUSDT: Veri başarıyla çekildi. Satır sayısı: 500\n"
          ]
        },
        {
          "output_type": "stream",
          "name": "stderr",
          "text": [
            "\rTarama Yapılıyor:  19%|█▉        | 10/53 [00:07<00:31,  1.39kripto/s]"
          ]
        },
        {
          "output_type": "stream",
          "name": "stdout",
          "text": [
            "\u001b[33mADXUSDT: Aşağı kırılım tespit edildi. Fiyat: 0.2096\u001b[0m\n",
            "\n",
            "AERGOUSDT için veri çekiliyor...\n",
            "AERGOUSDT: Veri başarıyla çekildi. Satır sayısı: 500\n"
          ]
        },
        {
          "output_type": "stream",
          "name": "stderr",
          "text": [
            "\rTarama Yapılıyor:  21%|██        | 11/53 [00:08<00:29,  1.41kripto/s]"
          ]
        },
        {
          "output_type": "stream",
          "name": "stdout",
          "text": [
            "AERGOUSDT: Kırılım tespit edilmedi.\n",
            "\n",
            "AEURUSDT için veri çekiliyor...\n",
            "AEURUSDT: Veri başarıyla çekildi. Satır sayısı: 500\n"
          ]
        },
        {
          "output_type": "stream",
          "name": "stderr",
          "text": [
            "\rTarama Yapılıyor:  23%|██▎       | 12/53 [00:09<00:31,  1.31kripto/s]"
          ]
        },
        {
          "output_type": "stream",
          "name": "stdout",
          "text": [
            "\u001b[33mAEURUSDT: Aşağı kırılım tespit edildi. Fiyat: 1.0465\u001b[0m\n",
            "\n",
            "AEVOUSDT için veri çekiliyor...\n",
            "AEVOUSDT: Veri başarıyla çekildi. Satır sayısı: 500\n"
          ]
        },
        {
          "output_type": "stream",
          "name": "stderr",
          "text": [
            "\rTarama Yapılıyor:  25%|██▍       | 13/53 [00:10<00:31,  1.27kripto/s]"
          ]
        },
        {
          "output_type": "stream",
          "name": "stdout",
          "text": [
            "\u001b[33mAEVOUSDT: Yukarı kırılım tespit edildi. Fiyat: 0.5073\u001b[0m\n",
            "\n",
            "AGLDUSDT için veri çekiliyor...\n",
            "AGLDUSDT: Veri başarıyla çekildi. Satır sayısı: 500\n"
          ]
        },
        {
          "output_type": "stream",
          "name": "stderr",
          "text": [
            "\rTarama Yapılıyor:  26%|██▋       | 14/53 [00:11<00:30,  1.28kripto/s]"
          ]
        },
        {
          "output_type": "stream",
          "name": "stdout",
          "text": [
            "AGLDUSDT: Kırılım tespit edilmedi.\n",
            "\n",
            "AIUSDT için veri çekiliyor...\n",
            "AIUSDT: Veri başarıyla çekildi. Satır sayısı: 500\n"
          ]
        },
        {
          "output_type": "stream",
          "name": "stderr",
          "text": [
            "\rTarama Yapılıyor:  28%|██▊       | 15/53 [00:11<00:29,  1.28kripto/s]"
          ]
        },
        {
          "output_type": "stream",
          "name": "stdout",
          "text": [
            "AIUSDT: Kırılım tespit edilmedi.\n",
            "\n",
            "AKROUSDT için veri çekiliyor...\n",
            "AKROUSDT: Veri başarıyla çekildi. Satır sayısı: 500\n"
          ]
        },
        {
          "output_type": "stream",
          "name": "stderr",
          "text": [
            "\rTarama Yapılıyor:  30%|███       | 16/53 [00:13<00:37,  1.00s/kripto]"
          ]
        },
        {
          "output_type": "stream",
          "name": "stdout",
          "text": [
            "\u001b[33mAKROUSDT: Aşağı kırılım tespit edildi. Fiyat: 0.004733\u001b[0m\n",
            "\n",
            "ALCXUSDT için veri çekiliyor...\n",
            "ALCXUSDT: Veri başarıyla çekildi. Satır sayısı: 500\n"
          ]
        },
        {
          "output_type": "stream",
          "name": "stderr",
          "text": [
            "\rTarama Yapılıyor:  32%|███▏      | 17/53 [00:14<00:33,  1.07kripto/s]"
          ]
        },
        {
          "output_type": "stream",
          "name": "stdout",
          "text": [
            "\u001b[33mALCXUSDT: Yukarı kırılım tespit edildi. Fiyat: 21.96\u001b[0m\n",
            "\n",
            "ALGOUSDT için veri çekiliyor...\n",
            "ALGOUSDT: Veri başarıyla çekildi. Satır sayısı: 500\n"
          ]
        },
        {
          "output_type": "stream",
          "name": "stderr",
          "text": [
            "\rTarama Yapılıyor:  34%|███▍      | 18/53 [00:14<00:31,  1.11kripto/s]"
          ]
        },
        {
          "output_type": "stream",
          "name": "stdout",
          "text": [
            "\u001b[33mALGOUSDT: Aşağı kırılım tespit edildi. Fiyat: 0.4955\u001b[0m\n",
            "\n",
            "ALICEUSDT için veri çekiliyor...\n",
            "ALICEUSDT: Veri başarıyla çekildi. Satır sayısı: 500\n"
          ]
        },
        {
          "output_type": "stream",
          "name": "stderr",
          "text": [
            "\rTarama Yapılıyor:  36%|███▌      | 19/53 [00:15<00:31,  1.07kripto/s]"
          ]
        },
        {
          "output_type": "stream",
          "name": "stdout",
          "text": [
            "ALICEUSDT: Kırılım tespit edilmedi.\n",
            "\n",
            "ALPACAUSDT için veri çekiliyor...\n",
            "ALPACAUSDT: Veri başarıyla çekildi. Satır sayısı: 500\n"
          ]
        },
        {
          "output_type": "stream",
          "name": "stderr",
          "text": [
            "\rTarama Yapılıyor:  38%|███▊      | 20/53 [00:16<00:29,  1.13kripto/s]"
          ]
        },
        {
          "output_type": "stream",
          "name": "stdout",
          "text": [
            "\u001b[33mALPACAUSDT: Yukarı kırılım tespit edildi. Fiyat: 0.24\u001b[0m\n",
            "\n",
            "ALPHAUSDT için veri çekiliyor...\n",
            "ALPHAUSDT: Veri başarıyla çekildi. Satır sayısı: 500\n"
          ]
        },
        {
          "output_type": "stream",
          "name": "stderr",
          "text": [
            "\rTarama Yapılıyor:  40%|███▉      | 21/53 [00:17<00:26,  1.20kripto/s]"
          ]
        },
        {
          "output_type": "stream",
          "name": "stdout",
          "text": [
            "\u001b[33mALPHAUSDT: Aşağı kırılım tespit edildi. Fiyat: 0.1117\u001b[0m\n",
            "\n",
            "ALPINEUSDT için veri çekiliyor...\n",
            "ALPINEUSDT: Veri başarıyla çekildi. Satır sayısı: 500\n"
          ]
        },
        {
          "output_type": "stream",
          "name": "stderr",
          "text": [
            "\rTarama Yapılıyor:  42%|████▏     | 22/53 [00:18<00:24,  1.26kripto/s]"
          ]
        },
        {
          "output_type": "stream",
          "name": "stdout",
          "text": [
            "ALPINEUSDT: Kırılım tespit edilmedi.\n",
            "\n",
            "ALTUSDT için veri çekiliyor...\n",
            "ALTUSDT: Veri başarıyla çekildi. Satır sayısı: 500\n"
          ]
        },
        {
          "output_type": "stream",
          "name": "stderr",
          "text": [
            "\rTarama Yapılıyor:  43%|████▎     | 23/53 [00:18<00:24,  1.23kripto/s]"
          ]
        },
        {
          "output_type": "stream",
          "name": "stdout",
          "text": [
            "\u001b[33mALTUSDT: Aşağı kırılım tespit edildi. Fiyat: 0.15465\u001b[0m\n",
            "\n",
            "AMBUSDT için veri çekiliyor...\n",
            "AMBUSDT: Veri başarıyla çekildi. Satır sayısı: 500\n"
          ]
        },
        {
          "output_type": "stream",
          "name": "stderr",
          "text": [
            "\rTarama Yapılıyor:  45%|████▌     | 24/53 [00:19<00:23,  1.24kripto/s]"
          ]
        },
        {
          "output_type": "stream",
          "name": "stdout",
          "text": [
            "\u001b[33mAMBUSDT: Aşağı kırılım tespit edildi. Fiyat: 0.00856\u001b[0m\n",
            "\n",
            "AMPUSDT için veri çekiliyor...\n",
            "AMPUSDT: Veri başarıyla çekildi. Satır sayısı: 500\n"
          ]
        },
        {
          "output_type": "stream",
          "name": "stderr",
          "text": [
            "\rTarama Yapılıyor:  47%|████▋     | 25/53 [00:20<00:22,  1.25kripto/s]"
          ]
        },
        {
          "output_type": "stream",
          "name": "stdout",
          "text": [
            "AMPUSDT: Kırılım tespit edilmedi.\n",
            "\n",
            "ANKRUSDT için veri çekiliyor...\n",
            "ANKRUSDT: Veri başarıyla çekildi. Satır sayısı: 500\n"
          ]
        },
        {
          "output_type": "stream",
          "name": "stderr",
          "text": [
            "\rTarama Yapılıyor:  49%|████▉     | 26/53 [00:21<00:20,  1.31kripto/s]"
          ]
        },
        {
          "output_type": "stream",
          "name": "stdout",
          "text": [
            "\u001b[33mANKRUSDT: Yukarı kırılım tespit edildi. Fiyat: 0.04231\u001b[0m\n",
            "\n",
            "APEUSDT için veri çekiliyor...\n",
            "APEUSDT: Veri başarıyla çekildi. Satır sayısı: 500\n"
          ]
        },
        {
          "output_type": "stream",
          "name": "stderr",
          "text": [
            "\rTarama Yapılıyor:  51%|█████     | 27/53 [00:21<00:19,  1.35kripto/s]"
          ]
        },
        {
          "output_type": "stream",
          "name": "stdout",
          "text": [
            "\u001b[33mAPEUSDT: Aşağı kırılım tespit edildi. Fiyat: 1.498\u001b[0m\n",
            "\n",
            "API3USDT için veri çekiliyor...\n",
            "API3USDT: Veri başarıyla çekildi. Satır sayısı: 500\n"
          ]
        },
        {
          "output_type": "stream",
          "name": "stderr",
          "text": [
            "\rTarama Yapılıyor:  53%|█████▎    | 28/53 [00:22<00:17,  1.39kripto/s]"
          ]
        },
        {
          "output_type": "stream",
          "name": "stdout",
          "text": [
            "API3USDT: Kırılım tespit edilmedi.\n",
            "\n",
            "APTUSDT için veri çekiliyor...\n",
            "APTUSDT: Veri başarıyla çekildi. Satır sayısı: 500\n"
          ]
        },
        {
          "output_type": "stream",
          "name": "stderr",
          "text": [
            "\rTarama Yapılıyor:  55%|█████▍    | 29/53 [00:23<00:17,  1.40kripto/s]"
          ]
        },
        {
          "output_type": "stream",
          "name": "stdout",
          "text": [
            "\u001b[33mAPTUSDT: Yukarı kırılım tespit edildi. Fiyat: 12.92\u001b[0m\n",
            "\n",
            "ARBUSDT için veri çekiliyor...\n",
            "ARBUSDT: Veri başarıyla çekildi. Satır sayısı: 500\n"
          ]
        },
        {
          "output_type": "stream",
          "name": "stderr",
          "text": [
            "\rTarama Yapılıyor:  57%|█████▋    | 30/53 [00:24<00:18,  1.25kripto/s]"
          ]
        },
        {
          "output_type": "stream",
          "name": "stdout",
          "text": [
            "\u001b[33mARBUSDT: Yukarı kırılım tespit edildi. Fiyat: 0.9596\u001b[0m\n",
            "\n",
            "ARDRUSDT için veri çekiliyor...\n",
            "ARDRUSDT: Veri başarıyla çekildi. Satır sayısı: 500\n"
          ]
        },
        {
          "output_type": "stream",
          "name": "stderr",
          "text": [
            "\rTarama Yapılıyor:  58%|█████▊    | 31/53 [00:25<00:17,  1.27kripto/s]"
          ]
        },
        {
          "output_type": "stream",
          "name": "stdout",
          "text": [
            "ARDRUSDT: Kırılım tespit edilmedi.\n",
            "\n",
            "ARKMUSDT için veri çekiliyor...\n",
            "ARKMUSDT: Veri başarıyla çekildi. Satır sayısı: 500\n"
          ]
        },
        {
          "output_type": "stream",
          "name": "stderr",
          "text": [
            "\rTarama Yapılıyor:  60%|██████    | 32/53 [00:25<00:15,  1.33kripto/s]"
          ]
        },
        {
          "output_type": "stream",
          "name": "stdout",
          "text": [
            "ARKMUSDT: Kırılım tespit edilmedi.\n",
            "\n",
            "ARKUSDT için veri çekiliyor...\n",
            "ARKUSDT: Veri başarıyla çekildi. Satır sayısı: 500\n"
          ]
        },
        {
          "output_type": "stream",
          "name": "stderr",
          "text": [
            "\rTarama Yapılıyor:  62%|██████▏   | 33/53 [00:26<00:15,  1.33kripto/s]"
          ]
        },
        {
          "output_type": "stream",
          "name": "stdout",
          "text": [
            "ARKUSDT: Kırılım tespit edilmedi.\n",
            "\n",
            "ARPAUSDT için veri çekiliyor...\n",
            "ARPAUSDT: Veri başarıyla çekildi. Satır sayısı: 500\n"
          ]
        },
        {
          "output_type": "stream",
          "name": "stderr",
          "text": [
            "\rTarama Yapılıyor:  64%|██████▍   | 34/53 [00:28<00:23,  1.21s/kripto]"
          ]
        },
        {
          "output_type": "stream",
          "name": "stdout",
          "text": [
            "ARPAUSDT: Kırılım tespit edilmedi.\n",
            "\n",
            "ARUSDT için veri çekiliyor...\n",
            "ARUSDT: Veri başarıyla çekildi. Satır sayısı: 500\n"
          ]
        },
        {
          "output_type": "stream",
          "name": "stderr",
          "text": [
            "\rTarama Yapılıyor:  66%|██████▌   | 35/53 [00:29<00:18,  1.05s/kripto]"
          ]
        },
        {
          "output_type": "stream",
          "name": "stdout",
          "text": [
            "\u001b[33mARUSDT: Aşağı kırılım tespit edildi. Fiyat: 25.45\u001b[0m\n",
            "\n",
            "ASRUSDT için veri çekiliyor...\n",
            "ASRUSDT: Veri başarıyla çekildi. Satır sayısı: 500\n"
          ]
        },
        {
          "output_type": "stream",
          "name": "stderr",
          "text": [
            "\rTarama Yapılıyor:  68%|██████▊   | 36/53 [00:30<00:17,  1.01s/kripto]"
          ]
        },
        {
          "output_type": "stream",
          "name": "stdout",
          "text": [
            "ASRUSDT: Kırılım tespit edilmedi.\n",
            "\n",
            "ASTRUSDT için veri çekiliyor...\n",
            "ASTRUSDT: Veri başarıyla çekildi. Satır sayısı: 500\n"
          ]
        },
        {
          "output_type": "stream",
          "name": "stderr",
          "text": [
            "\rTarama Yapılıyor:  70%|██████▉   | 37/53 [00:31<00:17,  1.10s/kripto]"
          ]
        },
        {
          "output_type": "stream",
          "name": "stdout",
          "text": [
            "ASTRUSDT: Kırılım tespit edilmedi.\n",
            "\n",
            "ASTUSDT için veri çekiliyor...\n",
            "ASTUSDT: Veri başarıyla çekildi. Satır sayısı: 500\n"
          ]
        },
        {
          "output_type": "stream",
          "name": "stderr",
          "text": [
            "\rTarama Yapılıyor:  72%|███████▏  | 38/53 [00:32<00:14,  1.00kripto/s]"
          ]
        },
        {
          "output_type": "stream",
          "name": "stdout",
          "text": [
            "\u001b[33mASTUSDT: Yukarı kırılım tespit edildi. Fiyat: 0.1055\u001b[0m\n",
            "\n",
            "ATAUSDT için veri çekiliyor...\n",
            "ATAUSDT: Veri başarıyla çekildi. Satır sayısı: 500\n"
          ]
        },
        {
          "output_type": "stream",
          "name": "stderr",
          "text": [
            "\rTarama Yapılıyor:  74%|███████▎  | 39/53 [00:33<00:12,  1.11kripto/s]"
          ]
        },
        {
          "output_type": "stream",
          "name": "stdout",
          "text": [
            "ATAUSDT: Kırılım tespit edilmedi.\n",
            "\n",
            "ATMUSDT için veri çekiliyor...\n",
            "ATMUSDT: Veri başarıyla çekildi. Satır sayısı: 500\n"
          ]
        },
        {
          "output_type": "stream",
          "name": "stderr",
          "text": [
            "\rTarama Yapılıyor:  75%|███████▌  | 40/53 [00:33<00:10,  1.21kripto/s]"
          ]
        },
        {
          "output_type": "stream",
          "name": "stdout",
          "text": [
            "\u001b[33mATMUSDT: Yukarı kırılım tespit edildi. Fiyat: 2.225\u001b[0m\n",
            "\n",
            "ATOMUSDT için veri çekiliyor...\n",
            "ATOMUSDT: Veri başarıyla çekildi. Satır sayısı: 500\n"
          ]
        },
        {
          "output_type": "stream",
          "name": "stderr",
          "text": [
            "\rTarama Yapılıyor:  77%|███████▋  | 41/53 [00:34<00:09,  1.23kripto/s]"
          ]
        },
        {
          "output_type": "stream",
          "name": "stdout",
          "text": [
            "\u001b[33mATOMUSDT: Aşağı kırılım tespit edildi. Fiyat: 8.751\u001b[0m\n",
            "\n",
            "AUCTIONUSDT için veri çekiliyor...\n",
            "AUCTIONUSDT: Veri başarıyla çekildi. Satır sayısı: 500\n"
          ]
        },
        {
          "output_type": "stream",
          "name": "stderr",
          "text": [
            "\rTarama Yapılıyor:  79%|███████▉  | 42/53 [00:35<00:08,  1.30kripto/s]"
          ]
        },
        {
          "output_type": "stream",
          "name": "stdout",
          "text": [
            "\u001b[33mAUCTIONUSDT: Yukarı kırılım tespit edildi. Fiyat: 18.92\u001b[0m\n",
            "\n",
            "AUDIOUSDT için veri çekiliyor...\n",
            "AUDIOUSDT: Veri başarıyla çekildi. Satır sayısı: 500\n"
          ]
        },
        {
          "output_type": "stream",
          "name": "stderr",
          "text": [
            "\rTarama Yapılıyor:  81%|████████  | 43/53 [00:35<00:07,  1.33kripto/s]"
          ]
        },
        {
          "output_type": "stream",
          "name": "stdout",
          "text": [
            "AUDIOUSDT: Kırılım tespit edilmedi.\n",
            "\n",
            "AVAUSDT için veri çekiliyor...\n",
            "AVAUSDT: Veri başarıyla çekildi. Satır sayısı: 500\n"
          ]
        },
        {
          "output_type": "stream",
          "name": "stderr",
          "text": [
            "\rTarama Yapılıyor:  83%|████████▎ | 44/53 [00:36<00:06,  1.40kripto/s]"
          ]
        },
        {
          "output_type": "stream",
          "name": "stdout",
          "text": [
            "AVAUSDT: Kırılım tespit edilmedi.\n",
            "\n",
            "AVAXUSDT için veri çekiliyor...\n",
            "AVAXUSDT: Veri başarıyla çekildi. Satır sayısı: 500\n"
          ]
        },
        {
          "output_type": "stream",
          "name": "stderr",
          "text": [
            "\rTarama Yapılıyor:  85%|████████▍ | 45/53 [00:37<00:05,  1.44kripto/s]"
          ]
        },
        {
          "output_type": "stream",
          "name": "stdout",
          "text": [
            "\u001b[33mAVAXUSDT: Yukarı kırılım tespit edildi. Fiyat: 49.43\u001b[0m\n",
            "\n",
            "AXLUSDT için veri çekiliyor...\n",
            "AXLUSDT: Veri başarıyla çekildi. Satır sayısı: 500\n"
          ]
        },
        {
          "output_type": "stream",
          "name": "stderr",
          "text": [
            "\rTarama Yapılıyor:  87%|████████▋ | 46/53 [00:37<00:04,  1.48kripto/s]"
          ]
        },
        {
          "output_type": "stream",
          "name": "stdout",
          "text": [
            "AXLUSDT: Kırılım tespit edilmedi.\n",
            "\n",
            "AXSUSDT için veri çekiliyor...\n",
            "AXSUSDT: Veri başarıyla çekildi. Satır sayısı: 500\n"
          ]
        },
        {
          "output_type": "stream",
          "name": "stderr",
          "text": [
            "\rTarama Yapılıyor:  89%|████████▊ | 47/53 [00:38<00:04,  1.48kripto/s]"
          ]
        },
        {
          "output_type": "stream",
          "name": "stdout",
          "text": [
            "\u001b[33mAXSUSDT: Aşağı kırılım tespit edildi. Fiyat: 7.974\u001b[0m\n",
            "\n",
            "BADGERUSDT için veri çekiliyor...\n",
            "BADGERUSDT: Veri başarıyla çekildi. Satır sayısı: 500\n"
          ]
        },
        {
          "output_type": "stream",
          "name": "stderr",
          "text": [
            "\rTarama Yapılıyor:  91%|█████████ | 48/53 [00:39<00:03,  1.42kripto/s]"
          ]
        },
        {
          "output_type": "stream",
          "name": "stdout",
          "text": [
            "\u001b[33mBADGERUSDT: Yukarı kırılım tespit edildi. Fiyat: 3.898\u001b[0m\n",
            "\n",
            "BAKEUSDT için veri çekiliyor...\n",
            "BAKEUSDT: Veri başarıyla çekildi. Satır sayısı: 500\n"
          ]
        },
        {
          "output_type": "stream",
          "name": "stderr",
          "text": [
            "\rTarama Yapılıyor:  92%|█████████▏| 49/53 [00:40<00:02,  1.38kripto/s]"
          ]
        },
        {
          "output_type": "stream",
          "name": "stdout",
          "text": [
            "BAKEUSDT: Kırılım tespit edilmedi.\n",
            "\n",
            "DOTUSDT için veri çekiliyor...\n",
            "DOTUSDT: Veri başarıyla çekildi. Satır sayısı: 500\n"
          ]
        },
        {
          "output_type": "stream",
          "name": "stderr",
          "text": [
            "\rTarama Yapılıyor:  94%|█████████▍| 50/53 [00:40<00:02,  1.33kripto/s]"
          ]
        },
        {
          "output_type": "stream",
          "name": "stdout",
          "text": [
            "DOTUSDT: Kırılım tespit edilmedi.\n",
            "\n",
            "DUSKUSDT için veri çekiliyor...\n",
            "DUSKUSDT: Veri başarıyla çekildi. Satır sayısı: 500\n"
          ]
        },
        {
          "output_type": "stream",
          "name": "stderr",
          "text": [
            "\rTarama Yapılıyor:  96%|█████████▌| 51/53 [00:41<00:01,  1.35kripto/s]"
          ]
        },
        {
          "output_type": "stream",
          "name": "stdout",
          "text": [
            "\u001b[33mDUSKUSDT: Yukarı kırılım tespit edildi. Fiyat: 0.2798\u001b[0m\n",
            "\n",
            "DYDXUSDT için veri çekiliyor...\n",
            "DYDXUSDT: Veri başarıyla çekildi. Satır sayısı: 500\n"
          ]
        },
        {
          "output_type": "stream",
          "name": "stderr",
          "text": [
            "\rTarama Yapılıyor:  98%|█████████▊| 52/53 [00:42<00:00,  1.38kripto/s]"
          ]
        },
        {
          "output_type": "stream",
          "name": "stdout",
          "text": [
            "\u001b[33mDYDXUSDT: Yukarı kırılım tespit edildi. Fiyat: 1.7509\u001b[0m\n",
            "\n",
            "DYMUSDT için veri çekiliyor...\n",
            "DYMUSDT: Veri başarıyla çekildi. Satır sayısı: 500\n"
          ]
        },
        {
          "output_type": "stream",
          "name": "stderr",
          "text": [
            "Tarama Yapılıyor: 100%|██████████| 53/53 [00:42<00:00,  1.23kripto/s]"
          ]
        },
        {
          "output_type": "stream",
          "name": "stdout",
          "text": [
            "\u001b[33mDYMUSDT: Yukarı kırılım tespit edildi. Fiyat: 2.225\u001b[0m\n",
            "\n",
            "Koşula Uyan Kripto Çiftleri Listesi:\n",
            "       Kripto Para   Son Fiyat   Breakout Türü  Kırılım Zamanı Zaman Dilimi\n",
            "0     1000SATSUSDT    0.000267  Yukarı Kırılım             499    15 Dakika\n",
            "1        1INCHUSDT    0.465000  Yukarı Kırılım             499    15 Dakika\n",
            "2   1MBABYDOGEUSDT    0.002367   Aşağı Kırılım             499    15 Dakika\n",
            "3         AAVEUSDT  231.650000  Yukarı Kırılım             499    15 Dakika\n",
            "4          ACAUSDT    0.097000   Aşağı Kırılım             499    15 Dakika\n",
            "5          ACHUSDT    0.029990  Yukarı Kırılım             499    15 Dakika\n",
            "6          ACMUSDT    1.812000  Yukarı Kırılım             499    15 Dakika\n",
            "7          ADXUSDT    0.209600   Aşağı Kırılım             499    15 Dakika\n",
            "8         AEURUSDT    1.046500   Aşağı Kırılım             499    15 Dakika\n",
            "9         AEVOUSDT    0.507300  Yukarı Kırılım             499    15 Dakika\n",
            "10        AKROUSDT    0.004733   Aşağı Kırılım             499    15 Dakika\n",
            "11        ALCXUSDT   21.960000  Yukarı Kırılım             499    15 Dakika\n",
            "12        ALGOUSDT    0.495500   Aşağı Kırılım             499    15 Dakika\n",
            "13      ALPACAUSDT    0.240000  Yukarı Kırılım             499    15 Dakika\n",
            "14       ALPHAUSDT    0.111700   Aşağı Kırılım             499    15 Dakika\n",
            "15         ALTUSDT    0.154650   Aşağı Kırılım             499    15 Dakika\n",
            "16         AMBUSDT    0.008560   Aşağı Kırılım             499    15 Dakika\n",
            "17        ANKRUSDT    0.042310  Yukarı Kırılım             499    15 Dakika\n",
            "18         APEUSDT    1.498000   Aşağı Kırılım             499    15 Dakika\n",
            "19         APTUSDT   12.920000  Yukarı Kırılım             499    15 Dakika\n",
            "20         ARBUSDT    0.959600  Yukarı Kırılım             499    15 Dakika\n",
            "21          ARUSDT   25.450000   Aşağı Kırılım             499    15 Dakika\n",
            "22         ASTUSDT    0.105500  Yukarı Kırılım             499    15 Dakika\n",
            "23         ATMUSDT    2.225000  Yukarı Kırılım             499    15 Dakika\n",
            "24        ATOMUSDT    8.751000   Aşağı Kırılım             499    15 Dakika\n",
            "25     AUCTIONUSDT   18.920000  Yukarı Kırılım             499    15 Dakika\n",
            "26        AVAXUSDT   49.430000  Yukarı Kırılım             499    15 Dakika\n",
            "27         AXSUSDT    7.974000   Aşağı Kırılım             499    15 Dakika\n",
            "28      BADGERUSDT    3.898000  Yukarı Kırılım             499    15 Dakika\n",
            "29        DUSKUSDT    0.279800  Yukarı Kırılım             499    15 Dakika\n",
            "30        DYDXUSDT    1.750900  Yukarı Kırılım             499    15 Dakika\n",
            "31         DYMUSDT    2.225000  Yukarı Kırılım             499    15 Dakika\n",
            "\n",
            "Koşula Uyan Kripto Çiftleri Listesi 'kosula_uyan_kripto.xlsx' dosyasına kaydedildi.\n"
          ]
        },
        {
          "output_type": "stream",
          "name": "stderr",
          "text": [
            "\n"
          ]
        }
      ],
      "source": [
        "# Kütüphanelerin İndirilmesi\n",
        "!pip install git+https://github.com/rongardF/tvdatafeed tradingview-screener\n",
        "!pip install git+https://github.com/rongardF/tvdatafeed tradingview-screener matplotlib scipy\n",
        "!pip install tqdm  # Progress bar için tqdm kütüphanesi\n",
        "\n",
        "import pandas as pd\n",
        "import numpy as np\n",
        "import matplotlib.pyplot as plt\n",
        "from scipy.stats import linregress\n",
        "from tvDatafeed import TvDatafeed, Interval\n",
        "from tradingview_screener import get_all_symbols\n",
        "from tqdm import tqdm  # Progress bar için tqdm\n",
        "\n",
        "# Kullanıcının zaman dilimi sayısını seçmesini sağlayan fonksiyon\n",
        "def get_interval_count_choice():\n",
        "\n",
        "    print(\"Kaç farklı zaman diliminde tarama yapmak istiyorsunuz?\")\n",
        "    print(\"1: Tek Zaman Dilimi\")\n",
        "    print(\"2: İki Zaman Dilimi\")\n",
        "\n",
        "    choice = input(\"Seçiminizi yapın (1-2): \")\n",
        "\n",
        "    if choice == '1':\n",
        "        return 1\n",
        "    elif choice == '2':\n",
        "        return 2\n",
        "    else:\n",
        "        print(\"Geçersiz seçim, varsayılan olarak iki zaman dilimi seçildi.\")\n",
        "        return 2\n",
        "\n",
        "# Kullanıcının zaman dilimini seçmesini sağlayan fonksiyon\n",
        "def get_interval_choice(count=2):\n",
        "\n",
        "    intervals = {\n",
        "        '1': ('15 Dakika', Interval.in_15_minute, 144),  # 15 Dakika -> 144 bar\n",
        "        '2': ('30 Dakika', Interval.in_30_minute, 89),  # 30 Dakika -> 89 bar\n",
        "        '3': ('1 Saat', Interval.in_1_hour, 89),        # 1 Saat -> 89 bar\n",
        "        '4': ('4 Saat', Interval.in_4_hour, 89),        # 4 Saat -> 89 bar\n",
        "        '5': ('Günlük', Interval.in_daily, 55),         # Günlük -> 55 bar\n",
        "        '6': ('Haftalık', Interval.in_weekly, 55),      # Haftalık -> 55 bar\n",
        "    }\n",
        "    print(\"Lütfen zaman dilimi(lerini) seçin:\")\n",
        "    for key, value in intervals.items():\n",
        "        print(f\"{key}: {value[0]} - {value[2]} bar\")\n",
        "\n",
        "    choice_1 = input(\"Birinci zaman dilimini seçin (1-6): \")\n",
        "    interval_1 = intervals.get(choice_1, ('4 Saat', Interval.in_4_hour, 55))\n",
        "\n",
        "    if count == 2:\n",
        "        choice_2 = input(\"İkinci zaman dilimini seçin (1-6): \")\n",
        "        interval_2 = intervals.get(choice_2, ('Günlük', Interval.in_daily, 20))\n",
        "        return [interval_1, interval_2]\n",
        "\n",
        "    return [interval_1]\n",
        "\n",
        "# Trend Çizgisi Hesaplama Fonksiyonu\n",
        "def calculate_trendlines(data, period=55):\n",
        "    data['Trendline_High'] = np.nan\n",
        "    data['Trendline_Low'] = np.nan\n",
        "\n",
        "    for i in range(period, len(data)):\n",
        "        high_prices = data['High'][i-period:i]\n",
        "        low_prices = data['Low'][i-period:i]\n",
        "\n",
        "        # Direnç Çizgisi (Yüksek Fiyatlar için Regresyon)\n",
        "        x_high = np.arange(len(high_prices))\n",
        "        slope_high, intercept_high, _, _, _ = linregress(x_high, high_prices)\n",
        "        data.loc[data.index[i], 'Trendline_High'] = slope_high * len(x_high) + intercept_high\n",
        "\n",
        "        # Destek Çizgisi (Düşük Fiyatlar için Regresyon)\n",
        "        x_low = np.arange(len(low_prices))\n",
        "        slope_low, intercept_low, _, _, _ = linregress(x_low, low_prices)\n",
        "        data.loc[data.index[i], 'Trendline_Low'] = slope_low * len(x_low) + intercept_low\n",
        "\n",
        "    return data\n",
        "\n",
        "# Kırılım Kontrol Fonksiyonu\n",
        "def trendline_breakout(data):\n",
        "    data['Breakout_Up'] = data['Close'] > data['Trendline_High']\n",
        "    data['Breakout_Down'] = data['Close'] < data['Trendline_Low']\n",
        "    return data\n",
        "\n",
        "# Loglama Fonksiyonu\n",
        "def log_yaz(mesaj):\n",
        "    print(mesaj)  # Dinamik bilgi mesajı\n",
        "\n",
        "# TV Datafeed Bağlantısı\n",
        "tv = TvDatafeed()\n",
        "\n",
        "# Kripto Paralar\n",
        "cryptos = [\"1000SATSUSDT\",\"1INCHUSDT\",\"1MBABYDOGEUSDT\",\"AAVEUSDT\",\"ACAUSDT\",\"ACEUSDT\",\"ACHUSDT\",\n",
        "\"ACMUSDT\",\"ADAUSDT\",\"ADXUSDT\",\"AERGOUSDT\",\"AEURUSDT\",\"AEVOUSDT\",\"AGLDUSDT\",\"AIUSDT\",\"AKROUSDT\",\"ALCXUSDT\",\n",
        "\"ALGOUSDT\",\"ALICEUSDT\",\"ALPACAUSDT\",\"ALPHAUSDT\",\"ALPINEUSDT\",\"ALTUSDT\",\"AMBUSDT\",\"AMPUSDT\",\"ANKRUSDT\",\"APEUSDT\",\n",
        "\"API3USDT\",\"APTUSDT\",\"ARBUSDT\",\"ARDRUSDT\",\"ARKMUSDT\",\"ARKUSDT\",\"ARPAUSDT\",\"ARUSDT\",\"ASRUSDT\",\"ASTRUSDT\",\"ASTUSDT\",\n",
        "\"ATAUSDT\",\"ATMUSDT\",\"ATOMUSDT\",\"AUCTIONUSDT\",\"AUDIOUSDT\",\"AVAUSDT\",\"AVAXUSDT\",\"AXLUSDT\",\"AXSUSDT\",\"BADGERUSDT\",\"BAKEUSDT\",\n",
        "\"BALUSDT\",\"BANANAUSDT\",\"BANDUSDT\",\"BARUSDT\",\"BATUSDT\",\"BBUSDT\",\"BCHUSDT\",\"BEAMXUSDT\",\"BELUSDT\",\"BETAUSDT\",\"BICOUSDT\",\n",
        "\"BIFIUSDT\",\"BLURUSDT\",\"BLZUSDT\",\"BNBUSDT\",\"BNSOLUSDT\",\"BNTUSDT\",\"BNXUSDT\",\"BOMEUSDT\",\"BONKUSDT\",\"BSWUSDT\",\"BTCUSDT\",\n",
        "\"BTTCUSDT\",\"BURGERUSDT\",\"C98USDT\",\"CAKEUSDT\",\"CATIUSDT\",\"CELOUSDT\",\"CELRUSDT\",\"CFXUSDT\",\"CHESSUSDT\",\"CHRUSDT\",\"CHZUSDT\",\n",
        "\"CITYUSDT\",\"CKBUSDT\",\"CLVUSDT\",\"COMBOUSDT\",\"COMPUSDT\",\"COSUSDT\",\"COTIUSDT\",\"CREAMUSDT\",\"CRVUSDT\",\"CTKUSDT\",\"CTSIUSDT\",\n",
        "\"CTXCUSDT\",\"CVCUSDT\",\"CVXUSDT\",\"CYBERUSDT\",\"DEXEUSDT\",\"DFUSDT\",\"DGBUSDT\",\"DIAUSDT\",\"DODOUSDT\",\"DOGEUSDT\",\"DOGSUSDT\",\n",
        "\"DOTUSDT\",\"DUSKUSDT\",\"DYDXUSDT\",\"DYMUSDT\",\"EDUUSDT\",\"EGLDUSDT\",\"EIGENUSDT\",\"ELFUSDT\",\"ENAUSDT\",\"ENJUSDT\",\"ENSUSDT\",\n",
        "\"EOSUSDT\",\"ERNUSDT\",\"ETCUSDT\",\"ETHFIUSDT\",\"ETHUSDT\",\"EURIUSDT\",\"EURUSDT\",\"FARMUSDT\",\"FDUSDTRY\",\"FDUSDUSDT\",\"FETUSDT\",\n",
        "\"FIDAUSDT\",\"FILUSDT\",\"FIOUSDT\",\"FIROUSDT\",\"FISUSDT\",\"FLMUSDT\",\"FLOKIUSDT\",\"FLOWUSDT\",\"FLUXUSDT\",\"FORTHUSDT\",\"FTMUSDT\",\n",
        "\"FTTUSDT\",\"FUNUSDT\",\"FXSUSDT\",\"GALAUSDT\",\"GASUSDT\",\"GFTUSDT\",\"GHSTUSDT\",\"GLMRUSDT\",\"GLMUSDT\",\"GMTUSDT\",\"GMXUSDT\",\n",
        "\"GNOUSDT\",\"GNSUSDT\",\"GRTUSDT\",\"GTCUSDT\",\"GUSDT\",\"HARDUSDT\",\"HBARUSDT\",\"HFTUSDT\",\"HIFIUSDT\",\"HIGHUSDT\",\"HIVEUSDT\",\n",
        "\"HMSTRUSDT\",\"HOOKUSDT\",\"HOTUSDT\",\"ICPUSDT\",\"ICXUSDT\",\"IDEXUSDT\",\"IDUSDT\",\"ILVUSDT\",\"IMXUSDT\",\"INJUSDT\",\"IOSTUSDT\",\n",
        "\"IOTAUSDT\",\"IOTXUSDT\",\"IOUSDT\",\"IQUSDT\",\"IRISUSDT\",\"JASMYUSDT\",\"JOEUSDT\",\"JSTUSDT\",\"JTOUSDT\",\"JUPUSDT\",\"JUVUSDT\",\n",
        "\"KAVAUSDT\",\"KDAUSDT\",\"KEYUSDT\",\"KMDUSDT\",\"KNCUSDT\",\"KSMUSDT\",\"LAZIOUSDT\",\"LDOUSDT\",\"LEVERUSDT\",\"LINAUSDT\",\"LINKUSDT\",\n",
        "\"LISTAUSDT\",\"LITUSDT\",\"LOKAUSDT\",\"LPTUSDT\",\"LQTYUSDT\",\"LRCUSDT\",\"LSKUSDT\",\"LTCUSDT\",\"LTOUSDT\",\"LUMIAUSDT\",\"LUNAUSDT\",\n",
        "\"LUNCUSDT\",\"MAGICUSDT\",\"MANAUSDT\",\"MANTAUSDT\",\"MASKUSDT\",\"MAVUSDT\",\"MBLUSDT\",\"MBOXUSDT\",\"MDTUSDT\",\"MEMEUSDT\",\"METISUSDT\",\n",
        "\"MINAUSDT\",\"MKRUSDT\",\"MLNUSDT\",\"MOVRUSDT\",\"MTLUSDT\",\"NEARUSDT\",\"NEIROUSDT\",\"NEOUSDT\",\"NEXOUSDT\",\"NFPUSDT\",\"NKNUSDT\",\"NMRUSDT\",\n",
        "\"NOTUSDT\",\"NTRNUSDT\",\"NULSUSDT\",\"OAXUSDT\",\"OGNUSDT\",\"OGUSDT\",\"OMNIUSDT\",\"OMUSDT\",\"ONEUSDT\",\"ONGUSDT\",\"ONTUSDT\",\"OPUSDT\",\n",
        "\"ORDIUSDT\",\"OSMOUSDT\",\"OXTUSDT\",\"PAXGUSDT\",\"PDAUSDT\",\"PENDLEUSDT\",\"PEOPLEUSDT\",\"PEPEUSDT\",\"PERPUSDT\",\"PHAUSDT\",\"PHBUSDT\",\"PIVXUSDT\",\n",
        "\"PIXELUSDT\",\"POLUSDT\",\"POLYXUSDT\",\"PONDUSDT\",\"PORTALUSDT\",\"PORTOUSDT\",\"POWRUSDT\",\"PROMUSDT\",\"PROSUSDT\",\"PSGUSDT\",\"PUNDIXUSDT\",\n",
        "\"PYRUSDT\",\"PYTHUSDT\",\"QIUSDT\",\"QKCUSDT\",\"QNTUSDT\",\"QTUMUSDT\",\"QUICKUSDT\",\"RADUSDT\",\"RAREUSDT\",\"RAYUSDT\",\"RDNTUSDT\",\"REIUSDT\",\n",
        "\"RENDERUSDT\",\"RENUSDT\",\"REQUSDT\",\"REZUSDT\",\"RIFUSDT\",\"RLCUSDT\",\"RONINUSDT\",\"ROSEUSDT\",\"RPLUSDT\",\"RSRUSDT\",\"RUNEUSDT\",\"RVNUSDT\",\n",
        "\"SAGAUSDT\",\"SANDUSDT\",\"SANTOSUSDT\",\"SCRTUSDT\",\"SCRUSDT\",\"SCUSDT\",\"SEIUSDT\",\"SFPUSDT\",\"SHIBUSDT\",\"SKLUSDT\",\"SLFUSDT\",\"SLPUSDT\",\n",
        "\"SNTUSDT\",\"SNXUSDT\",\"SOLUSDT\",\"SPELLUSDT\",\"SSVUSDT\",\"STEEMUSDT\",\"STGUSDT\",\"STMXUSDT\",\"STORJUSDT\",\"STPTUSDT\",\"STRAXUSDT\",\"STRKUSDT\",\n",
        "\"STXUSDT\",\"SUIUSDT\",\"SUNUSDT\",\"SUPERUSDT\",\"SUSHIUSDT\",\"SXPUSDT\",\"SYNUSDT\",\"SYSUSDT\",\"TAOUSDT\",\"TFUELUSDT\",\"THETAUSDT\",\"TIAUSDT\",\n",
        "\"TKOUSDT\",\"TLMUSDT\",\"TNSRUSDT\",\"TONUSDT\",\"TRBUSDT\",\"TROYUSDT\",\"TRUUSDT\",\"TRXUSDT\",\"TURBOUSDT\",\"TUSDT\",\"TUSDTRY\",\"TUSDUSDT\",\n",
        "\"TWTUSDT\",\"UFTUSDT\",\"UMAUSDT\",\"UNIUSDT\",\"USDCUSDT\",\"USDPUSDT\",\"USDTARS\",\"USDTBRL\",\"USDTCOP\",\"USDTCZK\",\"USDTDAI\",\"USDTMXN\",\n",
        "\"USDTPLN\",\"USDTRON\",\"USDTTRY\",\"USDTUAH\",\"USDTZAR\",\"USTCUSDT\",\"UTKUSDT\",\"VANRYUSDT\",\"VETUSDT\",\"VIBUSDT\",\"VICUSDT\",\"VIDTUSDT\",\n",
        "\"VITEUSDT\",\"VOXELUSDT\",\"VTHOUSDT\",\"WANUSDT\",\"WAXPUSDT\",\"WBETHUSDT\",\"WBTCUSDT\",\"WIFUSDT\",\"WINGUSDT\",\"WINUSDT\",\"WLDUSDT\",\n",
        "\"WOOUSDT\",\"WRXUSDT\",\"WUSDT\",\"XAIUSDT\",\"XECUSDT\",\"XLMUSDT\",\"XNOUSDT\",\"XRPUSDT\",\"XTZUSDT\",\"XVGUSDT\",\"XVSUSDT\",\"YFIUSDT\",\"YGGUSDT\",\n",
        "\"ZECUSDT\",\"ZENUSDT\",\"ZILUSDT\",\"ZKUSDT\",\"ZROUSDT\",\"ZRXUSDT\"]\n",
        "\n",
        "# Kullanıcının seçtiği zaman dilimi\n",
        "interval_count = get_interval_count_choice()\n",
        "intervals = get_interval_choice(interval_count)\n",
        "for interval_data in intervals:\n",
        "    interval_name = interval_data[0]\n",
        "    interval = interval_data[1]\n",
        "    period = interval_data[2]  # Bar sayısı (period)\n",
        "    print(f\"Seçilen zaman dilimi: {interval_name}, Bar sayısı: {period}\")\n",
        "\n",
        "# Sonuçlar İçin DataFrame\n",
        "df_trend_breakouts = pd.DataFrame(columns=['Kripto Para', 'Son Fiyat', 'Breakout Türü', 'Kırılım Zamanı', 'Zaman Dilimi'])\n",
        "\n",
        "# Tarama işlemi\n",
        "for symbol in tqdm(cryptos, desc=\"Tarama Yapılıyor\", unit=\"kripto\"):  # Progress bar ekleniyor\n",
        "    for interval_data in intervals:\n",
        "        try:\n",
        "            interval_name = interval_data[0]\n",
        "            interval = interval_data[1]\n",
        "            period = interval_data[2]  # Bar sayısı (period)\n",
        "\n",
        "            log_yaz(f\"\\n{symbol} için veri çekiliyor...\")\n",
        "            data = tv.get_hist(symbol=symbol, exchange='BINANCE', interval=interval, n_bars=500)\n",
        "            if data is not None and not data.empty:\n",
        "                log_yaz(f\"{symbol}: Veri başarıyla çekildi. Satır sayısı: {len(data)}\")\n",
        "                data.rename(columns={'open': 'Open', 'high': 'High', 'low': 'Low', 'close': 'Close', 'volume': 'Volume'}, inplace=True)\n",
        "                data = data.reset_index()\n",
        "\n",
        "                # Trend Çizgilerini Hesapla\n",
        "                data = calculate_trendlines(data, period=period)\n",
        "\n",
        "                # Kırılımları Kontrol Et\n",
        "                data = trendline_breakout(data)\n",
        "\n",
        "                # Kırılım tespit edildi mi?\n",
        "                if data['Breakout_Up'].iloc[-1]:\n",
        "                    last_close = data['Close'].iloc[-1]\n",
        "                    df_trend_breakouts.loc[len(df_trend_breakouts)] = [symbol, last_close, 'Yukarı Kırılım', data.index[-1], interval_name]\n",
        "                    log_yaz(f\"\\033[33m{symbol}: Yukarı Kırılım tespit edildi. Fiyat: {last_close}\\033[0m\")\n",
        "                elif data['Breakout_Down'].iloc[-1]:\n",
        "                    last_close = data['Close'].iloc[-1]\n",
        "                    df_trend_breakouts.loc[len(df_trend_breakouts)] = [symbol, last_close, 'Aşağı Kırılım', data.index[-1], interval_name]\n",
        "                    log_yaz(f\"\\033[33m{symbol}: Aşağı Kırılım tespit edildi. Fiyat: {last_close}\\033[0m\")\n",
        "                else:\n",
        "                    log_yaz(f\"{symbol}: Kırılım tespit edilmedi.\")\n",
        "            else:\n",
        "                log_yaz(f\"{symbol}: Veri bulunamadı.\")\n",
        "        except Exception as e:\n",
        "            log_yaz(f\"{symbol} için hata oluştu: {e}\")\n",
        "\n",
        "# Tarama sonucunda koşula uyanları ekrana yazdır\n",
        "if not df_trend_breakouts.empty:\n",
        "    print(\"\\nKoşula Uyan Kripto Çiftleri Listesi:\")\n",
        "    pd.set_option('display.max_rows', None)  # Tüm satırlar\n",
        "    pd.set_option('display.max_columns', None)  # Tüm sütunlar\n",
        "    print(df_trend_breakouts)\n",
        "\n",
        "    output_file = \"kosula_uyan_kripto.xlsx\"\n",
        "    df_trend_breakouts.to_excel(output_file, index=False)\n",
        "    print(f\"\\nKoşula Uyan Kripto Çiftleri Listesi '{output_file}' dosyasına kaydedildi.\")\n",
        "else:\n",
        "    print(\"\\nKoşula uyan bir durum tespit edilmedi.\")\n"
      ]
    }
  ]
}