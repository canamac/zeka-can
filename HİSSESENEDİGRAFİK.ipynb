{
  "nbformat": 4,
  "nbformat_minor": 0,
  "metadata": {
    "colab": {
      "provenance": [],
      "authorship_tag": "ABX9TyPNX7fZf4mcXradn7oHctql",
      "include_colab_link": true
    },
    "kernelspec": {
      "name": "python3",
      "display_name": "Python 3"
    },
    "language_info": {
      "name": "python"
    }
  },
  "cells": [
    {
      "cell_type": "markdown",
      "metadata": {
        "id": "view-in-github",
        "colab_type": "text"
      },
      "source": [
        "<a href=\"https://colab.research.google.com/github/canamac/zeka-can/blob/main/H%C4%B0SSESENED%C4%B0GRAF%C4%B0K.ipynb\" target=\"_parent\"><img src=\"https://colab.research.google.com/assets/colab-badge.svg\" alt=\"Open In Colab\"/></a>"
      ]
    },
    {
      "cell_type": "code",
      "execution_count": null,
      "metadata": {
        "id": "L9OZQfzvXEmj"
      },
      "outputs": [],
      "source": [
        "import yfinance as yf\n",
        "import matplotlib.pyplot as plt\n",
        "from datetime import datetime\n",
        "\n",
        "def plot_stock(symbol, start_date):\n",
        "\n",
        "    end_date = datetime.today().strftime('%Y-%m-%d')\n",
        "\n",
        "    stock_data = yf.download(symbol, start=start_date, end=end_date)\n",
        "\n",
        "    plt.figure(figsize=(10, 6))\n",
        "    plt.plot(stock_data['Close'], label=symbol)\n",
        "    plt.xlabel('Tarih')\n",
        "    plt.ylabel('Kapanış Fiyatı')\n",
        "    plt.title(symbol + ' Hisse Senedi Grafiği')\n",
        "    plt.legend()\n",
        "    plt.grid(True)\n",
        "    #plt.show\n",
        "    plt.savefig(str(symbol)+ \".png\",format='png')\n",
        "\n",
        "\n",
        "plot_stock('BTC-USD', '2023-01-01')\n",
        "plot_stock('BIMAS.IS', '2023-01-01')"
      ]
    }
  ]
}