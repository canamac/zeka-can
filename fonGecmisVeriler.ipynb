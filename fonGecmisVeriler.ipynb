{
  "nbformat": 4,
  "nbformat_minor": 0,
  "metadata": {
    "colab": {
      "provenance": [],
      "include_colab_link": true
    },
    "kernelspec": {
      "name": "python3",
      "display_name": "Python 3"
    },
    "language_info": {
      "name": "python"
    }
  },
  "cells": [
    {
      "cell_type": "markdown",
      "metadata": {
        "id": "view-in-github",
        "colab_type": "text"
      },
      "source": [
        "<a href=\"https://colab.research.google.com/github/canamac/zeka-can/blob/main/fonGecmisVeriler.ipynb\" target=\"_parent\"><img src=\"https://colab.research.google.com/assets/colab-badge.svg\" alt=\"Open In Colab\"/></a>"
      ]
    },
    {
      "cell_type": "code",
      "execution_count": null,
      "metadata": {
        "colab": {
          "base_uri": "https://localhost:8080/",
          "height": 260
        },
        "id": "PoURipzHNDXh",
        "outputId": "e4908ebb-64b7-4d63-f2a6-90648344ec3a"
      },
      "outputs": [
        {
          "output_type": "stream",
          "name": "stdout",
          "text": [
            "Requirement already satisfied: tefas-crawler in /usr/local/lib/python3.10/dist-packages (0.4.0)\n",
            "Requirement already satisfied: requests in /usr/local/lib/python3.10/dist-packages (from tefas-crawler) (2.31.0)\n",
            "Requirement already satisfied: marshmallow in /usr/local/lib/python3.10/dist-packages (from tefas-crawler) (3.21.2)\n",
            "Requirement already satisfied: pandas in /usr/local/lib/python3.10/dist-packages (from tefas-crawler) (2.0.3)\n",
            "Requirement already satisfied: urllib3 in /usr/local/lib/python3.10/dist-packages (from tefas-crawler) (2.0.7)\n",
            "Requirement already satisfied: packaging>=17.0 in /usr/local/lib/python3.10/dist-packages (from marshmallow->tefas-crawler) (24.0)\n",
            "Requirement already satisfied: python-dateutil>=2.8.2 in /usr/local/lib/python3.10/dist-packages (from pandas->tefas-crawler) (2.8.2)\n",
            "Requirement already satisfied: pytz>=2020.1 in /usr/local/lib/python3.10/dist-packages (from pandas->tefas-crawler) (2023.4)\n",
            "Requirement already satisfied: tzdata>=2022.1 in /usr/local/lib/python3.10/dist-packages (from pandas->tefas-crawler) (2024.1)\n",
            "Requirement already satisfied: numpy>=1.21.0 in /usr/local/lib/python3.10/dist-packages (from pandas->tefas-crawler) (1.25.2)\n",
            "Requirement already satisfied: charset-normalizer<4,>=2 in /usr/local/lib/python3.10/dist-packages (from requests->tefas-crawler) (3.3.2)\n",
            "Requirement already satisfied: idna<4,>=2.5 in /usr/local/lib/python3.10/dist-packages (from requests->tefas-crawler) (3.7)\n",
            "Requirement already satisfied: certifi>=2017.4.17 in /usr/local/lib/python3.10/dist-packages (from requests->tefas-crawler) (2024.2.2)\n",
            "Requirement already satisfied: six>=1.5 in /usr/local/lib/python3.10/dist-packages (from python-dateutil>=2.8.2->pandas->tefas-crawler) (1.16.0)\n"
          ]
        },
        {
          "output_type": "display_data",
          "data": {
            "text/plain": [
              "<IPython.core.display.Javascript object>"
            ],
            "application/javascript": [
              "\n",
              "    async function download(id, filename, size) {\n",
              "      if (!google.colab.kernel.accessAllowed) {\n",
              "        return;\n",
              "      }\n",
              "      const div = document.createElement('div');\n",
              "      const label = document.createElement('label');\n",
              "      label.textContent = `Downloading \"${filename}\": `;\n",
              "      div.appendChild(label);\n",
              "      const progress = document.createElement('progress');\n",
              "      progress.max = size;\n",
              "      div.appendChild(progress);\n",
              "      document.body.appendChild(div);\n",
              "\n",
              "      const buffers = [];\n",
              "      let downloaded = 0;\n",
              "\n",
              "      const channel = await google.colab.kernel.comms.open(id);\n",
              "      // Send a message to notify the kernel that we're ready.\n",
              "      channel.send({})\n",
              "\n",
              "      for await (const message of channel.messages) {\n",
              "        // Send a message to notify the kernel that we're ready.\n",
              "        channel.send({})\n",
              "        if (message.buffers) {\n",
              "          for (const buffer of message.buffers) {\n",
              "            buffers.push(buffer);\n",
              "            downloaded += buffer.byteLength;\n",
              "            progress.value = downloaded;\n",
              "          }\n",
              "        }\n",
              "      }\n",
              "      const blob = new Blob(buffers, {type: 'application/binary'});\n",
              "      const a = document.createElement('a');\n",
              "      a.href = window.URL.createObjectURL(blob);\n",
              "      a.download = filename;\n",
              "      div.appendChild(a);\n",
              "      a.click();\n",
              "      div.remove();\n",
              "    }\n",
              "  "
            ]
          },
          "metadata": {}
        },
        {
          "output_type": "display_data",
          "data": {
            "text/plain": [
              "<IPython.core.display.Javascript object>"
            ],
            "application/javascript": [
              "download(\"download_dc781685-db34-4603-8dd8-03370da58501\", \"output.xlsx\", 24314)"
            ]
          },
          "metadata": {}
        }
      ],
      "source": [
        "!pip install tefas-crawler\n",
        "from tefas import Crawler\n",
        "from datetime import datetime, timedelta\n",
        "import pandas as pd\n",
        "import datetime\n",
        "\n",
        "####### ONLY CHANGE THIS PART #######\n",
        "startDate = datetime.date(2023, 7, 1)\n",
        "endDate = datetime.date(2024, 6, 1)\n",
        "fonList = [\"IPB\", \"NRC\"]\n",
        "excelFileName = \"output.xlsx\"\n",
        "####### ONLY CHANGE THIS PART #######\n",
        "\n",
        "####### DO NOT CHANGE THIS PART #######\n",
        "\n",
        "addDays = timedelta(days=30)\n",
        "tefas = Crawler()\n",
        "f_cols = [\"code\",\"date\",\"price\",\"market_cap\"]\n",
        "f_list = {}\n",
        "\n",
        "while startDate <= endDate:\n",
        "    b_date = startDate.strftime(\"%Y-%m-%d\")\n",
        "    e_date = (startDate + datetime.timedelta(days=30)).strftime(\"%Y-%m-%d\")\n",
        "    for f_name in fonList:\n",
        "        t_data = tefas.fetch(start=b_date, end=e_date, name=f_name, columns=f_cols)\n",
        "        if f_name not in f_list:\n",
        "            f_list[f_name] = t_data.sort_values(by='date')\n",
        "        else:\n",
        "            new_data = pd.concat([f_list[f_name], t_data]).sort_values(by='date')\n",
        "            f_list[f_name] = new_data\n",
        "        f_list[f_name]['price change %'] = round(f_list[f_name]['price'].pct_change()*100, 4)\n",
        "\n",
        "    startDate += addDays\n",
        "\n",
        "with pd.ExcelWriter(excelFileName) as writer:\n",
        "    for sheet_name, df in f_list.items():\n",
        "        df.to_excel(writer, sheet_name=sheet_name, index=False)\n",
        "\n",
        "####### DO NOT CHANGE THIS PART #######\n",
        "\n",
        "from google.colab import files\n",
        "files.download(excelFileName)\n"
      ]
    }
  ]
}