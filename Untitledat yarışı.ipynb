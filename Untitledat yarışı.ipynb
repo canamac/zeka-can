{
  "nbformat": 4,
  "nbformat_minor": 0,
  "metadata": {
    "colab": {
      "provenance": [],
      "authorship_tag": "ABX9TyN9OHLDX6/92YJc7HrkqPhX",
      "include_colab_link": true
    },
    "kernelspec": {
      "name": "python3",
      "display_name": "Python 3"
    },
    "language_info": {
      "name": "python"
    }
  },
  "cells": [
    {
      "cell_type": "markdown",
      "metadata": {
        "id": "view-in-github",
        "colab_type": "text"
      },
      "source": [
        "<a href=\"https://colab.research.google.com/github/canamac/zeka-can/blob/main/Untitledat%20yar%C4%B1%C5%9F%C4%B1.ipynb\" target=\"_parent\"><img src=\"https://colab.research.google.com/assets/colab-badge.svg\" alt=\"Open In Colab\"/></a>"
      ]
    },
    {
      "cell_type": "code",
      "execution_count": 1,
      "metadata": {
        "colab": {
          "base_uri": "https://localhost:8080/"
        },
        "id": "BCHsAv8fTEAx",
        "outputId": "c42458e2-7e28-4f81-8dc5-f2e1de78752d"
      },
      "outputs": [
        {
          "output_type": "stream",
          "name": "stdout",
          "text": [
            "Filtrelenmiş Atlar:\n",
            "At1 (Yaş: 4, Kazanma: 5, Yerleşme: 1, Olasılık: 2.5)\n",
            "At3 (Yaş: 5, Kazanma: 7, Yerleşme: 1, Olasılık: 1.8)\n"
          ]
        }
      ],
      "source": [
        "class Horse:\n",
        "    def __init__(self, name, age, wins, place, odds):\n",
        "        self.name = name\n",
        "        self.age = age\n",
        "        self.wins = wins\n",
        "        self.place = place\n",
        "        self.odds = odds\n",
        "\n",
        "    def __repr__(self):\n",
        "        return f\"{self.name} (Yaş: {self.age}, Kazanma: {self.wins}, Yerleşme: {self.place}, Olasılık: {self.odds})\"\n",
        "\n",
        "def filter_horses(horses, min_wins=0, max_age=None):\n",
        "    filtered = []\n",
        "    for horse in horses:\n",
        "        if horse.wins >= min_wins and (max_age is None or horse.age <= max_age):\n",
        "            filtered.append(horse)\n",
        "    return filtered\n",
        "\n",
        "# Örnek at verileri\n",
        "horses = [\n",
        "    Horse(\"At1\", 4, 5, 1, 2.5),\n",
        "    Horse(\"At2\", 6, 3, 2, 3.0),\n",
        "    Horse(\"At3\", 5, 7, 1, 1.8),\n",
        "    Horse(\"At4\", 7, 4, 3, 4.0),\n",
        "]\n",
        "\n",
        "# Filtreleme örneği\n",
        "min_wins = 4\n",
        "max_age = 6\n",
        "filtered_horses = filter_horses(horses, min_wins=min_wins, max_age=max_age)\n",
        "\n",
        "print(\"Filtrelenmiş Atlar:\")\n",
        "for horse in filtered_horses:\n",
        "    print(horse)\n"
      ]
    }
  ]
}