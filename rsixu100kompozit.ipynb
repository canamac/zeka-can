{
  "cells": [
    {
      "cell_type": "markdown",
      "metadata": {
        "id": "view-in-github",
        "colab_type": "text"
      },
      "source": [
        "<a href=\"https://colab.research.google.com/github/canamac/zeka-can/blob/main/rsixu100kompozit.ipynb\" target=\"_parent\"><img src=\"https://colab.research.google.com/assets/colab-badge.svg\" alt=\"Open In Colab\"/></a>"
      ]
    },
    {
      "cell_type": "code",
      "execution_count": null,
      "metadata": {
        "colab": {
          "background_save": true,
          "base_uri": "https://localhost:8080/"
        },
        "id": "onmaX1vZDrN8",
        "outputId": "02548f72-304b-4573-c175-88658d83043e"
      },
      "outputs": [
        {
          "name": "stdout",
          "output_type": "stream",
          "text": [
            "Collecting git+https://github.com/rongardF/tvdatafeed\n",
            "  Cloning https://github.com/rongardF/tvdatafeed to /tmp/pip-req-build-fvkd82m5\n",
            "  Running command git clone --filter=blob:none --quiet https://github.com/rongardF/tvdatafeed /tmp/pip-req-build-fvkd82m5\n",
            "  Resolved https://github.com/rongardF/tvdatafeed to commit e6f6aaa7de439ac6e454d9b26d2760ded8dc4923\n",
            "  Preparing metadata (setup.py) ... \u001b[?25l\u001b[?25hdone\n",
            "Collecting tradingview-screener\n",
            "  Downloading tradingview_screener-2.5.0-py3-none-any.whl.metadata (9.0 kB)\n",
            "Requirement already satisfied: openpyxl in /usr/local/lib/python3.10/dist-packages (3.1.5)\n",
            "Requirement already satisfied: statsmodels in /usr/local/lib/python3.10/dist-packages (0.14.4)\n",
            "Requirement already satisfied: tqdm in /usr/local/lib/python3.10/dist-packages (4.66.6)\n",
            "Requirement already satisfied: setuptools in /usr/local/lib/python3.10/dist-packages (from tvdatafeed==2.1.0) (75.1.0)\n",
            "Requirement already satisfied: pandas in /usr/local/lib/python3.10/dist-packages (from tvdatafeed==2.1.0) (2.2.2)\n",
            "Requirement already satisfied: websocket-client in /usr/local/lib/python3.10/dist-packages (from tvdatafeed==2.1.0) (1.8.0)\n",
            "Requirement already satisfied: requests in /usr/local/lib/python3.10/dist-packages (from tvdatafeed==2.1.0) (2.32.3)\n",
            "Requirement already satisfied: et-xmlfile in /usr/local/lib/python3.10/dist-packages (from openpyxl) (2.0.0)\n",
            "Requirement already satisfied: numpy<3,>=1.22.3 in /usr/local/lib/python3.10/dist-packages (from statsmodels) (1.26.4)\n",
            "Requirement already satisfied: scipy!=1.9.2,>=1.8 in /usr/local/lib/python3.10/dist-packages (from statsmodels) (1.13.1)\n",
            "Requirement already satisfied: patsy>=0.5.6 in /usr/local/lib/python3.10/dist-packages (from statsmodels) (1.0.1)\n",
            "Requirement already satisfied: packaging>=21.3 in /usr/local/lib/python3.10/dist-packages (from statsmodels) (24.2)\n",
            "Requirement already satisfied: python-dateutil>=2.8.2 in /usr/local/lib/python3.10/dist-packages (from pandas->tvdatafeed==2.1.0) (2.8.2)\n",
            "Requirement already satisfied: pytz>=2020.1 in /usr/local/lib/python3.10/dist-packages (from pandas->tvdatafeed==2.1.0) (2024.2)\n",
            "Requirement already satisfied: tzdata>=2022.7 in /usr/local/lib/python3.10/dist-packages (from pandas->tvdatafeed==2.1.0) (2024.2)\n",
            "Requirement already satisfied: charset-normalizer<4,>=2 in /usr/local/lib/python3.10/dist-packages (from requests->tvdatafeed==2.1.0) (3.4.0)\n",
            "Requirement already satisfied: idna<4,>=2.5 in /usr/local/lib/python3.10/dist-packages (from requests->tvdatafeed==2.1.0) (3.10)\n",
            "Requirement already satisfied: urllib3<3,>=1.21.1 in /usr/local/lib/python3.10/dist-packages (from requests->tvdatafeed==2.1.0) (2.2.3)\n",
            "Requirement already satisfied: certifi>=2017.4.17 in /usr/local/lib/python3.10/dist-packages (from requests->tvdatafeed==2.1.0) (2024.8.30)\n",
            "Requirement already satisfied: six>=1.5 in /usr/local/lib/python3.10/dist-packages (from python-dateutil>=2.8.2->pandas->tvdatafeed==2.1.0) (1.16.0)\n",
            "Downloading tradingview_screener-2.5.0-py3-none-any.whl (43 kB)\n",
            "\u001b[2K   \u001b[90m━━━━━━━━━━━━━━━━━━━━━━━━━━━━━━━━━━━━━━━━\u001b[0m \u001b[32m43.5/43.5 kB\u001b[0m \u001b[31m1.4 MB/s\u001b[0m eta \u001b[36m0:00:00\u001b[0m\n",
            "\u001b[?25hBuilding wheels for collected packages: tvdatafeed\n",
            "  Building wheel for tvdatafeed (setup.py) ... \u001b[?25l\u001b[?25hdone\n",
            "  Created wheel for tvdatafeed: filename=tvdatafeed-2.1.0-py3-none-any.whl size=17533 sha256=22b0268b19cee7dc00db81a250dc02d9dc75ad3c826c76c32b62d348a45d8ed5\n",
            "  Stored in directory: /tmp/pip-ephem-wheel-cache-zaaoaqhg/wheels/e4/32/1e/21ebcacc6549d75fae3bf3ff75cee8fcbe4e5c189d88fbd5a1\n",
            "Successfully built tvdatafeed\n",
            "Installing collected packages: tvdatafeed, tradingview-screener\n",
            "Successfully installed tradingview-screener-2.5.0 tvdatafeed-2.1.0\n"
          ]
        },
        {
          "name": "stderr",
          "output_type": "stream",
          "text": [
            "WARNING:tvDatafeed.main:you are using nologin method, data you access may be limited\n",
            "WARNING:tvDatafeed.main:you are using nologin method, data you access may be limited\n",
            "Taramalar ilerliyor:   6%|▌         | 32/580 [00:28<09:00,  1.01it/s]"
          ]
        },
        {
          "name": "stdout",
          "output_type": "stream",
          "text": [
            "ALKA - RSI 50 kırılımı - Zaman Dilimi: Haftalık\n"
          ]
        },
        {
          "name": "stderr",
          "output_type": "stream",
          "text": [
            "Taramalar ilerliyor:  17%|█▋        | 101/580 [01:07<06:04,  1.31it/s]"
          ]
        },
        {
          "name": "stdout",
          "output_type": "stream",
          "text": [
            "BRISA - RSI 50 kırılımı - Zaman Dilimi: Haftalık\n"
          ]
        },
        {
          "name": "stderr",
          "output_type": "stream",
          "text": [
            "Taramalar ilerliyor:  20%|█▉        | 114/580 [01:18<06:28,  1.20it/s]"
          ]
        },
        {
          "name": "stdout",
          "output_type": "stream",
          "text": [
            "BVSAN - RSI 50 kırılımı - Zaman Dilimi: Haftalık\n"
          ]
        },
        {
          "name": "stderr",
          "output_type": "stream",
          "text": [
            "Taramalar ilerliyor:  39%|███▊      | 224/580 [02:19<03:33,  1.67it/s]"
          ]
        },
        {
          "name": "stdout",
          "output_type": "stream",
          "text": [
            "GLBMD - RSI 50 kırılımı - Zaman Dilimi: Haftalık\n"
          ]
        },
        {
          "name": "stderr",
          "output_type": "stream",
          "text": [
            "Taramalar ilerliyor:  46%|████▋     | 269/580 [02:43<02:18,  2.24it/s]"
          ]
        },
        {
          "name": "stdout",
          "output_type": "stream",
          "text": [
            "IMASM - RSI 50 kırılımı - Zaman Dilimi: Haftalık\n"
          ]
        },
        {
          "name": "stderr",
          "output_type": "stream",
          "text": [
            "Taramalar ilerliyor:  48%|████▊     | 280/580 [02:48<02:20,  2.14it/s]"
          ]
        },
        {
          "name": "stdout",
          "output_type": "stream",
          "text": [
            "ISCTR - RSI 50 kırılımı - Zaman Dilimi: Haftalık\n"
          ]
        },
        {
          "name": "stderr",
          "output_type": "stream",
          "text": [
            "Taramalar ilerliyor:  53%|█████▎    | 308/580 [03:07<03:44,  1.21it/s]"
          ]
        },
        {
          "name": "stdout",
          "output_type": "stream",
          "text": [
            "KIMMR - RSI 50 kırılımı - Zaman Dilimi: Haftalık\n"
          ]
        },
        {
          "name": "stderr",
          "output_type": "stream",
          "text": [
            "Taramalar ilerliyor:  57%|█████▋    | 328/580 [03:23<03:27,  1.21it/s]"
          ]
        },
        {
          "name": "stdout",
          "output_type": "stream",
          "text": [
            "KRDMB - RSI 50 kırılımı - Zaman Dilimi: Haftalık\n"
          ]
        },
        {
          "name": "stderr",
          "output_type": "stream",
          "text": [
            "\rTaramalar ilerliyor:  57%|█████▋    | 329/580 [03:24<04:12,  1.01s/it]"
          ]
        },
        {
          "name": "stdout",
          "output_type": "stream",
          "text": [
            "KRDMD - RSI 50 kırılımı - Zaman Dilimi: Haftalık\n"
          ]
        },
        {
          "name": "stderr",
          "output_type": "stream",
          "text": [
            "Taramalar ilerliyor:  58%|█████▊    | 338/580 [03:31<02:48,  1.44it/s]"
          ]
        },
        {
          "name": "stdout",
          "output_type": "stream",
          "text": [
            "KTSKR - RSI 50 kırılımı - Zaman Dilimi: Haftalık\n"
          ]
        },
        {
          "name": "stderr",
          "output_type": "stream",
          "text": [
            "Taramalar ilerliyor:  59%|█████▊    | 340/580 [03:33<03:05,  1.29it/s]"
          ]
        },
        {
          "name": "stdout",
          "output_type": "stream",
          "text": [
            "KUVVA - RSI 50 kırılımı - Zaman Dilimi: Haftalık\n"
          ]
        },
        {
          "name": "stderr",
          "output_type": "stream",
          "text": [
            "Taramalar ilerliyor:  86%|████████▋ | 501/580 [05:04<00:36,  2.16it/s]"
          ]
        },
        {
          "name": "stdout",
          "output_type": "stream",
          "text": [
            "SUWEN - RSI 50 kırılımı - Zaman Dilimi: Haftalık\n"
          ]
        },
        {
          "name": "stderr",
          "output_type": "stream",
          "text": [
            "Taramalar ilerliyor:  98%|█████████▊| 571/580 [05:47<00:08,  1.04it/s]"
          ]
        },
        {
          "name": "stdout",
          "output_type": "stream",
          "text": [
            "YYAPI - RSI 50 kırılımı - Zaman Dilimi: Haftalık\n"
          ]
        },
        {
          "name": "stderr",
          "output_type": "stream",
          "text": [
            "Taramalar ilerliyor: 100%|██████████| 580/580 [05:53<00:00,  1.64it/s]\n"
          ]
        },
        {
          "name": "stdout",
          "output_type": "stream",
          "text": [
            "RSI 50 Kırılım Sinyalleri:\n",
            "   Hisse Adı  Son Fiyat  Kırılım Türü Zaman Dilimi      Kırılım Zamanı\n",
            "0       ALKA   0.002881  RSI 50 Üzeri     Haftalık 2024-11-18 06:00:00\n",
            "1      BRISA   0.010092  RSI 50 Üzeri     Haftalık 2024-11-18 06:00:00\n",
            "2      BVSAN   0.009862  RSI 50 Üzeri     Haftalık 2024-11-18 06:00:00\n",
            "3      GLBMD   0.001267  RSI 50 Üzeri     Haftalık 2024-11-18 06:00:00\n",
            "4      IMASM   0.000329  RSI 50 Üzeri     Haftalık 2024-11-18 06:00:00\n",
            "5      ISCTR   0.001365  RSI 50 Üzeri     Haftalık 2024-11-18 06:00:00\n",
            "6      KIMMR   0.001038  RSI 50 Üzeri     Haftalık 2024-11-18 06:00:00\n",
            "7      KRDMB   0.002178  RSI 50 Üzeri     Haftalık 2024-11-18 06:00:00\n",
            "8      KRDMD   0.002829  RSI 50 Üzeri     Haftalık 2024-11-18 06:00:00\n",
            "9      KTSKR   0.006819  RSI 50 Üzeri     Haftalık 2024-11-18 06:00:00\n",
            "10     KUVVA   0.004777  RSI 50 Üzeri     Haftalık 2024-11-18 06:00:00\n",
            "11     SUWEN   0.002967  RSI 50 Üzeri     Haftalık 2024-11-18 06:00:00\n",
            "12     YYAPI   0.000528  RSI 50 Üzeri     Haftalık 2024-11-18 06:00:00\n",
            "RSI 50 kırılım sinyalleri 'rsi_breakout_signals_weekly.xlsx' dosyasına kaydedildi.\n"
          ]
        }
      ],
      "source": [
        "# Gerekli kütüphaneleri yükleyin\n",
        "!pip install git+https://github.com/rongardF/tvdatafeed tradingview-screener openpyxl statsmodels tqdm\n",
        "\n",
        "import pandas as pd\n",
        "import numpy as np\n",
        "from tvDatafeed import TvDatafeed, Interval\n",
        "from tqdm import tqdm\n",
        "from tradingview_screener import get_all_symbols\n",
        "import warnings\n",
        "\n",
        "warnings.simplefilter(action='ignore', category=FutureWarning)\n",
        "\n",
        "# RSI'yi RMA (SMMA) ile hesaplama fonksiyonu\n",
        "def calculate_rsi_rma(data, length=14):\n",
        "    delta = data['Close'].diff()\n",
        "    gain = delta.where(delta > 0, 0)\n",
        "    loss = -delta.where(delta < 0, 0)\n",
        "    avg_gain = gain.ewm(com=(length - 1), min_periods=length).mean()\n",
        "    avg_loss = loss.ewm(com=(length - 1), min_periods=length).mean()\n",
        "    rs = avg_gain / avg_loss\n",
        "    rsi = 100 - (100 / (1 + rs))\n",
        "    return rsi\n",
        "\n",
        "# Haftalık tarama yapmak için sabit zaman dilimi\n",
        "def get_weekly_interval():\n",
        "    return 'Haftalık', Interval.in_weekly\n",
        "\n",
        "# BIST'teki tüm hisse senetlerini otomatik çekme\n",
        "def get_all_stocks():\n",
        "    # tradingview_screener'dan tüm hisseleri al\n",
        "    tv = TvDatafeed()  # TVDatafeed örneği oluştur\n",
        "    Hisseler = get_all_symbols(market='turkey')  # Türk hisselerini al\n",
        "    Hisseler = [symbol.replace('BIST:', '') for symbol in Hisseler]  # BIST: kısmını kaldır\n",
        "    return sorted(Hisseler)  # Sıralı liste döndür\n",
        "\n",
        "# Veriyi çekme ve RSI 50 kırılımı analizi yapma\n",
        "def analyze_rsi_breakout(stock_list):\n",
        "    interval_name, interval = get_weekly_interval()\n",
        "    tv = TvDatafeed()\n",
        "\n",
        "    # XU100 verisini haftalık olarak çek\n",
        "    xu100_data = tv.get_hist('XU100', exchange='BIST', interval=interval, n_bars=1000)\n",
        "    xu100_data.rename(columns={'open': 'Open', 'high': 'High', 'low': 'Low', 'close': 'Close', 'volume': 'Volume'}, inplace=True)\n",
        "\n",
        "    results = []\n",
        "    for stock in tqdm(stock_list, desc=\"Taramalar ilerliyor\"):\n",
        "        try:\n",
        "            data = tv.get_hist(symbol=f\"{stock}/XU100\", exchange='BIST', interval=interval, n_bars=1000)\n",
        "            data.rename(columns={'open': 'Open', 'high': 'High', 'low': 'Low', 'close': 'Close', 'volume': 'Volume'}, inplace=True)\n",
        "            data['RSI'] = calculate_rsi_rma(data)\n",
        "\n",
        "            if data['RSI'].iloc[-2] < 50 <= data['RSI'].iloc[-1]:\n",
        "                results.append([stock, data['Close'].iloc[-1], \"RSI 50 Üzeri\", interval_name, data.index[-1]])\n",
        "                print(f\"{stock} - RSI 50 kırılımı - Zaman Dilimi: {interval_name}\")\n",
        "\n",
        "        except Exception as e:\n",
        "            print(f\"{stock} işlenirken hata: {e}\")\n",
        "\n",
        "    df_results = pd.DataFrame(results, columns=['Hisse Adı', 'Son Fiyat', 'Kırılım Türü', 'Zaman Dilimi', 'Kırılım Zamanı'])\n",
        "    return df_results\n",
        "\n",
        "# Tüm hisseleri çek\n",
        "stock_list = get_all_stocks()\n",
        "\n",
        "# Tarama yap ve sonuçları göster\n",
        "df_results = analyze_rsi_breakout(stock_list)\n",
        "print(\"RSI 50 Kırılım Sinyalleri:\")\n",
        "print(df_results)\n",
        "\n",
        "# Excel dosyasına kaydet\n",
        "excel_file = 'rsi_breakout_signals_weekly.xlsx'\n",
        "df_results.to_excel(excel_file, index=False)\n",
        "print(f\"RSI 50 kırılım sinyalleri '{excel_file}' dosyasına kaydedildi.\")"
      ]
    }
  ],
  "metadata": {
    "colab": {
      "provenance": [],
      "include_colab_link": true
    },
    "kernelspec": {
      "display_name": "Python 3",
      "name": "python3"
    },
    "language_info": {
      "name": "python"
    }
  },
  "nbformat": 4,
  "nbformat_minor": 0
}