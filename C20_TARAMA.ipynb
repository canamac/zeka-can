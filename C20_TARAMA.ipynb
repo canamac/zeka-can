{
  "nbformat": 4,
  "nbformat_minor": 0,
  "metadata": {
    "colab": {
      "provenance": [],
      "authorship_tag": "ABX9TyMOUnL6bIroKgG9TXNZejN4",
      "include_colab_link": true
    },
    "kernelspec": {
      "name": "python3",
      "display_name": "Python 3"
    },
    "language_info": {
      "name": "python"
    }
  },
  "cells": [
    {
      "cell_type": "markdown",
      "metadata": {
        "id": "view-in-github",
        "colab_type": "text"
      },
      "source": [
        "<a href=\"https://colab.research.google.com/github/canamac/zeka-can/blob/main/C20_TARAMA.ipynb\" target=\"_parent\"><img src=\"https://colab.research.google.com/assets/colab-badge.svg\" alt=\"Open In Colab\"/></a>"
      ]
    },
    {
      "cell_type": "code",
      "execution_count": 1,
      "metadata": {
        "colab": {
          "base_uri": "https://localhost:8080/"
        },
        "id": "NsXJB48Rgo9p",
        "outputId": "d844f7d3-ae4d-4783-db39-5e6233c4df8e"
      },
      "outputs": [
        {
          "output_type": "stream",
          "name": "stdout",
          "text": [
            "Analiz edilecek coinler: BTC, ETH, XRP, USDT, SOL, BNB, DOGE, ADA, SUI, USDC\n",
            "\n",
            "\n",
            "BTC için sinyaller:\n"
          ]
        },
        {
          "output_type": "stream",
          "name": "stderr",
          "text": [
            "<ipython-input-1-f2c095c8ba0f>:52: FutureWarning: 'H' is deprecated and will be removed in a future version, please use 'h' instead.\n",
            "  df_4h = df.resample('4H').agg({\n"
          ]
        },
        {
          "output_type": "stream",
          "name": "stdout",
          "text": [
            "\n",
            "4H Sinyaller:\n",
            "Tarih: 2024-10-31 12:00:00, Sinyal: SHORT, Fiyat: 70620.26, RSI Değişim: -20.37\n",
            "Tarih: 2024-11-06 00:00:00, Sinyal: LONG, Fiyat: 74343.96, RSI Değişim: 22.97\n",
            "\n",
            "ETH için sinyaller:\n"
          ]
        },
        {
          "output_type": "stream",
          "name": "stderr",
          "text": [
            "<ipython-input-1-f2c095c8ba0f>:52: FutureWarning: 'H' is deprecated and will be removed in a future version, please use 'h' instead.\n",
            "  df_4h = df.resample('4H').agg({\n"
          ]
        },
        {
          "output_type": "stream",
          "name": "stdout",
          "text": [
            "\n",
            "4H Sinyaller:\n",
            "Tarih: 2024-11-06 00:00:00, Sinyal: LONG, Fiyat: 2579.36, RSI Değişim: 26.40\n",
            "Tarih: 2024-12-20 12:00:00, Sinyal: LONG, Fiyat: 3374.68, RSI Değişim: 22.46\n",
            "\n",
            "XRP için sinyaller:\n"
          ]
        },
        {
          "output_type": "stream",
          "name": "stderr",
          "text": [
            "<ipython-input-1-f2c095c8ba0f>:52: FutureWarning: 'H' is deprecated and will be removed in a future version, please use 'h' instead.\n",
            "  df_4h = df.resample('4H').agg({\n"
          ]
        },
        {
          "output_type": "stream",
          "name": "stdout",
          "text": [
            "\n",
            "USDT için sinyaller:\n"
          ]
        },
        {
          "output_type": "stream",
          "name": "stderr",
          "text": [
            "<ipython-input-1-f2c095c8ba0f>:52: FutureWarning: 'H' is deprecated and will be removed in a future version, please use 'h' instead.\n",
            "  df_4h = df.resample('4H').agg({\n"
          ]
        },
        {
          "output_type": "stream",
          "name": "stdout",
          "text": [
            "\n",
            "SOL için sinyaller:\n"
          ]
        },
        {
          "output_type": "stream",
          "name": "stderr",
          "text": [
            "<ipython-input-1-f2c095c8ba0f>:52: FutureWarning: 'H' is deprecated and will be removed in a future version, please use 'h' instead.\n",
            "  df_4h = df.resample('4H').agg({\n"
          ]
        },
        {
          "output_type": "stream",
          "name": "stdout",
          "text": [
            "\n",
            "BNB için sinyaller:\n"
          ]
        },
        {
          "output_type": "stream",
          "name": "stderr",
          "text": [
            "<ipython-input-1-f2c095c8ba0f>:52: FutureWarning: 'H' is deprecated and will be removed in a future version, please use 'h' instead.\n",
            "  df_4h = df.resample('4H').agg({\n"
          ]
        },
        {
          "output_type": "stream",
          "name": "stdout",
          "text": [
            "\n",
            "Günlük Sinyaller:\n",
            "Tarih: 2023-11-21 00:00:00, Sinyal: SHORT, Fiyat: 225.51, RSI Değişim: -21.86\n",
            "\n",
            "DOGE için sinyaller:\n"
          ]
        },
        {
          "output_type": "stream",
          "name": "stderr",
          "text": [
            "<ipython-input-1-f2c095c8ba0f>:52: FutureWarning: 'H' is deprecated and will be removed in a future version, please use 'h' instead.\n",
            "  df_4h = df.resample('4H').agg({\n"
          ]
        },
        {
          "output_type": "stream",
          "name": "stdout",
          "text": [
            "\n",
            "4H Sinyaller:\n",
            "Tarih: 2024-10-15 08:00:00, Sinyal: SHORT, Fiyat: 0.11, RSI Değişim: -21.08\n",
            "Tarih: 2024-12-20 12:00:00, Sinyal: LONG, Fiyat: 0.30, RSI Değişim: 20.89\n",
            "\n",
            "ADA için sinyaller:\n"
          ]
        },
        {
          "output_type": "stream",
          "name": "stderr",
          "text": [
            "<ipython-input-1-f2c095c8ba0f>:52: FutureWarning: 'H' is deprecated and will be removed in a future version, please use 'h' instead.\n",
            "  df_4h = df.resample('4H').agg({\n"
          ]
        },
        {
          "output_type": "stream",
          "name": "stdout",
          "text": [
            "\n",
            "4H Sinyaller:\n",
            "Tarih: 2024-11-06 00:00:00, Sinyal: LONG, Fiyat: 0.36, RSI Değişim: 22.59\n",
            "Tarih: 2024-12-20 12:00:00, Sinyal: LONG, Fiyat: 0.88, RSI Değişim: 20.82\n",
            "\n",
            "SUI için sinyaller:\n"
          ]
        },
        {
          "output_type": "stream",
          "name": "stderr",
          "text": [
            "<ipython-input-1-f2c095c8ba0f>:52: FutureWarning: 'H' is deprecated and will be removed in a future version, please use 'h' instead.\n",
            "  df_4h = df.resample('4H').agg({\n"
          ]
        },
        {
          "output_type": "stream",
          "name": "stdout",
          "text": [
            "\n",
            "4H Sinyaller:\n",
            "Tarih: 2024-12-20 12:00:00, Sinyal: LONG, Fiyat: 4.29, RSI Değişim: 28.81\n",
            "\n",
            "Günlük Sinyaller:\n",
            "Tarih: 2024-08-08 00:00:00, Sinyal: LONG, Fiyat: 0.85, RSI Değişim: 22.38\n",
            "\n",
            "USDC için sinyaller:\n"
          ]
        },
        {
          "output_type": "stream",
          "name": "stderr",
          "text": [
            "<ipython-input-1-f2c095c8ba0f>:52: FutureWarning: 'H' is deprecated and will be removed in a future version, please use 'h' instead.\n",
            "  df_4h = df.resample('4H').agg({\n"
          ]
        },
        {
          "output_type": "stream",
          "name": "stdout",
          "text": [
            "\n",
            "4H Sinyaller:\n",
            "Tarih: 2024-10-22 04:00:00, Sinyal: LONG, Fiyat: 1.00, RSI Değişim: 41.61\n",
            "Tarih: 2024-10-22 12:00:00, Sinyal: SHORT, Fiyat: 1.00, RSI Değişim: -45.12\n",
            "Tarih: 2024-10-24 16:00:00, Sinyal: SHORT, Fiyat: 1.00, RSI Değişim: -29.75\n",
            "Tarih: 2024-10-24 20:00:00, Sinyal: LONG, Fiyat: 1.00, RSI Değişim: 20.83\n",
            "Tarih: 2024-10-31 12:00:00, Sinyal: LONG, Fiyat: 1.00, RSI Değişim: 22.71\n",
            "Tarih: 2024-11-01 12:00:00, Sinyal: SHORT, Fiyat: 1.00, RSI Değişim: -23.17\n",
            "Tarih: 2024-11-04 00:00:00, Sinyal: LONG, Fiyat: 1.00, RSI Değişim: 21.64\n",
            "Tarih: 2024-11-04 12:00:00, Sinyal: SHORT, Fiyat: 1.00, RSI Değişim: -20.55\n",
            "Tarih: 2024-12-09 20:00:00, Sinyal: SHORT, Fiyat: 1.00, RSI Değişim: -22.46\n",
            "Tarih: 2024-12-19 00:00:00, Sinyal: LONG, Fiyat: 1.00, RSI Değişim: 26.75\n",
            "Tarih: 2024-12-20 12:00:00, Sinyal: SHORT, Fiyat: 1.00, RSI Değişim: -33.02\n",
            "Tarih: 2024-12-24 08:00:00, Sinyal: SHORT, Fiyat: 1.00, RSI Değişim: -21.14\n",
            "Tarih: 2024-12-27 16:00:00, Sinyal: LONG, Fiyat: 1.00, RSI Değişim: 20.84\n",
            "Tarih: 2024-12-27 20:00:00, Sinyal: SHORT, Fiyat: 1.00, RSI Değişim: -22.90\n",
            "Tarih: 2024-12-30 16:00:00, Sinyal: SHORT, Fiyat: 1.00, RSI Değişim: -28.30\n",
            "Tarih: 2024-12-30 20:00:00, Sinyal: LONG, Fiyat: 1.00, RSI Değişim: 21.67\n",
            "\n",
            "Günlük Sinyaller:\n",
            "Tarih: 2023-09-08 00:00:00, Sinyal: SHORT, Fiyat: 1.00, RSI Değişim: -20.30\n",
            "Tarih: 2023-09-26 00:00:00, Sinyal: LONG, Fiyat: 1.00, RSI Değişim: 22.44\n",
            "Tarih: 2023-09-28 00:00:00, Sinyal: SHORT, Fiyat: 1.00, RSI Değişim: -22.32\n",
            "Tarih: 2024-10-09 00:00:00, Sinyal: LONG, Fiyat: 1.00, RSI Değişim: 22.61\n",
            "Tarih: 2024-10-11 00:00:00, Sinyal: SHORT, Fiyat: 1.00, RSI Değişim: -28.49\n",
            "Tarih: 2024-10-22 00:00:00, Sinyal: LONG, Fiyat: 1.00, RSI Değişim: 23.14\n",
            "Tarih: 2024-10-26 00:00:00, Sinyal: SHORT, Fiyat: 1.00, RSI Değişim: -23.04\n"
          ]
        }
      ],
      "source": [
        "import requests\n",
        "import pandas as pd\n",
        "import numpy as np\n",
        "from datetime import datetime\n",
        "\n",
        "API_KEY = \"API_KEY\"\n",
        "\n",
        "def get_top_coins(limit=10):\n",
        "    url = f\"https://min-api.cryptocompare.com/data/top/mktcapfull\"\n",
        "    headers = {'authorization': f'Apikey {API_KEY}'}\n",
        "    params = {'limit': limit, 'tsym': 'USDT'}\n",
        "    response = requests.get(url, params=params, headers=headers)\n",
        "    data = response.json()['Data']\n",
        "    return [coin['CoinInfo']['Name'] for coin in data]\n",
        "\n",
        "def get_historical_data(symbol, timeframe='hour', limit=500):\n",
        "    url = f\"https://min-api.cryptocompare.com/data/v2/histo{timeframe}\"\n",
        "    headers = {'authorization': f'Apikey {API_KEY}'}\n",
        "    params = {'fsym': symbol, 'tsym': 'USDT', 'limit': limit}\n",
        "    response = requests.get(url, params=params, headers=headers)\n",
        "    df = pd.DataFrame(response.json()['Data']['Data'])\n",
        "    df['timestamp'] = pd.to_datetime(df['time'], unit='s')\n",
        "    return df\n",
        "\n",
        "def calculate_rsi(series, period=14):\n",
        "    delta = series.diff()\n",
        "    up = delta.clip(lower=0)\n",
        "    down = -delta.clip(upper=0)\n",
        "\n",
        "    ma_up = up.ewm(com=period-1, adjust=True, min_periods=period).mean()\n",
        "    ma_down = down.ewm(com=period-1, adjust=True, min_periods=period).mean()\n",
        "\n",
        "    rsi = ma_up / ma_down\n",
        "    rsi = 100 - (100 / (1 + rsi))\n",
        "    return rsi\n",
        "\n",
        "def calculate_c20_signals(data, symbol):\n",
        "    data = data.copy()\n",
        "    data['symbol'] = symbol\n",
        "    data['logClose'] = np.log(data['close'])\n",
        "    data['rsi'] = calculate_rsi(data['logClose'], 14)\n",
        "    data['rsiChange'] = data['rsi'].diff()\n",
        "\n",
        "    data['prev_rsiChange'] = data['rsiChange'].shift(1)\n",
        "    data['c20_long'] = (data['rsiChange'].gt(20)) & (data['prev_rsiChange'].le(20))\n",
        "    data['c20_short'] = (data['rsiChange'].lt(-20)) & (data['prev_rsiChange'].ge(-20))\n",
        "\n",
        "    return data\n",
        "\n",
        "def process_4h_data(df):\n",
        "    df = df.set_index('timestamp')\n",
        "    df_4h = df.resample('4H').agg({\n",
        "        'time': 'first',\n",
        "        'close': 'last',\n",
        "        'high': 'max',\n",
        "        'low': 'min',\n",
        "        'open': 'first',\n",
        "        'volumefrom': 'sum'\n",
        "    }).dropna()\n",
        "    return df_4h.reset_index()\n",
        "\n",
        "def main():\n",
        "    top_coins = get_top_coins(10)\n",
        "    print(f\"Analiz edilecek coinler: {', '.join(top_coins)}\\n\")\n",
        "\n",
        "    for symbol in top_coins:\n",
        "        print(f\"\\n{symbol} için sinyaller:\")\n",
        "        try:\n",
        "            # 4H data\n",
        "            df = get_historical_data(symbol, 'hour', 2000)\n",
        "            df_4h = process_4h_data(df)\n",
        "            signals_4h = calculate_c20_signals(df_4h, symbol)\n",
        "\n",
        "            # Daily data\n",
        "            df_daily = get_historical_data(symbol, 'day', 500)\n",
        "            signals_daily = calculate_c20_signals(df_daily, symbol)\n",
        "\n",
        "            # 4H sinyalleri\n",
        "            signal_4h = signals_4h[signals_4h['c20_long'] | signals_4h['c20_short']]\n",
        "            if not signal_4h.empty:\n",
        "                print(\"\\n4H Sinyaller:\")\n",
        "                signal_4h.apply(\n",
        "                    lambda x: print(f\"Tarih: {x['timestamp']}, \"\n",
        "                                f\"Sinyal: {'LONG' if x['c20_long'] else 'SHORT'}, \"\n",
        "                                f\"Fiyat: {x['close']:.2f}, \"\n",
        "                                f\"RSI Değişim: {x['rsiChange']:.2f}\"),\n",
        "                    axis=1)\n",
        "\n",
        "            # Günlük sinyaller\n",
        "            signal_daily = signals_daily[signals_daily['c20_long'] | signals_daily['c20_short']]\n",
        "            if not signal_daily.empty:\n",
        "                print(\"\\nGünlük Sinyaller:\")\n",
        "                signal_daily.apply(\n",
        "                    lambda x: print(f\"Tarih: {datetime.fromtimestamp(x['time'])}, \"\n",
        "                                f\"Sinyal: {'LONG' if x['c20_long'] else 'SHORT'}, \"\n",
        "                                f\"Fiyat: {x['close']:.2f}, \"\n",
        "                                f\"RSI Değişim: {x['rsiChange']:.2f}\"),\n",
        "                    axis=1)\n",
        "\n",
        "        except Exception as e:\n",
        "            print(f\"Hata: {symbol} için veri alınamadı - {str(e)}\")\n",
        "            continue\n",
        "\n",
        "if __name__ == \"__main__\":\n",
        "    main()"
      ]
    }
  ]
}