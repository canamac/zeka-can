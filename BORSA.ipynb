{
  "nbformat": 4,
  "nbformat_minor": 0,
  "metadata": {
    "colab": {
      "provenance": [],
      "authorship_tag": "ABX9TyPIFvVo+80Ae81Ng0dyoHnM",
      "include_colab_link": true
    },
    "kernelspec": {
      "name": "python3",
      "display_name": "Python 3"
    },
    "language_info": {
      "name": "python"
    }
  },
  "cells": [
    {
      "cell_type": "markdown",
      "metadata": {
        "id": "view-in-github",
        "colab_type": "text"
      },
      "source": [
        "<a href=\"https://colab.research.google.com/github/canamac/zeka-can/blob/main/BORSA.ipynb\" target=\"_parent\"><img src=\"https://colab.research.google.com/assets/colab-badge.svg\" alt=\"Open In Colab\"/></a>"
      ]
    },
    {
      "cell_type": "code",
      "execution_count": null,
      "metadata": {
        "id": "-cJDD-DVV_i4"
      },
      "outputs": [],
      "source": [
        "import streamlit as st\n",
        "import yfinance as yf\n",
        "import matplotlib.pyplot as plt\n",
        "from datetime import datetime\n",
        "\n",
        "# Kullanıcıdan hisse senedi sembolünü alın\n",
        "symbol = st.sidebar.text_input('Hisse Senedi Sembolü', value='ASELS')\n",
        "\n",
        "# Streamlit uygulama başlığı\n",
        "st.title( symbol + ' Hisse Senedi Grafiği')\n",
        "\n",
        "\n",
        "# Kullanıcıdan veri aralığını alın\n",
        "start_date = st.sidebar.date_input('Başlangıç Tarihi', value=datetime(2020, 1, 1))\n",
        "end_date = st.sidebar.date_input('Bitiş Tarihi', value=datetime.now())\n",
        "\n",
        "# Hisse senedi verilerini Yandex Finans API'si üzerinden alın\n",
        "df = yf.download(symbol + '.IS', start=start_date, end=end_date)\n",
        "\n",
        "# Verileri grafikleştirin\n",
        "st.subheader('Hisse Senedi Fiyatları')\n",
        "st.line_chart(df['Close'])\n",
        "\n",
        "# Verilerin tablosunu gösterin\n",
        "st.subheader('Hisse Senedi Verileri')\n",
        "st.write(df)"
      ]
    }
  ]
}