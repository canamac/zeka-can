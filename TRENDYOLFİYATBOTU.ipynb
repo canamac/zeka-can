{
  "nbformat": 4,
  "nbformat_minor": 0,
  "metadata": {
    "colab": {
      "provenance": [],
      "authorship_tag": "ABX9TyOUzOYySevbLxfQHRQE4Y1j",
      "include_colab_link": true
    },
    "kernelspec": {
      "name": "python3",
      "display_name": "Python 3"
    },
    "language_info": {
      "name": "python"
    }
  },
  "cells": [
    {
      "cell_type": "markdown",
      "metadata": {
        "id": "view-in-github",
        "colab_type": "text"
      },
      "source": [
        "<a href=\"https://colab.research.google.com/github/canamac/zeka-can/blob/main/TRENDYOLF%C4%B0YATBOTU.ipynb\" target=\"_parent\"><img src=\"https://colab.research.google.com/assets/colab-badge.svg\" alt=\"Open In Colab\"/></a>"
      ]
    },
    {
      "cell_type": "code",
      "execution_count": null,
      "metadata": {
        "id": "qLFVYyY9VSmK"
      },
      "outputs": [],
      "source": [
        "from bs4 import BeautifulSoup\n",
        "import requests\n",
        "\n",
        "while True:\n",
        "    url = \"https://www.trendyol.com/nike/academy-team-s-futbol-spor-cantasi-cu8097-010-p-101456942\"\n",
        "\n",
        "\n",
        "    sayfa = requests.get(url)\n",
        "\n",
        "    html_sayfa = BeautifulSoup(sayfa.content,\"html.parser\")\n",
        "\n",
        "\n",
        "\n",
        "    isim = html_sayfa.find(\"h1\",class_=\"pr-new-br\").getText()\n",
        "\n",
        "    print(isim)\n",
        "\n",
        "    fiyat = html_sayfa.find(\"span\",class_=\"prc-dsc\").getText()\n",
        "\n",
        "    print(fiyat)\n",
        "\n",
        "\n",
        "    #Telegram\n",
        "\n",
        "    import time\n",
        "\n",
        "\n",
        "    api = \"https://api.telegram.org/bot-ID-/SendMessage\"\n",
        "\n",
        "    mesaj = isim + \"\\n\" + fiyat\n",
        "\n",
        "    requests.post(url=api,data={\"chat_id\":\"1909392259\",\"text\":mesaj}).json()\n",
        "\n",
        "    time.sleep(5)"
      ]
    }
  ]
}