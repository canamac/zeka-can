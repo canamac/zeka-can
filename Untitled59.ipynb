{
  "nbformat": 4,
  "nbformat_minor": 0,
  "metadata": {
    "colab": {
      "provenance": [],
      "authorship_tag": "ABX9TyML9TSlY1BeAHKaRg1NqJwb",
      "include_colab_link": true
    },
    "kernelspec": {
      "name": "python3",
      "display_name": "Python 3"
    },
    "language_info": {
      "name": "python"
    }
  },
  "cells": [
    {
      "cell_type": "markdown",
      "metadata": {
        "id": "view-in-github",
        "colab_type": "text"
      },
      "source": [
        "<a href=\"https://colab.research.google.com/github/canamac/zeka-can/blob/main/Untitled59.ipynb\" target=\"_parent\"><img src=\"https://colab.research.google.com/assets/colab-badge.svg\" alt=\"Open In Colab\"/></a>"
      ]
    },
    {
      "cell_type": "code",
      "execution_count": null,
      "metadata": {
        "id": "wJblilqDcx5c"
      },
      "outputs": [],
      "source": [
        "import pandas as pd\n",
        "import numpy as np\n",
        "import matplotlib.pyplot as plt\n",
        "\n",
        "# Örnek bir veri seti (veya gerçek verilerle değiştirin)\n",
        "data = {\n",
        "    \"Close\": [100, 102, 101, 103, 104, 106, 105, 107, 108, 110],\n",
        "    \"Volume\": [1000, 1200, 1100, 1300, 1400, 1500, 1400, 1600, 1700, 1800]\n",
        "}\n",
        "df = pd.DataFrame(data)\n",
        "\n",
        "# Log OBV hesaplama\n",
        "def calculate_log_obv(df):\n",
        "    obv = [0]  # Başlangıç değeri 0\n",
        "    for i in range(1, len(df)):\n",
        "        if df['Close'][i] > df['Close'][i - 1]:\n",
        "            obv.append(obv[-1] + df['Volume'][i])\n",
        "        elif df['Close'][i] < df['Close'][i - 1]:\n",
        "            obv.append(obv[-1] - df['Volume'][i])\n",
        "        else:\n",
        "            obv.append(obv[-1])\n",
        "    df['OBV'] = obv\n",
        "    df['Log_OBV'] = np.log(np.abs(df['OBV']) + 1) * np.sign(df['OBV'])\n",
        "    return df\n",
        "\n",
        "df = calculate_log_obv(df)\n",
        "\n",
        "# Divergence kontrolü (fiyat ve Log OBV arasındaki uyumsuzluk)\n",
        "def find_divergence(df):\n",
        "    divergences = []\n",
        "    for i in range(2, len(df)):\n",
        "        # Fiyat trendi\n",
        "        price_trend = df['Close'][i] - df['Close'][i - 2]\n",
        "        # Log OBV trendi\n",
        "        log_obv_trend = df['Log_OBV'][i] - df['Log_OBV'][i - 2]\n",
        "\n",
        "        # Uyumsuzluk kontrolü\n",
        "        if price_trend > 0 and log_obv_trend < 0:\n",
        "            divergences.append((i, \"Negative Divergence\"))\n",
        "        elif price_trend < 0 and log_obv_trend > 0:\n",
        "            divergences.append((i, \"Positive Divergence\"))\n",
        "    return divergences\n",
        "\n",
        "divergences = find_divergence(df)\n",
        "\n",
        "# Sonuçları görselleştirme\n",
        "plt.figure(figsize=(12, 6))\n",
        "\n",
        "# Fiyat grafiği\n",
        "plt.subplot(2, 1, 1)\n",
        "plt.plot(df['Close'], label='Close Price', color='blue')\n",
        "plt.title('Price and Log OBV with Divergences')\n",
        "plt.legend()\n",
        "\n",
        "# Log OBV grafiği\n",
        "plt.subplot(2, 1, 2)\n",
        "plt.plot(df['Log_OBV'], label='Log OBV', color='green')\n",
        "\n",
        "# Divergences işaretleme\n",
        "for idx, div_type in divergences:\n",
        "    plt.scatter(idx, df['Log_OBV'][idx], color='red' if \"Negative\" in div_type else 'orange', label=div_type)\n",
        "\n",
        "plt.legend()\n",
        "plt.show()\n",
        "\n",
        "# Uyumsuzlukları yazdırma\n",
        "print(\"Divergences:\")\n",
        "for idx, div_type in divergences:\n",
        "    print(f\"Index {idx}: {div_type}\")"
      ]
    }
  ]
}