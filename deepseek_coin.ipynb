{
  "nbformat": 4,
  "nbformat_minor": 0,
  "metadata": {
    "colab": {
      "provenance": [],
      "authorship_tag": "ABX9TyPfs575zx3oHRE9pG0jwOEN",
      "include_colab_link": true
    },
    "kernelspec": {
      "name": "python3",
      "display_name": "Python 3"
    },
    "language_info": {
      "name": "python"
    }
  },
  "cells": [
    {
      "cell_type": "markdown",
      "metadata": {
        "id": "view-in-github",
        "colab_type": "text"
      },
      "source": [
        "<a href=\"https://colab.research.google.com/github/canamac/zeka-can/blob/main/deepseek_coin.ipynb\" target=\"_parent\"><img src=\"https://colab.research.google.com/assets/colab-badge.svg\" alt=\"Open In Colab\"/></a>"
      ]
    },
    {
      "cell_type": "code",
      "execution_count": null,
      "metadata": {
        "colab": {
          "base_uri": "https://localhost:8080/"
        },
        "id": "og2VpUqNkJ0-",
        "outputId": "59397165-4df3-4f0f-c0c4-6219da40da8f"
      },
      "outputs": [
        {
          "metadata": {
            "tags": null
          },
          "name": "stdout",
          "output_type": "stream",
          "text": [
            "Scanning at Mon Feb  3 06:48:09 2025...\n",
            "Processing BTCUSDT...\n",
            "Processing ETHUSDT...\n"
          ]
        },
        {
          "metadata": {
            "tags": null
          },
          "name": "stderr",
          "output_type": "stream",
          "text": [
            "<ipython-input-1-94cd3b771027>:44: FutureWarning: A value is trying to be set on a copy of a DataFrame or Series through chained assignment using an inplace method.\n",
            "The behavior will change in pandas 3.0. This inplace method will never work because the intermediate object on which we are setting values always behaves as a copy.\n",
            "\n",
            "For example, when doing 'df[col].method(value, inplace=True)', try using 'df.method({col: value}, inplace=True)' or df[col] = df[col].method(value) instead, to perform the operation inplace on the original object.\n",
            "\n",
            "\n",
            "  df['long_pullback'].ffill(inplace=True)\n",
            "<ipython-input-1-94cd3b771027>:45: FutureWarning: A value is trying to be set on a copy of a DataFrame or Series through chained assignment using an inplace method.\n",
            "The behavior will change in pandas 3.0. This inplace method will never work because the intermediate object on which we are setting values always behaves as a copy.\n",
            "\n",
            "For example, when doing 'df[col].method(value, inplace=True)', try using 'df.method({col: value}, inplace=True)' or df[col] = df[col].method(value) instead, to perform the operation inplace on the original object.\n",
            "\n",
            "\n",
            "  df['short_pullback'].ffill(inplace=True)\n",
            "<ipython-input-1-94cd3b771027>:44: FutureWarning: A value is trying to be set on a copy of a DataFrame or Series through chained assignment using an inplace method.\n",
            "The behavior will change in pandas 3.0. This inplace method will never work because the intermediate object on which we are setting values always behaves as a copy.\n",
            "\n",
            "For example, when doing 'df[col].method(value, inplace=True)', try using 'df.method({col: value}, inplace=True)' or df[col] = df[col].method(value) instead, to perform the operation inplace on the original object.\n",
            "\n",
            "\n",
            "  df['long_pullback'].ffill(inplace=True)\n",
            "<ipython-input-1-94cd3b771027>:45: FutureWarning: A value is trying to be set on a copy of a DataFrame or Series through chained assignment using an inplace method.\n",
            "The behavior will change in pandas 3.0. This inplace method will never work because the intermediate object on which we are setting values always behaves as a copy.\n",
            "\n",
            "For example, when doing 'df[col].method(value, inplace=True)', try using 'df.method({col: value}, inplace=True)' or df[col] = df[col].method(value) instead, to perform the operation inplace on the original object.\n",
            "\n",
            "\n",
            "  df['short_pullback'].ffill(inplace=True)\n"
          ]
        },
        {
          "metadata": {
            "tags": null
          },
          "name": "stdout",
          "output_type": "stream",
          "text": [
            "Processing BNBUSDT...\n",
            "Processing ADAUSDT...\n"
          ]
        },
        {
          "metadata": {
            "tags": null
          },
          "name": "stderr",
          "output_type": "stream",
          "text": [
            "<ipython-input-1-94cd3b771027>:44: FutureWarning: A value is trying to be set on a copy of a DataFrame or Series through chained assignment using an inplace method.\n",
            "The behavior will change in pandas 3.0. This inplace method will never work because the intermediate object on which we are setting values always behaves as a copy.\n",
            "\n",
            "For example, when doing 'df[col].method(value, inplace=True)', try using 'df.method({col: value}, inplace=True)' or df[col] = df[col].method(value) instead, to perform the operation inplace on the original object.\n",
            "\n",
            "\n",
            "  df['long_pullback'].ffill(inplace=True)\n",
            "<ipython-input-1-94cd3b771027>:45: FutureWarning: A value is trying to be set on a copy of a DataFrame or Series through chained assignment using an inplace method.\n",
            "The behavior will change in pandas 3.0. This inplace method will never work because the intermediate object on which we are setting values always behaves as a copy.\n",
            "\n",
            "For example, when doing 'df[col].method(value, inplace=True)', try using 'df.method({col: value}, inplace=True)' or df[col] = df[col].method(value) instead, to perform the operation inplace on the original object.\n",
            "\n",
            "\n",
            "  df['short_pullback'].ffill(inplace=True)\n",
            "<ipython-input-1-94cd3b771027>:44: FutureWarning: A value is trying to be set on a copy of a DataFrame or Series through chained assignment using an inplace method.\n",
            "The behavior will change in pandas 3.0. This inplace method will never work because the intermediate object on which we are setting values always behaves as a copy.\n",
            "\n",
            "For example, when doing 'df[col].method(value, inplace=True)', try using 'df.method({col: value}, inplace=True)' or df[col] = df[col].method(value) instead, to perform the operation inplace on the original object.\n",
            "\n",
            "\n",
            "  df['long_pullback'].ffill(inplace=True)\n",
            "<ipython-input-1-94cd3b771027>:45: FutureWarning: A value is trying to be set on a copy of a DataFrame or Series through chained assignment using an inplace method.\n",
            "The behavior will change in pandas 3.0. This inplace method will never work because the intermediate object on which we are setting values always behaves as a copy.\n",
            "\n",
            "For example, when doing 'df[col].method(value, inplace=True)', try using 'df.method({col: value}, inplace=True)' or df[col] = df[col].method(value) instead, to perform the operation inplace on the original object.\n",
            "\n",
            "\n",
            "  df['short_pullback'].ffill(inplace=True)\n"
          ]
        },
        {
          "metadata": {
            "tags": null
          },
          "name": "stdout",
          "output_type": "stream",
          "text": [
            "Processing SOLUSDT...\n"
          ]
        },
        {
          "metadata": {
            "tags": null
          },
          "name": "stderr",
          "output_type": "stream",
          "text": [
            "<ipython-input-1-94cd3b771027>:44: FutureWarning: A value is trying to be set on a copy of a DataFrame or Series through chained assignment using an inplace method.\n",
            "The behavior will change in pandas 3.0. This inplace method will never work because the intermediate object on which we are setting values always behaves as a copy.\n",
            "\n",
            "For example, when doing 'df[col].method(value, inplace=True)', try using 'df.method({col: value}, inplace=True)' or df[col] = df[col].method(value) instead, to perform the operation inplace on the original object.\n",
            "\n",
            "\n",
            "  df['long_pullback'].ffill(inplace=True)\n",
            "<ipython-input-1-94cd3b771027>:45: FutureWarning: A value is trying to be set on a copy of a DataFrame or Series through chained assignment using an inplace method.\n",
            "The behavior will change in pandas 3.0. This inplace method will never work because the intermediate object on which we are setting values always behaves as a copy.\n",
            "\n",
            "For example, when doing 'df[col].method(value, inplace=True)', try using 'df.method({col: value}, inplace=True)' or df[col] = df[col].method(value) instead, to perform the operation inplace on the original object.\n",
            "\n",
            "\n",
            "  df['short_pullback'].ffill(inplace=True)\n"
          ]
        }
      ],
      "source": [
        "import pandas as pd\n",
        "import numpy as np\n",
        "import requests\n",
        "import time\n",
        "\n",
        "# 1. Veri Çekme Fonksiyonu\n",
        "def get_binance_data(symbol, interval='1h', limit=100):\n",
        "    url = \"https://api.binance.com/api/v3/klines\"\n",
        "    params = {'symbol': symbol, 'interval': interval, 'limit': limit}\n",
        "    response = requests.get(url, params=params)\n",
        "    data = response.json()\n",
        "    df = pd.DataFrame(data, columns=['timestamp', 'open', 'high', 'low', 'close', 'volume', 'close_time', 'quote_asset_volume', 'number_of_trades', 'taker_buy_base_asset_volume', 'taker_buy_quote_asset_volume', 'ignore'])\n",
        "    df['timestamp'] = pd.to_datetime(df['timestamp'], unit='ms')\n",
        "    df[['open', 'high', 'low', 'close', 'volume']] = df[['open', 'high', 'low', 'close', 'volume']].astype(float)\n",
        "    return df[['timestamp', 'open', 'high', 'low', 'close', 'volume']]\n",
        "\n",
        "# 2. Strateji Fonksiyonu (DÜZELTİLDİ)\n",
        "def calculate_devisso_trend(df, zigzag_high_period=10, zigzag_low_period=10, min_movement_percent=0.16,\n",
        "                            ma_period=20, std_dev_multiplier=2.0, ma_length=10, volume_length=7):\n",
        "    # ZigZag hesaplamaları (Girinti eklendi)\n",
        "    df['zigzag_high'] = df['high'].rolling(zigzag_high_period).apply(lambda x: x.idxmax() == 0, raw=False)\n",
        "    df['zigzag_low'] = df['low'].rolling(zigzag_low_period).apply(lambda x: x.idxmin() == 0, raw=False)\n",
        "\n",
        "    # Minimum hareket hesaplama\n",
        "    df['min_movement'] = df['close'] * min_movement_percent / 100\n",
        "\n",
        "    # Long/Short Mumu sinyalleri\n",
        "    df['long_mumu'] = (df['zigzag_high'] > df['zigzag_high'].shift()) & (df['close'] - df['close'].shift() >= df['min_movement'])\n",
        "    df['short_mumu'] = (df['zigzag_low'] < df['zigzag_low'].shift()) & (df['close'].shift() - df['close'] >= df['min_movement'])\n",
        "\n",
        "    # Bollinger Bantları\n",
        "    df['ma'] = df['close'].rolling(ma_period).mean()\n",
        "    df['std_dev'] = df['close'].rolling(ma_period).std()\n",
        "    df['upper_band'] = df['ma'] + std_dev_multiplier * df['std_dev']\n",
        "    df['lower_band'] = df['ma'] - std_dev_multiplier * df['std_dev']\n",
        "\n",
        "    # Sinyal koşulları\n",
        "    df['long_signal'] = df['long_mumu'] & (df['close'] > df['ma']) & (df['close'] > df['upper_band'])\n",
        "    df['short_signal'] = df['short_mumu'] & (df['close'] < df['ma']) & (df['close'] < df['lower_band'])\n",
        "\n",
        "    # Çekme seviyeleri\n",
        "    df['long_pullback'] = np.where(df['long_mumu'], df['close'], np.nan)\n",
        "    df['short_pullback'] = np.where(df['short_mumu'], df['close'], np.nan)\n",
        "    df['long_pullback'].ffill(inplace=True)\n",
        "    df['short_pullback'].ffill(inplace=True)\n",
        "\n",
        "    # Ardışık yükseliş/düşüş sayıları\n",
        "    df['consecutive_up'] = df['long_mumu'].groupby((~df['long_mumu']).cumsum()).cumsum()\n",
        "    df['consecutive_down'] = df['short_mumu'].groupby((~df['short_mumu']).cumsum()).cumsum()\n",
        "\n",
        "    # Potansiyel mumlar\n",
        "    df['short_potential'] = (df['close'] > df['ma']) & (df['close'] < df['long_pullback']) & (df['close'] >= df['upper_band'])\n",
        "    df['long_potential'] = (df['close'] > df['short_pullback']) & (df['close'] > df['short_pullback'].rolling(2).mean()) & (df['close'] < df['ma'])\n",
        "\n",
        "    # Hareketli ortalamalar\n",
        "    df['all_signals'] = np.where(df['long_mumu'], df['low'], np.where(df['short_mumu'], df['high'], np.nan))\n",
        "    df['ma_all_signals'] = df['all_signals'].rolling(ma_length).mean()\n",
        "    df['all_signals2'] = np.where(df['short_potential'], df['low'], np.where(df['long_potential'], df['high'], np.nan))\n",
        "    df['ma_all_signals2'] = df['all_signals2'].rolling(ma_length).mean()\n",
        "    df['final_ma'] = (df['ma_all_signals'] + df['ma_all_signals2']) / 2\n",
        "\n",
        "    # Sinyal tespiti\n",
        "    df['short_crossover'] = df['close'] < df['ma_all_signals2']\n",
        "    df['long_crossover'] = df['close'] > df['ma_all_signals2']\n",
        "    df['cross'] = (df['close'] > df['ma_all_signals2']) & (df['close'] > df['ma_all_signals'])\n",
        "\n",
        "    return df  # Fonksiyonun dönüş değeri\n",
        "\n",
        "# 3. Coin Tarama Fonksiyonu (Girinti düzeltildi)\n",
        "def scan_coins(coin_list):\n",
        "    signals = []\n",
        "    for coin in coin_list:\n",
        "        print(f\"Processing {coin}...\")\n",
        "        data = get_binance_data(coin)\n",
        "        result = calculate_devisso_trend(data)\n",
        "\n",
        "        # Son sinyali kontrol et\n",
        "        last_row = result.iloc[-1]\n",
        "        if last_row['long_crossover']:\n",
        "            signals.append((coin, 'BUY', last_row['close']))\n",
        "        elif last_row['short_crossover']:\n",
        "            signals.append((coin, 'SELL', last_row['close']))\n",
        "\n",
        "    return signals\n",
        "\n",
        "# 4. Filtreleme Fonksiyonu\n",
        "def filter_signals(signals, min_volume=100000):\n",
        "    filtered = []\n",
        "    for signal in signals:\n",
        "        coin, action, price = signal\n",
        "        data = get_binance_data(coin)\n",
        "        last_volume = data['volume'].iloc[-1]\n",
        "        if last_volume >= min_volume:\n",
        "            filtered.append(signal)\n",
        "    return filtered\n",
        "\n",
        "# 5. Sürekli Tarama\n",
        "def continuous_scan(coin_list, interval=3600):\n",
        "    while True:\n",
        "        print(f\"Scanning at {time.ctime()}...\")\n",
        "        signals = scan_coins(coin_list)\n",
        "        if signals:\n",
        "            filtered_signals = filter_signals(signals, min_volume=100000)\n",
        "            for signal in filtered_signals:\n",
        "                coin, action, price = signal\n",
        "                print(f\"{coin} - {action} - Fiyat: {price}\")\n",
        "        time.sleep(interval)\n",
        "\n",
        "# 6. Ana Program\n",
        "if __name__ == \"__main__\":\n",
        "    coin_list = ['BTCUSDT', 'ETHUSDT', 'BNBUSDT', 'ADAUSDT', 'SOLUSDT']\n",
        "    continuous_scan(coin_list)"
      ]
    }
  ]
}