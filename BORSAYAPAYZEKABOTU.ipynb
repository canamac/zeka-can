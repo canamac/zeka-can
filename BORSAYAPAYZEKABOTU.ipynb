{
  "nbformat": 4,
  "nbformat_minor": 0,
  "metadata": {
    "colab": {
      "provenance": [],
      "authorship_tag": "ABX9TyOuEurrgkTAj8sSDy/TAL6q",
      "include_colab_link": true
    },
    "kernelspec": {
      "name": "python3",
      "display_name": "Python 3"
    },
    "language_info": {
      "name": "python"
    }
  },
  "cells": [
    {
      "cell_type": "markdown",
      "metadata": {
        "id": "view-in-github",
        "colab_type": "text"
      },
      "source": [
        "<a href=\"https://colab.research.google.com/github/canamac/zeka-can/blob/main/BORSAYAPAYZEKABOTU.ipynb\" target=\"_parent\"><img src=\"https://colab.research.google.com/assets/colab-badge.svg\" alt=\"Open In Colab\"/></a>"
      ]
    },
    {
      "cell_type": "code",
      "execution_count": 1,
      "metadata": {
        "colab": {
          "base_uri": "https://localhost:8080/"
        },
        "id": "tSaCTvlGXvSs",
        "outputId": "619be9fe-5395-4c10-fdcf-df0033882caf"
      },
      "outputs": [
        {
          "output_type": "stream",
          "name": "stdout",
          "text": [
            "2024-06-30\n",
            "Predicted with the accuracy of : 0.9987649937140403\n",
            "Predicted Closing Price For Day 1 is : 58.62480803089731\n"
          ]
        },
        {
          "output_type": "stream",
          "name": "stderr",
          "text": [
            "<ipython-input-1-f81572839357>:20: SettingWithCopyWarning: \n",
            "A value is trying to be set on a copy of a slice from a DataFrame.\n",
            "Try using .loc[row_indexer,col_indexer] = value instead\n",
            "\n",
            "See the caveats in the documentation: https://pandas.pydata.org/pandas-docs/stable/user_guide/indexing.html#returning-a-view-versus-a-copy\n",
            "  df['preds'] = df.Close.shift(-num)\n"
          ]
        }
      ],
      "source": [
        "import yfinance as yf\n",
        "import datetime\n",
        "from datetime import date\n",
        "from sklearn.preprocessing import StandardScaler\n",
        "from sklearn.model_selection import train_test_split\n",
        "from sklearn.linear_model import LinearRegression\n",
        "from sklearn.metrics import r2_score, mean_absolute_error\n",
        "\n",
        "\n",
        "def download_data(op, start_date, end_date):\n",
        "    df = yf.download(op, start=start_date, end=end_date, progress=False)\n",
        "    return df\n",
        "\n",
        "\n",
        "\n",
        "def model_engine(model, num):\n",
        "    # getting only the closing price\n",
        "    df = data[['Close']]\n",
        "    # shifting the closing price based on number of days forecast\n",
        "    df['preds'] = df.Close.shift(-num)\n",
        "    # scaling the data\n",
        "    x = df.drop(['preds'], axis=1).values\n",
        "    x = scaler.fit_transform(x)\n",
        "    # storing the last num_days data\n",
        "    x_forecast = x[-num:]\n",
        "    # selecting the required values for training\n",
        "    x = x[:-num]\n",
        "    # getting the preds column\n",
        "    y = df.preds.values\n",
        "    # selecting the required values for training\n",
        "    y = y[:-num]\n",
        "\n",
        "    #spliting the data\n",
        "    x_train, x_test, y_train, y_test = train_test_split(x, y, test_size=.2, random_state=7)\n",
        "    # training the model\n",
        "    model.fit(x_train, y_train)\n",
        "    preds = model.predict(x_test)\n",
        "    print(f'Predicted with the accuracy of : {r2_score(y_test, preds)}')\n",
        "    # predicting stock price based on the number of days\n",
        "    forecast_pred = model.predict(x_forecast)\n",
        "    day = 1\n",
        "    for i in forecast_pred:\n",
        "        print(f'Predicted Closing Price For Day {day} is : {i}')\n",
        "        day += 1\n",
        "\n",
        "\n",
        "stock = \"ASELS.IS\"\n",
        "today = datetime.date.today()\n",
        "duration = 3000\n",
        "before = today - datetime.timedelta(days=duration)\n",
        "start_date = before\n",
        "end_date = today-datetime.timedelta(days=2)\n",
        "print(end_date)\n",
        "scaler = StandardScaler()\n",
        "\n",
        "data = download_data(stock,start_date,end_date)\n",
        "\n",
        "num = 1\n",
        "\n",
        "engine = LinearRegression()\n",
        "model_engine(engine, num)"
      ]
    }
  ]
}