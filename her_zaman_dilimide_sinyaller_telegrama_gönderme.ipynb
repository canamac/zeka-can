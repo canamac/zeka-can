{
  "nbformat": 4,
  "nbformat_minor": 0,
  "metadata": {
    "colab": {
      "provenance": [],
      "authorship_tag": "ABX9TyMBgLH7pPhpFRvbO+BIMAm0",
      "include_colab_link": true
    },
    "kernelspec": {
      "name": "python3",
      "display_name": "Python 3"
    },
    "language_info": {
      "name": "python"
    }
  },
  "cells": [
    {
      "cell_type": "markdown",
      "metadata": {
        "id": "view-in-github",
        "colab_type": "text"
      },
      "source": [
        "<a href=\"https://colab.research.google.com/github/canamac/zeka-can/blob/main/her_zaman_dilimide_sinyaller_telegrama_g%C3%B6nderme.ipynb\" target=\"_parent\"><img src=\"https://colab.research.google.com/assets/colab-badge.svg\" alt=\"Open In Colab\"/></a>"
      ]
    },
    {
      "cell_type": "code",
      "execution_count": 1,
      "metadata": {
        "colab": {
          "base_uri": "https://localhost:8080/",
          "height": 384
        },
        "id": "4KzKHq0okwpr",
        "outputId": "f17bf4f9-3079-46fe-f9fb-2292435c2865"
      },
      "outputs": [
        {
          "output_type": "error",
          "ename": "ModuleNotFoundError",
          "evalue": "No module named 'tradingview_ta'",
          "traceback": [
            "\u001b[0;31m---------------------------------------------------------------------------\u001b[0m",
            "\u001b[0;31mModuleNotFoundError\u001b[0m                       Traceback (most recent call last)",
            "\u001b[0;32m<ipython-input-1-fc0f31ad9717>\u001b[0m in \u001b[0;36m<cell line: 2>\u001b[0;34m()\u001b[0m\n\u001b[1;32m      1\u001b[0m \u001b[0;32mimport\u001b[0m \u001b[0mtime\u001b[0m\u001b[0;34m\u001b[0m\u001b[0;34m\u001b[0m\u001b[0m\n\u001b[0;32m----> 2\u001b[0;31m \u001b[0;32mfrom\u001b[0m \u001b[0mtradingview_ta\u001b[0m \u001b[0;32mimport\u001b[0m \u001b[0mTA_Handler\u001b[0m\u001b[0;34m,\u001b[0m \u001b[0mInterval\u001b[0m\u001b[0;34m,\u001b[0m \u001b[0mExchange\u001b[0m\u001b[0;34m\u001b[0m\u001b[0;34m\u001b[0m\u001b[0m\n\u001b[0m\u001b[1;32m      3\u001b[0m \u001b[0;32mimport\u001b[0m \u001b[0mrequests\u001b[0m\u001b[0;34m\u001b[0m\u001b[0;34m\u001b[0m\u001b[0m\n\u001b[1;32m      4\u001b[0m \u001b[0;34m\u001b[0m\u001b[0m\n\u001b[1;32m      5\u001b[0m \u001b[0;31m# Telegram bot bilgilerinizi girin\u001b[0m\u001b[0;34m\u001b[0m\u001b[0;34m\u001b[0m\u001b[0m\n",
            "\u001b[0;31mModuleNotFoundError\u001b[0m: No module named 'tradingview_ta'",
            "",
            "\u001b[0;31m---------------------------------------------------------------------------\u001b[0;32m\nNOTE: If your import is failing due to a missing package, you can\nmanually install dependencies using either !pip or !apt.\n\nTo view examples of installing some common dependencies, click the\n\"Open Examples\" button below.\n\u001b[0;31m---------------------------------------------------------------------------\u001b[0m\n"
          ],
          "errorDetails": {
            "actions": [
              {
                "action": "open_url",
                "actionText": "Open Examples",
                "url": "/notebooks/snippets/importing_libraries.ipynb"
              }
            ]
          }
        }
      ],
      "source": [
        "import time\n",
        "from tradingview_ta import TA_Handler, Interval, Exchange\n",
        "import requests\n",
        "\n",
        "# Telegram bot bilgilerinizi girin\n",
        "BOT_TOKEN = 'BOT_TOKEN'\n",
        "CHAT_ID = 'CHAT_ID'\n",
        "\n",
        "def send_telegram_message(message):\n",
        "    url = f\"https://api.telegram.org/bot(BOT_TOKEN)/sendMessage\"\n",
        "    payload = {\"chat_id\": CHAT_ID, \"text\": message, \"parse_mode\": \"Markdown\"}\n",
        "    requests.post(url, data=payload)\n",
        "\n",
        "# Son gönderim zamanlarını saklayacak sözlük\n",
        "last_sent_time = {}\n",
        "\n",
        "def check_conditions():\n",
        "    coins = [\n",
        "        \"BTCUSDT.P\", \"ETHUSDT.P\", \"SOLUSDT.P\", \"TONUSDT.P\", \"DOGEUSDT.P\",\n",
        "        \"XRPUSDT.P\", \"APEUSDT.P\", \"PEPEUSDT.P\", \"UXLINKUSDT.P\", \"ALPHAUSDT.P\",\n",
        "        \"1INCHUSDT.P\", \"AAVEUSDT.P\", \"ACEUSDT.P\", \"ACHUSDT.P\", \"ADAUSDT.P\",\n",
        "        \"AEVOUSDT.P\", \"AGLDUSDT.P\", \"AIDOGEUSDT.P\", \"ALGOUSDT.P\", \"API3USDT.P\",\n",
        "        \"APTUSDT.P\", \"ARUSDT.P\", \"ARBUSDT.P\", \"ATHUSDT.P\", \"ATOMUSDT.P\",\n",
        "        \"AUCTIONUSDT.P\", \"AVAXUSDT.P\", \"AXSUSDT.P\", \"BADGERUSDT.P\", \"BALUSDT.P\",\n",
        "        \"BANDUSDT.P\", \"BATUSDT.P\", \"BCHUSDT.P\", \"BICOUSDT.P\", \"BIGTIMEUSDT.P\",\n",
        "        \"BLURUSDT.P\", \"BNBUSDT.P\", \"BNTUSDT.P\", \"BOMEUSDT.P\", \"BONKUSDT.P\",\n",
        "        \"BONEUSDT.P\", \"BRETTUSDT.P\", \"BSVUSDT.P\", \"CATUSDT.P\", \"CATIUSDT.P\",\n",
        "        \"CELOUSDT.P\", \"CETUSUSDT.P\", \"CFXUSDT.P\", \"CHZUSDT.P\", \"COMPUSDT.P\",\n",
        "        \"COREUSDT.P\", \"CROUSDT.P\", \"CRVUSDT.P\", \"CSPRUSDT.P\", \"CTCUSDT.P\",\n",
        "        \"CVCUSDT.P\", \"CVXUSDT.P\", \"DGBUSDT.P\", \"DOGSUSDT.P\", \"DOTUSDT.P\",\n",
        "        \"DYDXUSDT.P\", \"EGLDUSDT.P\", \"EIGENUSDT.P\", \"ENJUSDT.P\", \"ENSUSDT.P\",\n",
        "        \"EOSUSDT.P\", \"ETCUSDT.P\", \"ETHWUSDT.P\", \"ETHFIUSDT.P\", \"FILUSDT.P\",\n",
        "        \"FLMUSDT.P\", \"FLOKIUSDT.P\", \"FLOWUSDT.P\", \"FOXYUSDT.P\", \"FTMUSDT.P\",\n",
        "        \"FXSUSDT.P\", \"GALAUSDT.P\", \"GASUSDT.P\", \"GFTUSDT.P\", \"GLMUSDT.P\",\n",
        "        \"GMTUSDT.P\", \"GMXUSDT.P\", \"GODSUSDT.P\", \"GRTUSDT.P\", \"HBARUSDT.P\",\n",
        "        \"HMSTRUSDT.P\", \"ICPUSDT.P\", \"ICXUSDT.P\", \"IDUSDT.P\", \"IMXUSDT.P\",\n",
        "        \"INJUSDT.P\", \"IOSTUSDT.P\", \"IOTAUSDT.P\", \"JOEUSDT.P\", \"JSTUSDT.P\",\n",
        "        \"JTOUSDT.P\", \"JUPUSDT.P\", \"KNCUSDT.P\", \"KSMUSDT.P\", \"LDOUSDT.P\",\n",
        "        \"LINKUSDT.P\", \"LOOKSUSDT.P\", \"LPTUSDT.P\", \"LQTYUSDT.P\", \"LRCUSDT.P\",\n",
        "        \"LSKUSDT.P\", \"LTCUSDT.P\", \"LUNAUSDT.P\", \"LUNCUSDT.P\", \"MAGICUSDT.P\",\n",
        "        \"MANAUSDT.P\", \"MASKUSDT.P\", \"MAXUSDT.P\", \"MEMEUSDT.P\", \"MERLUSDT.P\",\n",
        "        \"METISUSDT.P\", \"MEWUSDT.P\", \"MINAUSDT.P\", \"MKRUSDT.P\", \"MOODENGUSDT.P\",\n",
        "        \"MOVRUSDT.P\", \"NEARUSDT.P\", \"NEIROETHUSDT.P\", \"NEIROUSDT.P\", \"NEOUSDT.P\",\n",
        "        \"NMRUSDT.P\", \"NOTUSDT.P\", \"OMUSDT.P\", \"ONDOUSDT.P\", \"ONEUSDT.P\",\n",
        "        \"ONTUSDT.P\", \"OPUSDT.P\", \"ORBSUSDT.P\", \"ORDIUSDT.P\", \"PEOPLEUSDT.P\",\n",
        "        \"PERPUSDT.P\", \"POLUSDT.P\", \"POPCATUSDT.P\", \"PRCLUSDT.P\", \"PUFFERUSDT.P\",\n",
        "        \"PYTHUSDT.P\", \"QTUMUSDT.P\", \"RACAUSDT.P\", \"RAYUSDT.P\", \"RDNTUSDT.P\",\n",
        "        \"RENDERUSDT.P\", \"RONUSDT.P\", \"RSRUSDT.P\", \"RVNUSDT.P\", \"SANDUSDT.P\",\n",
        "        \"SHIBUSDT.P\", \"SLPUSDT.P\", \"SNXUSDT.P\", \"SSVUSDT.P\", \"STORJUSDT.P\",\n",
        "        \"STRKUSDT.P\", \"STXUSDT.P\", \"SUIUSDT.P\", \"SUSHIUSDT.P\", \"SWEATUSDT.P\",\n",
        "        \"TUSDT.P\", \"TAOUSDT.P\", \"THETAUSDT.P\", \"TIAUSDT.P\", \"TNSRUSDT.P\",\n",
        "        \"TRBUSDT.P\", \"TRXUSDT.P\", \"TURBOUSDT.P\", \"ULTIUSDT.P\", \"UMAUSDT.P\",\n",
        "        \"UNIUSDT.P\", \"USTCUSDT.P\", \"VELOUSDT.P\", \"VRAUSDT.P\", \"WUSDT.P\",\n",
        "        \"WAXPUSDT.P\", \"WIFUSDT.P\", \"WLDUSDT.P\", \"WOOUSDT.P\", \"XCHUSDT.P\",\n",
        "        \"XLMUSDT.P\", \"XTZUSDT.P\", \"YFIUSDT.P\", \"YGGUSDT.P\", \"ZENTUSDT.P\",\n",
        "        \"ZETAUSDT.P\", \"ZILUSDT.P\", \"ZKUSDT.P\", \"ZROUSDT.P\", \"ZRXUSDT.P\",\n",
        "    ]\n",
        "\n",
        "    # Kullanmak istediğiniz zaman dilimleri\n",
        "    intervals = [\n",
        "        Interval.INTERVAL_1_MINUTE,\n",
        "        Interval.INTERVAL_5_MINUTES,\n",
        "        Interval.INTERVAL_15_MINUTES,\n",
        "        Interval.INTERVAL_30_MINUTES,\n",
        "        Interval.INTERVAL_1_HOUR\n",
        "    ]\n",
        "\n",
        "    for coin in coins:\n",
        "        for interval in intervals:\n",
        "            try:\n",
        "                handler = TA_Handler(\n",
        "                    symbol=coin,\n",
        "                    exchange=\"OKX\",\n",
        "                    screener=\"crypto\",\n",
        "                    interval=interval\n",
        "                )\n",
        "\n",
        "                analysis = handler.get_analysis()\n",
        "\n",
        "                # RSI değerini al\n",
        "                rsi_value = analysis.indicators.get('RSI')\n",
        "                previous_rsi_value = analysis.indicators.get('RSI[1]')\n",
        "\n",
        "                if rsi_value is not None and previous_rsi_value is not None:\n",
        "                    # RSI farkı 20 birimden fazla mı kontrol et\n",
        "                    if abs(rsi_value - previous_rsi_value) >= 20:\n",
        "                        # LONG veya SHORT sinyaline göre anahtar belirle\n",
        "                        direction = \"LONG\" if rsi_value > previous_rsi_value else \"SHORT\"\n",
        "                        message_key = f\"{coin}_{interval}_{direction}\"\n",
        "\n",
        "                        # Son mesaj zamanını kontrol et\n",
        "                        current_time = time.time()\n",
        "                        if message_key not in last_sent_time or (current_time - last_sent_time[message_key] > 1800):\n",
        "                            if direction == \"LONG\":\n",
        "                                send_telegram_message(f\"*{coin}* *(C20L)* *(LONG)*🚀  ({interval}): {previous_rsi_value:.2f} -> {rsi_value:.2f}\")\n",
        "                            else:\n",
        "                                send_telegram_message(f\"*{coin}* *(C20S)* *(SHORT)* 🔻 ({interval}): {previous_rsi_value:.2f} -> {rsi_value:.2f}\")\n",
        "\n",
        "                            # Mesaj gönderildiği zamanı kaydet\n",
        "                            last_sent_time[message_key] = current_time\n",
        "\n",
        "            except Exception as e:\n",
        "                print(f\"Hata oluştu: {coin}, Zaman Dilimi: {interval}, Hata: {e}\")\n",
        "\n",
        "def main():\n",
        "    while True:\n",
        "        check_conditions()\n",
        "        # Her dakika bir kontrol eder\n",
        "        time.sleep(60)\n",
        "\n",
        "if __name__ == \"__main__\":\n",
        "    main()\n"
      ]
    }
  ]
}