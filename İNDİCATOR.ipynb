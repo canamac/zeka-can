{
  "nbformat": 4,
  "nbformat_minor": 0,
  "metadata": {
    "colab": {
      "provenance": [],
      "authorship_tag": "ABX9TyO4V0s3w6NSfY4vVFL2+fNO",
      "include_colab_link": true
    },
    "kernelspec": {
      "name": "python3",
      "display_name": "Python 3"
    },
    "language_info": {
      "name": "python"
    }
  },
  "cells": [
    {
      "cell_type": "markdown",
      "metadata": {
        "id": "view-in-github",
        "colab_type": "text"
      },
      "source": [
        "<a href=\"https://colab.research.google.com/github/canamac/zeka-can/blob/main/%C4%B0ND%C4%B0CATOR.ipynb\" target=\"_parent\"><img src=\"https://colab.research.google.com/assets/colab-badge.svg\" alt=\"Open In Colab\"/></a>"
      ]
    },
    {
      "cell_type": "code",
      "execution_count": null,
      "metadata": {
        "id": "Y-yEVnWDXb5U"
      },
      "outputs": [],
      "source": [
        "import matplotlib.pyplot as plt\n",
        "import yfinance as yf\n",
        "from ta.volatility import BollingerBands\n",
        "from ta.trend import MACD, EMAIndicator, SMAIndicator\n",
        "from ta.momentum import RSIIndicator\n",
        "import datetime\n",
        "\n",
        "stock = \"BIMAS.IS\"\n",
        "\n",
        "def download_data(op, start_date, end_date):\n",
        "    df = yf.download(op, start=start_date, end=end_date, progress=False)\n",
        "    return df\n",
        "\n",
        "today = datetime.date.today()\n",
        "duration = 3000\n",
        "before = today - datetime.timedelta(days=duration)\n",
        "start_date = before\n",
        "end_date = today\n",
        "\n",
        "data = download_data(stock,start_date,end_date)\n",
        "\n",
        "def tech_indicators():\n",
        "\n",
        "    # Bollinger bands\n",
        "    bb_indicator = BollingerBands(data.Close)\n",
        "    bb=data\n",
        "    bb['bb_h'] = bb_indicator.bollinger_hband()\n",
        "    bb['bb_l'] = bb_indicator.bollinger_lband()\n",
        "    # Creating a new dataframe\n",
        "\n",
        "    bb = bb[['Close', 'bb_h', 'bb_l']]\n",
        "    # MACD\n",
        "    macd = MACD(data.Close).macd()\n",
        "    # RSI\n",
        "    rsi = RSIIndicator(data.Close).rsi()\n",
        "    # SMA\n",
        "    sma = SMAIndicator(data.Close, window=14).sma_indicator()\n",
        "    # EMA\n",
        "    ema = EMAIndicator(data.Close).ema_indicator()\n",
        "\n",
        "    print(rsi)\n",
        "\n",
        "    # Assuming 'rsi' is your DataFrame with date index and RSI values\n",
        "    rsi.plot(figsize=(12, 6), label='RSI')\n",
        "    plt.title('RSI Over Time')\n",
        "    plt.xlabel('Date')\n",
        "    plt.ylabel('RSI')\n",
        "    plt.legend()\n",
        "    plt.grid(True)\n",
        "    plt.show()\n",
        "\n",
        "tech_indicators()\n"
      ]
    }
  ]
}