{
  "nbformat": 4,
  "nbformat_minor": 0,
  "metadata": {
    "colab": {
      "provenance": [],
      "authorship_tag": "ABX9TyOa276Xu8gfDdcjMMrSlgHJ",
      "include_colab_link": true
    },
    "kernelspec": {
      "name": "python3",
      "display_name": "Python 3"
    },
    "language_info": {
      "name": "python"
    }
  },
  "cells": [
    {
      "cell_type": "markdown",
      "metadata": {
        "id": "view-in-github",
        "colab_type": "text"
      },
      "source": [
        "<a href=\"https://colab.research.google.com/github/canamac/zeka-can/blob/main/100_coin_excel.ipynb\" target=\"_parent\"><img src=\"https://colab.research.google.com/assets/colab-badge.svg\" alt=\"Open In Colab\"/></a>"
      ]
    },
    {
      "cell_type": "code",
      "execution_count": null,
      "metadata": {
        "colab": {
          "base_uri": "https://localhost:8080/"
        },
        "id": "ljPLlrsZO5ns",
        "outputId": "f9a7048e-ee98-43e8-e6ba-a3a9bd0717e0"
      },
      "outputs": [
        {
          "output_type": "stream",
          "name": "stdout",
          "text": [
            "\n",
            "--- Tarama Zamanı: Mon Feb  3 19:14:03 2025 ---\n",
            "           Coin          Close Signal\n",
            "0       bitcoin  100003.000000   SELL\n",
            "1      ethereum    2745.450000   SELL\n",
            "2        solana     212.460000   SELL\n",
            "3   binancecoin     600.490000   SELL\n",
            "4      dogecoin       0.274179   SELL\n",
            "..          ...            ...    ...\n",
            "89     verasity       0.002642   SELL\n",
            "90      rally-2       0.001800   SELL\n",
            "91          mxc       0.003454   SELL\n",
            "92        quant       0.000018   SELL\n",
            "93       fantom       0.463834   SELL\n",
            "\n",
            "[94 rows x 3 columns]\n",
            "📊 Excel dosyası kaydedildi: crypto_signals.xlsx\n"
          ]
        }
      ],
      "source": [
        "import pandas as pd\n",
        "import numpy as np\n",
        "import requests\n",
        "import time\n",
        "\n",
        "# CoinGecko API erişim bilgileri\n",
        "COINGECKO_URL = \"https://api.coingecko.com/api/v3/coins/markets\"\n",
        "HEADERS = {'User-Agent': 'Mozilla/5.0'}\n",
        "\n",
        "def get_coingecko_data(symbols, vs_currency='usd'):\n",
        "    \"\"\"CoinGecko API üzerinden 100 kripto parayı tek istekte çeker.\"\"\"\n",
        "    symbol_str = ','.join(symbols)\n",
        "    params = {\n",
        "        'vs_currency': vs_currency,\n",
        "        'ids': symbol_str.lower(),\n",
        "        'order': 'market_cap_desc',\n",
        "        'per_page': len(symbols),\n",
        "        'page': 1,\n",
        "        'sparkline': False\n",
        "    }\n",
        "\n",
        "    try:\n",
        "        response = requests.get(COINGECKO_URL, params=params, headers=HEADERS, timeout=15)\n",
        "        response.raise_for_status()\n",
        "        data = response.json()\n",
        "        if data:\n",
        "            df = pd.DataFrame(data)\n",
        "            df = df[['id', 'current_price', 'high_24h', 'low_24h']]\n",
        "            df.rename(columns={'id': 'Coin', 'current_price': 'Close', 'high_24h': 'High', 'low_24h': 'Low'}, inplace=True)\n",
        "            df['Timestamp'] = pd.to_datetime(time.time(), unit='s')\n",
        "            return df\n",
        "    except requests.exceptions.RequestException as e:\n",
        "        print(f\"API Hatası: {e}\")\n",
        "\n",
        "    return pd.DataFrame()\n",
        "\n",
        "def calculate_devisso_trend(df, ma_period=20):\n",
        "    \"\"\"Basit hareketli ortalama (SMA) hesaplayarak trend sinyali üretir.\"\"\"\n",
        "    if df.empty:\n",
        "        return df\n",
        "\n",
        "    df['MA'] = df['Close'].rolling(ma_period, min_periods=1).mean()\n",
        "    df['Signal'] = np.where(df['Close'] > df['MA'], 'BUY', 'SELL')\n",
        "    return df\n",
        "\n",
        "def scan_coins(coin_list):\n",
        "    \"\"\"100 coini tarayıp sinyal üretir.\"\"\"\n",
        "    data = get_coingecko_data(coin_list)\n",
        "    if not data.empty:\n",
        "        return calculate_devisso_trend(data)\n",
        "    return pd.DataFrame()\n",
        "\n",
        "def save_to_excel(df, filename=\"crypto_signals.xlsx\"):\n",
        "    \"\"\"Veriyi Excel dosyasına kaydeder.\"\"\"\n",
        "    try:\n",
        "        df.to_excel(filename, index=False)\n",
        "        print(f\"📊 Excel dosyası kaydedildi: {filename}\")\n",
        "    except Exception as e:\n",
        "        print(f\"Excel kaydetme hatası: {e}\")\n",
        "\n",
        "# 📌 100 Coin Listesi (Piyasa değerine göre en popülerler)\n",
        "coin_list = [\n",
        "    'bitcoin', 'ethereum', 'binancecoin', 'cardano', 'solana', 'xrp', 'dogecoin', 'polkadot',\n",
        "    'litecoin', 'chainlink', 'uniswap', 'monero', 'avalanche-2', 'shiba-inu', 'stellar',\n",
        "    'cosmos', 'algorand', 'tezos', 'aave', 'fantom', 'vechain', 'tron', 'hedera', 'theta-token',\n",
        "    'elrond-erd-2', 'filecoin', 'eos', 'klaytn', 'helium', 'bitTorrent', 'dash', 'zcash',\n",
        "    'iota', 'neo', 'compound', 'maker', 'enjincoin', 'chiliz', 'the-graph', 'decentraland',\n",
        "    'flow', 'loopring', 'pancakeswap-token', 'quant', 'thorchain', 'bittorrent', 'arweave',\n",
        "    'curve-dao-token', 'kusama', 'yearn-finance', 'harmony', 'celo', 'nexo', 'waves', 'convex-finance',\n",
        "    'ankr', 'gala', 'golem', 'basic-attention-token', 'wax', 'ravencoin', 'ren', 'ocean-protocol',\n",
        "    'fetch-ai', 'civic', 'storj', 'origin-protocol', 'siacoin', 'numeraire', 'sushi', 'digibyte',\n",
        "    'hive', 'energy-web-token', 'mask-network', 'balancer', 'livepeer', 'fetch-ai', 'moonbeam',\n",
        "    'reef', 'safepal', 'telcoin', 'chromia', 'origintrail', 'bancor', 'verasity', 'kyber-network-crystal-v2',\n",
        "    'pundi-x', 'district0x', 'cartesi', 'dodo', 'superfarm', 'coti', 'rally-2', 'request', 'tellor',\n",
        "    'injective-protocol', 'wanchain', 'theta-fuel', 'ultra', 'mxc', 'perpetual-protocol', 'skale',\n",
        "    'litentry', 'bella-protocol'\n",
        "]\n",
        "\n",
        "# 🔄 Döngü: 100 coini her 6 dakikada bir tarar\n",
        "while True:\n",
        "    print(f\"\\n--- Tarama Zamanı: {time.ctime()} ---\")\n",
        "    signals_df = scan_coins(coin_list)\n",
        "\n",
        "    if not signals_df.empty:\n",
        "        print(signals_df[['Coin', 'Close', 'Signal']])  # Konsolda göster\n",
        "        save_to_excel(signals_df)  # Excel olarak kaydet\n",
        "    else:\n",
        "        print(\"Sinyal yok\")\n",
        "\n",
        "    time.sleep(360)  # 6 dakikada bir tarama\n"
      ]
    }
  ]
}