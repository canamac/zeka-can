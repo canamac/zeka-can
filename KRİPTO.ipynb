{
  "nbformat": 4,
  "nbformat_minor": 0,
  "metadata": {
    "colab": {
      "provenance": [],
      "authorship_tag": "ABX9TyOH6/sma8Ex0ExjK0edWeVj",
      "include_colab_link": true
    },
    "kernelspec": {
      "name": "python3",
      "display_name": "Python 3"
    },
    "language_info": {
      "name": "python"
    }
  },
  "cells": [
    {
      "cell_type": "markdown",
      "metadata": {
        "id": "view-in-github",
        "colab_type": "text"
      },
      "source": [
        "<a href=\"https://colab.research.google.com/github/canamac/zeka-can/blob/main/KR%C4%B0PTO.ipynb\" target=\"_parent\"><img src=\"https://colab.research.google.com/assets/colab-badge.svg\" alt=\"Open In Colab\"/></a>"
      ]
    },
    {
      "cell_type": "code",
      "execution_count": 2,
      "metadata": {
        "colab": {
          "base_uri": "https://localhost:8080/",
          "height": 106
        },
        "id": "LWTE369jq2UN",
        "outputId": "ed50a620-5f57-4d6c-bffb-8c092b6c73ad"
      },
      "outputs": [
        {
          "output_type": "error",
          "ename": "SyntaxError",
          "evalue": "invalid syntax (<ipython-input-2-dd47fa0cd49a>, line 1)",
          "traceback": [
            "\u001b[0;36m  File \u001b[0;32m\"<ipython-input-2-dd47fa0cd49a>\"\u001b[0;36m, line \u001b[0;32m1\u001b[0m\n\u001b[0;31m    pip install pandas_ta\u001b[0m\n\u001b[0m        ^\u001b[0m\n\u001b[0;31mSyntaxError\u001b[0m\u001b[0;31m:\u001b[0m invalid syntax\n"
          ]
        }
      ],
      "source": [
        "pip install pandas_ta\n",
        "import pandas as pd\n",
        "import yfinance as yf\n",
        "from datetime import datetime, timedelta\n",
        "import pandas_ta as ta\n",
        "\n",
        "# Hisse_Temel_Veriler fonksiyonunu tanımlayın.\n",
        "def Hisse_Temel_Veriler(sembol):\n",
        "    mevcut_tarih = datetime.now()\n",
        "    baslangic_tarihi = mevcut_tarih - timedelta(days=4*365)  # Son 4 yıl\n",
        "    baslangic_tarihi_str = baslangic_tarihi.strftime('%Y-%m-%d')\n",
        "    df = yf.download(sembol, start=baslangic_tarihi_str)\n",
        "    return df\n",
        "\n",
        "# Supertrend indikatörünü hesaplayan fonksiyonu tanımlayın.\n",
        "def Supertrend(data, atr_period=10, multiplier=3):\n",
        "    high_low = (data['High'] + data['Low']) / 2\n",
        "    atr = ta.atr(data['High'], data['Low'], data['Close'], length=atr_period)\n",
        "    supertrend = high_low + (multiplier * atr)\n",
        "    return supertrend\n",
        "\n",
        "semboller = [\"BTC-USD\", \"XRP-USD\", \"ETH-USD\",\n",
        "             \"AVAX-USD\", \"ARK-USD\", \"ARKM-USD\", \"ARB-USD\", \"AGIX-USD\", \"ATOM-USD\",\"ATM-USD\", \"ASR-USD\",\"ARPA-USD\",\"API3-USD\",\"APE-USD\",\n",
        "             \"ANKR-USD\",\"AMP-USD\", \"ALT-USD\", \"ALICE-USD\",\"ALGO-USD\",\"AI-USD\", \"ADA-USD\",\"ACM-USD\",\"ACH-USD\",\"ACE-USD\",\"ACA-USD\",\n",
        "\n",
        "             \"AXL-USD\", \"AEVO-USD\", \"ALT-USD\",\"APT-USD\", \"ADA-USD\",\"ALGO-USD\", \"AI-USD\",\"AX-USD\",\"AUDIO-USD\",\n",
        "             \"BONK-USD\", \"BNB-USD\",\"BSW-USD\", \"BOME-USD\",\"BNX-USD\",\"BLUR-USD\",\"BEL-USD\",\"BCH-USD\",\"BAR-USD\",\"BAND-USD\",\"BAKE-USD\",\n",
        "             \"COMP-USD\",\"CHZ-USD\", \"CFX-USD\",\"CYBER-USD\",\"CRV-USD\",\"COTI-USD\",\"COS-USD\",\"COMBO-USD\",\"CKB-USD\",\"CITY-USD\",\"CAKE-USD\",\n",
        "             \"DOGE-USD\", \"DOT-USD\", \"DYDX-USD\",\"DYM-USD\",\"DODO-USD\",\"DENT-USD\",\"DAR-USD\",\n",
        "             \"ETHFI-USD\", \"EDU-USD\",\"ETHW-USD\",\"ETC-USD\",\"EOS-USD\",\"ENS-USD\",\"ENJ-USD\",\n",
        "             \"FET-USD\", \"FTM-USD\",\"FLOKI-USD\",\"FRONT-USD\",\"FIL-USD\",\"FIDA-USD\",\n",
        "             \"GRT-USD\",\"GMT-USD\",\"GAS-USD\",\"GALA-USD\",\n",
        "             \"HOT-USD\",\"HBAR-USD\",\n",
        "             \"IMX-USD\",\"ICP-USD\",\"IOTA-USD\", \"ID-USD\", \"INJ-USD\",\n",
        "             \"JUV-USD\", \"JUP-USD\",\"JTO-USD\",\"JOE-USD\",\"JASMY-USD\",\n",
        "             \"LUNC-USD\",\"LDO-USD\", \"LINK-USD\", \"LAZIO-USD\",\"LEVER-USD\",\"LIT-USD\",\"LPT-USD\",\"LOOM-USD\",\"LRC-USD\",\"LTC-USD\",\"LUNA-USD\",\n",
        "\n",
        "             \"MANTA-USD\", \"MATIC-USD\",\"MBOX-USD\", \"MAV-USD\", \"MANA-USD\",\"MINA-USD\", \"MEME-USD\",\"MAGIC-USD\",\"METIS-USD\",\"MKR-USD\",\"MOVR-USD\",\n",
        "             \"MTL-USD\",\n",
        "             \"NTRN-USD\", \"NEAR-USD\",\"NEO-USD\", \"NFP-USD\",\n",
        "             \"PEPE-USD\",\"PORTAL-USD\", \"PIXEL-USD\",\"PYTH-USD\",\"PAXG-USD\",\"PENDLE-USD\",\"PORTO-USD\",\"PSG-USD\",\n",
        "             \"OP-USD\",\"OCEAN-USD\",\"OG-USD\",\"OGN-USD\",\"OM-USD\",\"ONE-USD\",\"ONT-USD\",\"ORDI-USD\",\n",
        "             \"RNDR-USD\",\"RAD-USD\",\"RARE-USD\",\"RAY-USD\",\"REEF-USD\",\"ROSE-USD\",\"RUNE-USD\",\"RVN-USD\",\n",
        "             \"SOL-USD\", \"SHIB-USD\",\"SKL-USD\",\"STRK-USD\", \"SXP-USD\",\"SEI-USD\", \"SUI-USD\",\"SAND-USD\", \"SANTOS-USD\", \"SEI-USD\",\"SLP-USD\",\n",
        "             \"SNX-USD\", \"SPELL-USD\",\"STORJ-USD\",\"STRAX-USD\",\"STX-USD\",\"SUPER-USD\",\n",
        "\n",
        "             \"THETA-USD\",\"TIA-USD\",\"TLM-USD\",\"TOMO-USD\",\"TRB-USD\",\"TWT-USD\",\n",
        "             \"XAI-USD\", \"XEC-USD\",\"XLM-USD\",\"XTZ-USD\",\"XVG-USD\",\"XVS-USD\",\n",
        "             \"UMA-USD\", \"UNI-USD\", \"UNFI-USD\",\n",
        "             \"VANRY-USD\", \"VET-USD\",\"VIC-USD\",\n",
        "             \"ZIL-USD\",\n",
        "             \"WLD-USD\" , \"WAVES-USD\", \"WIF-USD\"]\n",
        "al_sinyali_verenler = []\n",
        "\n",
        "for sembol in semboller:\n",
        "    data = Hisse_Temel_Veriler(sembol)\n",
        "    data['Supertrend'] = Supertrend(data)\n",
        "\n",
        "    # Son gün için al sinyalini kontrol et (Fiyat Supertrend değerinin üzerindeyse al sinyali)\n",
        "    if data.iloc[-1]['Close'] > data.iloc[-1]['Supertrend']:\n",
        "        al_sinyali_verenler.append(sembol)\n",
        "\n",
        "# Al sinyali veren kripto para birimlerini yazdırın\n",
        "if al_sinyali_verenler:\n",
        "    print(\"Al sinyali veren kripto para birimleri:\")\n",
        "    for sembol in al_sinyali_verenler:\n",
        "        print(sembol)\n",
        "else:\n",
        "    print(\"Hiçbir kripto para biriminden al sinyali gelmedi.\")"
      ]
    }
  ]
}