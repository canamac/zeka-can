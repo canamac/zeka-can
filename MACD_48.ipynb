{
  "nbformat": 4,
  "nbformat_minor": 0,
  "metadata": {
    "colab": {
      "provenance": [],
      "authorship_tag": "ABX9TyM7p7DrQXvGYHBltRiDdW+h",
      "include_colab_link": true
    },
    "kernelspec": {
      "name": "python3",
      "display_name": "Python 3"
    },
    "language_info": {
      "name": "python"
    }
  },
  "cells": [
    {
      "cell_type": "markdown",
      "metadata": {
        "id": "view-in-github",
        "colab_type": "text"
      },
      "source": [
        "<a href=\"https://colab.research.google.com/github/canamac/zeka-can/blob/main/MACD_48.ipynb\" target=\"_parent\"><img src=\"https://colab.research.google.com/assets/colab-badge.svg\" alt=\"Open In Colab\"/></a>"
      ]
    },
    {
      "cell_type": "code",
      "execution_count": null,
      "metadata": {
        "id": "I6VjPbhmX3JP"
      },
      "outputs": [],
      "source": [
        "import yfinance as yf\n",
        "import pandas as pd\n",
        "import numpy as np\n",
        "from tqdm import tqdm\n",
        "\n",
        "bist30_tickers = [\n",
        "    'AEFES.IS', 'AKBNK.IS', 'AKSEN.IS', 'ARCLK.IS', 'ASELS.IS',\n",
        "    'BIMAS.IS', 'DOHOL.IS', 'EKGYO.IS', 'EREGL.IS', 'FROTO.IS',\n",
        "    'GARAN.IS', 'GUBRF.IS', 'HEKTS.IS', 'ISCTR.IS', 'KRDMD.IS',\n",
        "    'KCHOL.IS', 'KOZAL.IS', 'MPARK.IS', 'MGROS.IS', 'PETKM.IS',\n",
        "    'PGSUS.IS', 'SAHOL.IS', 'SASA.IS', 'SISE.IS', 'TAVHL.IS',\n",
        "    'TOASO.IS', 'TTKOM.IS', 'TUPRS.IS', 'VAKBN.IS', 'YKBNK.IS'\n",
        "]\n",
        "\n",
        "def calculate_macd(data, ema_s=12, ema_l=26, signal_mw=9):\n",
        "    data[\"EMA_S\"] = data['Close'].ewm(span=ema_s, min_periods=ema_s).mean()\n",
        "    data[\"EMA_L\"] = data['Close'].ewm(span=ema_l, min_periods=ema_l).mean()\n",
        "    data[\"MACD\"] = data[\"EMA_S\"] - data[\"EMA_L\"]\n",
        "    data[\"MACD_Signal\"] = data[\"MACD\"].ewm(span=signal_mw, min_periods=signal_mw).mean()\n",
        "    data[\"MACD_Hist\"] = data[\"MACD\"] - data[\"MACD_Signal\"]\n",
        "    return data\n",
        "\n",
        "def check_macd_crossover(data):\n",
        "    # MACD ve sinyal çizgisi kesişimlerini kontrol et\n",
        "    data[\"MACD_Crossover\"] = np.where(\n",
        "        (data[\"MACD\"].shift(1) < data[\"MACD_Signal\"].shift(1)) & (data[\"MACD\"] > data[\"MACD_Signal\"]),\n",
        "        \"Bullish\",\n",
        "        np.where(\n",
        "            (data[\"MACD\"].shift(1) > data[\"MACD_Signal\"].shift(1)) & (data[\"MACD\"] < data[\"MACD_Signal\"]),\n",
        "            \"Bearish\",\n",
        "            None\n",
        "        )\n",
        "    )\n",
        "    return data\n",
        "\n",
        "results = []\n",
        "for ticker in tqdm(bist30_tickers, desc=\"BIST 30 Taraması\"):\n",
        "    try:\n",
        "        data = yf.download(ticker, start=\"2023-01-01\", end=\"2024-11-29\")\n",
        "        data = calculate_macd(data)\n",
        "        data = check_macd_crossover(data)\n",
        "\n",
        "        if data[\"MACD_Crossover\"].iloc[-1] in [\"Bullish\", \"Bearish\"]:\n",
        "            results.append({\n",
        "                \"Ticker\": ticker,\n",
        "                \"Date\": data.index[-1],\n",
        "                \"Crossover\": data[\"MACD_Crossover\"].iloc[-1]\n",
        "            })\n",
        "    except Exception as e:\n",
        "        print(f\"Error processing {ticker}: {e}\")\n",
        "\n",
        "results_df = pd.DataFrame(results)\n",
        "if not results_df.empty:\n",
        "    print(\"Son Gün MACD Kesişimleri:\")\n",
        "    print(results_df)\n",
        "else:\n",
        "    print(\"Son gün için herhangi bir kesişim bulunamadı.\")"
      ]
    }
  ]
}