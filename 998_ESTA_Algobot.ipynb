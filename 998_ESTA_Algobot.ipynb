{
  "cells": [
    {
      "cell_type": "markdown",
      "metadata": {
        "id": "view-in-github",
        "colab_type": "text"
      },
      "source": [
        "<a href=\"https://colab.research.google.com/github/canamac/zeka-can/blob/main/998_ESTA_Algobot.ipynb\" target=\"_parent\"><img src=\"https://colab.research.google.com/assets/colab-badge.svg\" alt=\"Open In Colab\"/></a>"
      ]
    },
    {
      "cell_type": "code",
      "execution_count": null,
      "metadata": {
        "id": "gL7Vcw4EquiE"
      },
      "outputs": [],
      "source": [
        "import os\n",
        "if os.path.exists('StockIndicators.py'):\n",
        "    os.remove('StockIndicators.py')\n",
        "\n",
        "!pip install git+https://github.com/rongardF/tvdatafeed tradingview-screener backtesting\n",
        "!wget https://raw.githubusercontent.com/Onuragdaci/Stock_Indicators/main/StockIndicators.py\n",
        "\n",
        "import pandas as pd\n",
        "import StockIndicators as SI\n",
        "from backtesting import Backtest, Strategy\n",
        "exchange = 'BIST'\n",
        "periyot = '1D'\n",
        "\n",
        "datas = SI.Stocks(exchange)\n",
        "print(datas)\n",
        "\n",
        "Titles = ['Hisse Adı', 'Son Fiyat', 'Başarı Oranı','Son Durum']\n",
        "df_signals = pd.DataFrame(columns=Titles)\n",
        "\n",
        "#Backtest için gerekli class yapısı\n",
        "class Strategy(Strategy):\n",
        "    def init(self):\n",
        "        pass\n",
        "    def next(self):\n",
        "        if self.data['Entry'] == True and not self.position:\n",
        "            self.buy()\n",
        "\n",
        "        elif self.data['Exit'] == True:\n",
        "            self.position.close()\n",
        "\n",
        "for i in range(0, len(datas)):\n",
        "     #print(datas[i])\n",
        "     try:\n",
        "        # Input parameters\n",
        "        k_period = 34\n",
        "        fast_period = 3\n",
        "        slow_period = 5\n",
        "        signal_period = 2\n",
        "        atr_multiplier = 2.2\n",
        "        atr_period = 17\n",
        "        tp1 = 10 / 100\n",
        "        tp2 = 20 / 100\n",
        "\n",
        "        data = SI.TVGet(datas[i], exchange, periyot, 1000)\n",
        "        ESTA = SI.ESTA(data,k_period,fast_period,slow_period,signal_period,atr_multiplier,atr_period,tp1,tp2)\n",
        "        ESTA.rename(columns={'open': 'Open', 'high': 'High', 'low': 'Low', 'close': 'Close', 'volume': 'Volume'}, inplace=True)\n",
        "        ESTA['datetime'] = pd.to_datetime(ESTA['datetime'])\n",
        "        ESTA.set_index('datetime', inplace=True)\n",
        "        bt = Backtest(ESTA, Strategy, cash=100000, commission=0.001)\n",
        "        Stats = bt.run()\n",
        "        Signals = ESTA.tail(1)\n",
        "        Last_Price = Signals.iloc[0]['Close']\n",
        "        Status = Signals.iloc[0]['Trade']\n",
        "        L1 = [datas[i], Last_Price,round(Stats.loc['Win Rate [%]'], 2), Status]\n",
        "        df_signals.loc[len(df_signals)] = L1\n",
        "        print(L1)\n",
        "     except Exception as e:\n",
        "        print(f\"An error occurred for stock {datas[i]}: {e}\")\n",
        "\n",
        "df_True = df_signals[df_signals['Son Durum'] == 'AL']\n",
        "\n",
        "print(df_True.to_string())"
      ]
    }
  ],
  "metadata": {
    "colab": {
      "provenance": [],
      "include_colab_link": true
    },
    "kernelspec": {
      "display_name": "Python 3",
      "name": "python3"
    },
    "language_info": {
      "name": "python"
    }
  },
  "nbformat": 4,
  "nbformat_minor": 0
}