{
  "nbformat": 4,
  "nbformat_minor": 0,
  "metadata": {
    "colab": {
      "provenance": [],
      "authorship_tag": "ABX9TyPHXkNA9lFgGuPbylPAeJ4u",
      "include_colab_link": true
    },
    "kernelspec": {
      "name": "python3",
      "display_name": "Python 3"
    },
    "language_info": {
      "name": "python"
    }
  },
  "cells": [
    {
      "cell_type": "markdown",
      "metadata": {
        "id": "view-in-github",
        "colab_type": "text"
      },
      "source": [
        "<a href=\"https://colab.research.google.com/github/canamac/zeka-can/blob/main/lojistik_regrasyon.ipynb\" target=\"_parent\"><img src=\"https://colab.research.google.com/assets/colab-badge.svg\" alt=\"Open In Colab\"/></a>"
      ]
    },
    {
      "cell_type": "code",
      "execution_count": 2,
      "metadata": {
        "colab": {
          "base_uri": "https://localhost:8080/"
        },
        "id": "IjxENO0YXRI-",
        "outputId": "06ac2104-b822-4b8c-9261-dea08f43362c"
      },
      "outputs": [
        {
          "output_type": "stream",
          "name": "stdout",
          "text": [
            "Veri başarıyla indirildi ve 'price_data.csv' olarak kaydedildi.\n",
            "          close  FinalBuySignal  FinalSellSignal\n",
            "0  96558.237625           False            False\n",
            "1  96922.495300           False            False\n"
          ]
        }
      ],
      "source": [
        "import pandas as pd\n",
        "import numpy as np\n",
        "import math\n",
        "import requests\n",
        "\n",
        "# CoinGecko API'den veri çekme\n",
        "url = \"https://api.coingecko.com/api/v3/coins/bitcoin/market_chart\"\n",
        "params = {\n",
        "    \"vs_currency\": \"usd\",\n",
        "    \"days\": \"1\",  # Son 1 gün\n",
        "    \"interval\": \"daily\"  # Günlük veri kullanımı\n",
        "}\n",
        "\n",
        "response = requests.get(url, params=params)\n",
        "data_json = response.json()\n",
        "\n",
        "# Veriyi kontrol et ve CSV'ye kaydet\n",
        "if \"prices\" in data_json:\n",
        "    prices = data_json[\"prices\"]\n",
        "    df = pd.DataFrame(prices, columns=[\"timestamp\", \"close\"])\n",
        "    df[\"timestamp\"] = pd.to_datetime(df[\"timestamp\"], unit=\"ms\")  # Zaman damgasını dönüştür\n",
        "    df.to_csv(\"price_data.csv\", index=False)\n",
        "    print(\"Veri başarıyla indirildi ve 'price_data.csv' olarak kaydedildi.\")\n",
        "else:\n",
        "    raise ValueError(\"API yanıtında 'prices' verisi bulunamadı.\")\n",
        "\n",
        "# CSV'den veri yükleme\n",
        "data = pd.read_csv(\"price_data.csv\")\n",
        "\n",
        "# Eksik veya hatalı verileri temizleme\n",
        "data.dropna(inplace=True)\n",
        "\n",
        "# Hareketli ortalamalar ve göstergeleri hesaplama\n",
        "ema_length = 20\n",
        "rsi_length = 14\n",
        "bollinger_length = 20\n",
        "bollinger_std_dev = 2.0\n",
        "rsi_ema_length = 200\n",
        "bollinger_ema_length = 200\n",
        "\n",
        "# EMA hesaplama\n",
        "data['EMA'] = data['close'].ewm(span=ema_length, adjust=False).mean()\n",
        "\n",
        "# RSI hesaplama\n",
        "delta = data['close'].diff(1)\n",
        "gain = (delta.where(delta > 0, 0)).rolling(window=rsi_length).mean()\n",
        "loss = (-delta.where(delta < 0, 0)).rolling(window=rsi_length).mean()\n",
        "rs = gain / loss\n",
        "data['RSI'] = 100 - (100 / (1 + rs))\n",
        "\n",
        "# Bollinger Bantları hesaplama\n",
        "data['MiddleBand'] = data['close'].rolling(window=bollinger_length).mean()\n",
        "data['StdDev'] = data['close'].rolling(window=bollinger_length).std()\n",
        "data['UpperBand'] = data['MiddleBand'] + (bollinger_std_dev * data['StdDev'])\n",
        "data['LowerBand'] = data['MiddleBand'] - (bollinger_std_dev * data['StdDev'])\n",
        "\n",
        "# EMA 200 RSI hesaplama\n",
        "data['RSI_EMA'] = data['RSI'].ewm(span=rsi_ema_length, adjust=False).mean()\n",
        "\n",
        "# EMA 200 Bollinger hesaplama\n",
        "data['Bollinger_EMA'] = data['MiddleBand'].ewm(span=bollinger_ema_length, adjust=False).mean()\n",
        "\n",
        "# Alım/Satım Sinyalleri\n",
        "buy_signal = (data['close'] > data['EMA']) & (data['RSI'] < 30) & (data['close'] < data['LowerBand'])\n",
        "sell_signal = (data['close'] < data['EMA']) & (data['RSI'] > 70) & (data['close'] > data['UpperBand'])\n",
        "\n",
        "data['BuySignal'] = buy_signal\n",
        "data['SellSignal'] = sell_signal\n",
        "\n",
        "# Nash Dengesi\n",
        "nash_equilibrium = ~(buy_signal & sell_signal)\n",
        "data['NashEquilibrium'] = nash_equilibrium\n",
        "\n",
        "# Lojistik Regresyon Hesaplamaları\n",
        "ema_prob = (data['close'] - data['EMA']) / data['close']\n",
        "rsi_prob = (data['RSI'] - 50) / 50\n",
        "bollinger_prob = (data['close'] - data['MiddleBand']) / (data['UpperBand'] - data['LowerBand'])\n",
        "\n",
        "data['CombinedProbability'] = (ema_prob + rsi_prob + bollinger_prob) / 3\n",
        "data['LogisticProbability'] = 1 / (1 + np.exp(-data['CombinedProbability']))\n",
        "\n",
        "# Nihai sinyal hesaplama\n",
        "data['FinalBuySignal'] = data['BuySignal'] & (data['LogisticProbability'] > 0.5) & data['NashEquilibrium']\n",
        "data['FinalSellSignal'] = data['SellSignal'] & (data['LogisticProbability'] < 0.5) & data['NashEquilibrium']\n",
        "\n",
        "# Çıktıyı yazdırma\n",
        "data.to_csv(\"processed_signals.csv\", index=False)\n",
        "print(data[['close', 'FinalBuySignal', 'FinalSellSignal']].tail())\n"
      ]
    }
  ]
}