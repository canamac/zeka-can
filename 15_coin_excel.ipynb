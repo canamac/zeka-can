{
  "nbformat": 4,
  "nbformat_minor": 0,
  "metadata": {
    "colab": {
      "provenance": [],
      "authorship_tag": "ABX9TyMJc3KH2evol6w3fKpN636g",
      "include_colab_link": true
    },
    "kernelspec": {
      "name": "python3",
      "display_name": "Python 3"
    },
    "language_info": {
      "name": "python"
    }
  },
  "cells": [
    {
      "cell_type": "markdown",
      "metadata": {
        "id": "view-in-github",
        "colab_type": "text"
      },
      "source": [
        "<a href=\"https://colab.research.google.com/github/canamac/zeka-can/blob/main/15_coin_excel.ipynb\" target=\"_parent\"><img src=\"https://colab.research.google.com/assets/colab-badge.svg\" alt=\"Open In Colab\"/></a>"
      ]
    },
    {
      "cell_type": "code",
      "execution_count": null,
      "metadata": {
        "colab": {
          "base_uri": "https://localhost:8080/"
        },
        "id": "I8eTDsIeKSs8",
        "outputId": "5d198f76-bf41-4557-81b1-3356db1d96cd"
      },
      "outputs": [
        {
          "output_type": "stream",
          "name": "stdout",
          "text": [
            "\n",
            "--- Tarama Zamanı: Mon Feb  3 18:53:58 2025 ---\n",
            "           Coin          Close Signal\n",
            "0       bitcoin  100065.000000   SELL\n",
            "1      ethereum    2735.950000   SELL\n",
            "2        solana     211.810000   SELL\n",
            "3   binancecoin     599.890000   SELL\n",
            "4      dogecoin       0.273093   SELL\n",
            "5       cardano       0.783237   SELL\n",
            "6     chainlink      20.810000   SELL\n",
            "7   avalanche-2      27.470000   SELL\n",
            "8       stellar       0.358267   SELL\n",
            "9     shiba-inu       0.000016   SELL\n",
            "10     litecoin     103.620000   SELL\n",
            "11     polkadot       5.000000   SELL\n",
            "12      uniswap       9.800000   SELL\n",
            "13       monero     218.850000   SELL\n",
            "📊 Excel dosyası kaydedildi: crypto_signals.xlsx\n"
          ]
        }
      ],
      "source": [
        "import pandas as pd\n",
        "import numpy as np\n",
        "import requests\n",
        "import time\n",
        "\n",
        "# CoinGecko API erişim bilgileri\n",
        "COINGECKO_URL = \"https://api.coingecko.com/api/v3/coins/markets\"\n",
        "HEADERS = {'User-Agent': 'Mozilla/5.0'}\n",
        "\n",
        "def get_coingecko_data(symbols, vs_currency='usd'):\n",
        "    \"\"\"CoinGecko API üzerinden birden fazla kripto para verisini tek istekte çeker.\"\"\"\n",
        "    symbol_str = ','.join(symbols)\n",
        "    params = {\n",
        "        'vs_currency': vs_currency,\n",
        "        'ids': symbol_str.lower(),\n",
        "        'order': 'market_cap_desc',\n",
        "        'per_page': len(symbols),\n",
        "        'page': 1,\n",
        "        'sparkline': False\n",
        "    }\n",
        "\n",
        "    try:\n",
        "        response = requests.get(COINGECKO_URL, params=params, headers=HEADERS, timeout=15)\n",
        "        response.raise_for_status()\n",
        "        data = response.json()\n",
        "        if data:\n",
        "            df = pd.DataFrame(data)\n",
        "            df = df[['id', 'current_price', 'high_24h', 'low_24h']]\n",
        "            df.rename(columns={'id': 'Coin', 'current_price': 'Close', 'high_24h': 'High', 'low_24h': 'Low'}, inplace=True)\n",
        "            df['Timestamp'] = pd.to_datetime(time.time(), unit='s')\n",
        "            return df\n",
        "    except requests.exceptions.RequestException as e:\n",
        "        print(f\"API Hatası: {e}\")\n",
        "\n",
        "    return pd.DataFrame()\n",
        "\n",
        "def calculate_devisso_trend(df, ma_period=20):\n",
        "    \"\"\"Basit hareketli ortalama (SMA) hesaplayarak trend sinyali üretir.\"\"\"\n",
        "    if df.empty:\n",
        "        return df\n",
        "\n",
        "    df['MA'] = df['Close'].rolling(ma_period, min_periods=1).mean()\n",
        "    df['Signal'] = np.where(df['Close'] > df['MA'], 'BUY', 'SELL')\n",
        "    return df\n",
        "\n",
        "def scan_coins(coin_list):\n",
        "    \"\"\"Belirtilen coin listesindeki trend sinyallerini tek API isteğiyle tarar.\"\"\"\n",
        "    data = get_coingecko_data(coin_list)\n",
        "    if not data.empty:\n",
        "        return calculate_devisso_trend(data)\n",
        "    return pd.DataFrame()\n",
        "\n",
        "def save_to_excel(df, filename=\"crypto_signals.xlsx\"):\n",
        "    \"\"\"Veriyi Excel dosyasına kaydeder.\"\"\"\n",
        "    try:\n",
        "        df.to_excel(filename, index=False)\n",
        "        print(f\"📊 Excel dosyası kaydedildi: {filename}\")\n",
        "    except Exception as e:\n",
        "        print(f\"Excel kaydetme hatası: {e}\")\n",
        "\n",
        "# Çalıştırma\n",
        "coin_list = [\n",
        "    'bitcoin', 'ethereum', 'binancecoin', 'cardano', 'solana',\n",
        "    'xrp', 'dogecoin', 'polkadot', 'litecoin', 'chainlink',\n",
        "    'uniswap', 'monero', 'avalanche-2', 'shiba-inu', 'stellar'\n",
        "]\n",
        "\n",
        "while True:\n",
        "    print(f\"\\n--- Tarama Zamanı: {time.ctime()} ---\")\n",
        "    signals_df = scan_coins(coin_list)\n",
        "\n",
        "    if not signals_df.empty:\n",
        "        print(signals_df[['Coin', 'Close', 'Signal']])  # Konsolda göster\n",
        "        save_to_excel(signals_df)  # Excel olarak kaydet\n",
        "    else:\n",
        "        print(\"Sinyal yok\")\n",
        "\n",
        "    time.sleep(300)  # 5 dakikada bir tarama\n"
      ]
    }
  ]
}