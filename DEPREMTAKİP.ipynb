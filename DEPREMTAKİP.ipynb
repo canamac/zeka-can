{
  "nbformat": 4,
  "nbformat_minor": 0,
  "metadata": {
    "colab": {
      "provenance": [],
      "authorship_tag": "ABX9TyOXBVK/xVpe6uZ/0GG31rGj",
      "include_colab_link": true
    },
    "kernelspec": {
      "name": "python3",
      "display_name": "Python 3"
    },
    "language_info": {
      "name": "python"
    }
  },
  "cells": [
    {
      "cell_type": "markdown",
      "metadata": {
        "id": "view-in-github",
        "colab_type": "text"
      },
      "source": [
        "<a href=\"https://colab.research.google.com/github/canamac/zeka-can/blob/main/DEPREMTAK%C4%B0P.ipynb\" target=\"_parent\"><img src=\"https://colab.research.google.com/assets/colab-badge.svg\" alt=\"Open In Colab\"/></a>"
      ]
    },
    {
      "cell_type": "code",
      "execution_count": null,
      "metadata": {
        "id": "u-4CqWAxUS33"
      },
      "outputs": [],
      "source": [
        "import requests\n",
        "from bs4 import BeautifulSoup\n",
        "import time\n",
        "\n",
        "lastid = 0\n",
        "\n",
        "kutuphane = []\n",
        "\n",
        "rank = 0\n",
        "\n",
        "while True:\n",
        "\n",
        "    url = \"https://deprem.afad.gov.tr/last-earthquakes.html\"\n",
        "    response = requests.get(url)\n",
        "    soup = BeautifulSoup(response.content, \"html.parser\")\n",
        "\n",
        "    table = soup.find(\"table\")\n",
        "    rows = table.find_all(\"tr\")\n",
        "\n",
        "    degree = 0\n",
        "\n",
        "    for i, row in enumerate(rows[:10]):\n",
        "        cells = row.find_all(\"td\")\n",
        "        # Extract data from the cells\n",
        "        if cells:\n",
        "            date = cells[0].text.strip()\n",
        "            longitude = cells[3].text.strip()\n",
        "            magnitude = cells[5].text.strip()\n",
        "            location = cells[6].text.strip()\n",
        "            id = cells[7].text.strip()\n",
        "\n",
        "\n",
        "\n",
        "            if id in kutuphane:\n",
        "                continue\n",
        "            else:\n",
        "                magnitudecontrol = float(magnitude)\n",
        "                if rank == 0 :\n",
        "                    if degree == 0 :\n",
        "                        if magnitudecontrol > 4 :\n",
        "                            depremmessage = \"🚨 Yeni Deprem !\"\n",
        "                            yermessage = \"🗺️ Yer: \" + location\n",
        "                            magnitudemessage =\"🔴 Büyüklük: \" + magnitude\n",
        "                            depthmessage = \"⬇ Derinlik: \" + longitude + \" km\"\n",
        "                            tarihmessage = \"📅 Tarih: \" + date\n",
        "                            kaynakmessage = \"🟡Kaynak: AFAD\"\n",
        "                            degree = degree + 1\n",
        "                            #\"ID\" ifadesi silinip Botfatherdaki Botun ID  ifadesi eklenecek. Örnek : bot6254350045:TAFllCCGZi-AtoP_Ooo5XFbGUgdTEt1NCbY\n",
        "                            ap = \"https://api.telegram.org/bot-BurayaIDGiriniz-/SendMessage\"\n",
        "                            #Chat id alanına ilgili chatin ID değeri girilecek örn: \"-1108313129541\"\n",
        "                            requests.post(url=ap,data={\"chat_id\":\"Burası Değişecek\",\"text\":depremmessage +  \"\\n\\n\" + yermessage + \"\\n\\n\" + magnitudemessage +\n",
        "                            \"\\n\\n\" + depthmessage +\n",
        "                            \"\\n\\n\" + tarihmessage +  \"\\n\\n\" + kaynakmessage}).json()\n",
        "\n",
        "                else:\n",
        "                    if magnitudecontrol > 4 :\n",
        "                        depremmessage = \"🚨 Yeni Deprem !\"\n",
        "                        yermessage = \"🗺️ Yer: \" + location\n",
        "                        magnitudemessage =\"🔴 Büyüklük: \" + magnitude\n",
        "                        depthmessage = \"⬇ Derinlik: \" + longitude + \" km\"\n",
        "                        tarihmessage = \"📅 Tarih: \" + date\n",
        "                        kaynakmessage = \"🟡Kaynak: AFAD\"\n",
        "                         #\"ID\" ifadesi silinip Botfatherdaki Botun ID  ifadesi eklenecek. Örnek : bot6254350045:TAFllCCGZi-AtoP_Ooo5XFbGUgdTEt1NCbY\n",
        "                        ap = \"https://api.telegram.org/bot-BurayaIDGiriniz-/SendMessage\"\n",
        "                        #Chat id alanına ilgili chatin ID değeri girilecek örn: \"-1108313129541\"\n",
        "                        requests.post(url=ap,data={\"chat_id\":\"Burası Değişecek\",\"text\":depremmessage +  \"\\n\\n\" + yermessage + \"\\n\\n\" + magnitudemessage +\n",
        "                        \"\\n\\n\" + depthmessage +\n",
        "                        \"\\n\\n\" + tarihmessage +  \"\\n\\n\" + kaynakmessage}).json()\n",
        "                kutuphane.append(id)\n",
        "\n",
        "    rank = rank + 1\n",
        "    time.sleep(120)"
      ]
    }
  ]
}