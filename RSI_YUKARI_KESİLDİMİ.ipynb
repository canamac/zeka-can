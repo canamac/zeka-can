{
  "nbformat": 4,
  "nbformat_minor": 0,
  "metadata": {
    "colab": {
      "provenance": [],
      "authorship_tag": "ABX9TyOlgvaUV2/kgQ2vha1/5yY7",
      "include_colab_link": true
    },
    "kernelspec": {
      "name": "python3",
      "display_name": "Python 3"
    },
    "language_info": {
      "name": "python"
    }
  },
  "cells": [
    {
      "cell_type": "markdown",
      "metadata": {
        "id": "view-in-github",
        "colab_type": "text"
      },
      "source": [
        "<a href=\"https://colab.research.google.com/github/canamac/zeka-can/blob/main/RSI_YUKARI_KES%C4%B0LD%C4%B0M%C4%B0.ipynb\" target=\"_parent\"><img src=\"https://colab.research.google.com/assets/colab-badge.svg\" alt=\"Open In Colab\"/></a>"
      ]
    },
    {
      "cell_type": "code",
      "execution_count": 1,
      "metadata": {
        "colab": {
          "base_uri": "https://localhost:8080/"
        },
        "id": "WA1BHZms6R7y",
        "outputId": "7e0c8b72-2d2a-4d7e-bdd7-1f0b95f3d444"
      },
      "outputs": [
        {
          "output_type": "stream",
          "name": "stdout",
          "text": [
            "Empty DataFrame\n",
            "Columns: [timestamp, LIT_Cross, ADA_Cross]\n",
            "Index: []\n"
          ]
        }
      ],
      "source": [
        "import pandas as pd\n",
        "import numpy as np\n",
        "\n",
        "# Örnek veri seti: 100 günlük kapanış fiyatları\n",
        "data = {\n",
        "    \"timestamp\": pd.date_range(start=\"2024-01-01\", periods=100, freq=\"D\"),\n",
        "    \"LITUSDT\": np.linspace(10, 20, 100),   # LIT için örnek artış\n",
        "    \"ADAUSDT\": np.linspace(0.5, 2, 100),   # ADA için örnek artış\n",
        "    \"BTC_D\": np.linspace(50, 40, 100),     # BTC Dominance düşüş trendi\n",
        "}\n",
        "\n",
        "df = pd.DataFrame(data)\n",
        "\n",
        "# RSI hesaplama fonksiyonu (TA-Lib kullanmadan)\n",
        "def calculate_rsi(prices, period=14):\n",
        "    delta = prices.diff()\n",
        "    gain = np.where(delta > 0, delta, 0)\n",
        "    loss = np.where(delta < 0, -delta, 0)\n",
        "\n",
        "    avg_gain = pd.Series(gain).rolling(window=period, min_periods=1).mean()\n",
        "    avg_loss = pd.Series(loss).rolling(window=period, min_periods=1).mean()\n",
        "\n",
        "    rs = avg_gain / (avg_loss + 1e-10)  # Bölme hatalarını önlemek için küçük bir değer eklenir\n",
        "    rsi = 100 - (100 / (1 + rs))\n",
        "    return rsi\n",
        "\n",
        "# RSI hesaplamaları\n",
        "df[\"LIT_RSI\"] = calculate_rsi(df[\"LITUSDT\"], period=14)\n",
        "df[\"ADA_RSI\"] = calculate_rsi(df[\"ADAUSDT\"], period=14)\n",
        "df[\"BTC_D_RSI\"] = calculate_rsi(df[\"BTC_D\"], period=14)\n",
        "\n",
        "# Kesişimleri belirleme (BTC.D RSI yukarı kesildi mi?)\n",
        "df[\"LIT_Cross\"] = (df[\"LIT_RSI\"].shift(1) < df[\"BTC_D_RSI\"].shift(1)) & (df[\"LIT_RSI\"] > df[\"BTC_D_RSI\"])\n",
        "df[\"ADA_Cross\"] = (df[\"ADA_RSI\"].shift(1) < df[\"BTC_D_RSI\"].shift(1)) & (df[\"ADA_RSI\"] > df[\"BTC_D_RSI\"])\n",
        "\n",
        "# Sonuçları göster\n",
        "crosses = df[df[[\"LIT_Cross\", \"ADA_Cross\"]].any(axis=1)][[\"timestamp\", \"LIT_Cross\", \"ADA_Cross\"]]\n",
        "print(crosses)\n"
      ]
    }
  ]
}