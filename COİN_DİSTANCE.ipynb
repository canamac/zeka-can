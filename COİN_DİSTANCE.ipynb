{
  "cells": [
    {
      "cell_type": "markdown",
      "metadata": {
        "id": "view-in-github",
        "colab_type": "text"
      },
      "source": [
        "<a href=\"https://colab.research.google.com/github/canamac/zeka-can/blob/main/CO%C4%B0N_D%C4%B0STANCE.ipynb\" target=\"_parent\"><img src=\"https://colab.research.google.com/assets/colab-badge.svg\" alt=\"Open In Colab\"/></a>"
      ]
    },
    {
      "cell_type": "code",
      "execution_count": null,
      "metadata": {
        "colab": {
          "background_save": true,
          "base_uri": "https://localhost:8080/"
        },
        "id": "QaIn_tebKLZK",
        "outputId": "fd4db938-db2e-4dd3-8dd7-4465cf4f17e2"
      },
      "outputs": [
        {
          "name": "stdout",
          "output_type": "stream",
          "text": [
            "❌ API Hatası [429]: dogecoin - Çok fazla istek gönderildi. Bekleniyor...\n",
            "❌ API Hatası [429]: dogecoin - Çok fazla istek gönderildi. Bekleniyor...\n",
            "❌ API Hatası [429]: dogecoin - Çok fazla istek gönderildi. Bekleniyor...\n",
            "❌ API Hatası [429]: dogecoin - Çok fazla istek gönderildi. Bekleniyor...\n",
            "❌ API Hatası [429]: dogecoin - Çok fazla istek gönderildi. Bekleniyor...\n",
            "❌ API Hatası [429]: dogecoin - Çok fazla istek gönderildi. Bekleniyor...\n",
            "❌ API Hatası [429]: dogecoin - Çok fazla istek gönderildi. Bekleniyor...\n",
            "❌ API Hatası [429]: dogecoin - Çok fazla istek gönderildi. Bekleniyor...\n",
            "❌ API Hatası [429]: dogecoin - Çok fazla istek gönderildi. Bekleniyor...\n",
            "❌ API Hatası [429]: dogecoin - Çok fazla istek gönderildi. Bekleniyor...\n",
            "❌ API Hatası [429]: dogecoin - Çok fazla istek gönderildi. Bekleniyor...\n",
            "❌ API Hatası [429]: dogecoin - Çok fazla istek gönderildi. Bekleniyor...\n",
            "❌ API Hatası [429]: avalanche-2 - Çok fazla istek gönderildi. Bekleniyor...\n",
            "❌ API Hatası [429]: avalanche-2 - Çok fazla istek gönderildi. Bekleniyor...\n",
            "❌ API Hatası [429]: avalanche-2 - Çok fazla istek gönderildi. Bekleniyor...\n",
            "❌ API Hatası [429]: avalanche-2 - Çok fazla istek gönderildi. Bekleniyor...\n",
            "❌ API Hatası [429]: avalanche-2 - Çok fazla istek gönderildi. Bekleniyor...\n",
            "❌ API Hatası [429]: avalanche-2 - Çok fazla istek gönderildi. Bekleniyor...\n",
            "❌ API Hatası [429]: avalanche-2 - Çok fazla istek gönderildi. Bekleniyor...\n",
            "❌ API Hatası [429]: avalanche-2 - Çok fazla istek gönderildi. Bekleniyor...\n",
            "❌ API Hatası [429]: avalanche-2 - Çok fazla istek gönderildi. Bekleniyor...\n",
            "❌ API Hatası [429]: avalanche-2 - Çok fazla istek gönderildi. Bekleniyor...\n",
            "❌ API Hatası [429]: avalanche-2 - Çok fazla istek gönderildi. Bekleniyor...\n",
            "❌ API Hatası [429]: avalanche-2 - Çok fazla istek gönderildi. Bekleniyor...\n",
            "❌ API Hatası [429]: near - Çok fazla istek gönderildi. Bekleniyor...\n",
            "❌ API Hatası [429]: near - Çok fazla istek gönderildi. Bekleniyor...\n",
            "❌ API Hatası [429]: near - Çok fazla istek gönderildi. Bekleniyor...\n",
            "❌ API Hatası [429]: near - Çok fazla istek gönderildi. Bekleniyor...\n",
            "❌ API Hatası [429]: near - Çok fazla istek gönderildi. Bekleniyor...\n",
            "❌ API Hatası [429]: near - Çok fazla istek gönderildi. Bekleniyor...\n",
            "❌ API Hatası [429]: near - Çok fazla istek gönderildi. Bekleniyor...\n",
            "❌ API Hatası [429]: near - Çok fazla istek gönderildi. Bekleniyor...\n",
            "❌ API Hatası [429]: near - Çok fazla istek gönderildi. Bekleniyor...\n",
            "❌ API Hatası [429]: near - Çok fazla istek gönderildi. Bekleniyor...\n",
            "❌ API Hatası [429]: near - Çok fazla istek gönderildi. Bekleniyor...\n",
            "❌ API Hatası [429]: near - Çok fazla istek gönderildi. Bekleniyor...\n",
            "           Coin  Distance\n",
            "0       bitcoin  1.818223\n",
            "1      ethereum  2.639527\n",
            "2   binancecoin  2.587170\n",
            "3        solana  1.805817\n",
            "4        ripple  2.602594\n",
            "5      dogecoin  1.425788\n",
            "6       cardano  2.710183\n",
            "7   avalanche-2  2.510936\n",
            "8     chainlink  1.930895\n",
            "9      polkadot  2.458225\n",
            "10     litecoin  3.234731\n",
            "11         tron  1.229482\n",
            "12         near  2.866726\n",
            "13      uniswap  1.643215\n",
            "14       cosmos  2.972017\n"
          ]
        }
      ],
      "source": [
        "import requests\n",
        "import time\n",
        "import numpy as np\n",
        "import pandas as pd\n",
        "\n",
        "def get_price_from_coingecko(coin_id):\n",
        "    url = f\"https://api.coingecko.com/api/v3/coins/{coin_id}/market_chart?vs_currency=usd&days=365&interval=daily\"\n",
        "    try:\n",
        "        response = requests.get(url)\n",
        "        if response.status_code == 429:\n",
        "            print(f\"❌ API Hatası [429]: {coin_id} - Çok fazla istek gönderildi. Bekleniyor...\")\n",
        "            time.sleep(5)  # Bekleme süresi (5 saniye)\n",
        "            return get_price_from_coingecko(coin_id)\n",
        "        elif response.status_code != 200:\n",
        "            print(f\"❌ Veri çekme başarısız: {coin_id} - Hata Kodu: {response.status_code}\")\n",
        "            return None\n",
        "        data = response.json()\n",
        "        prices = [x[1] for x in data['prices']]\n",
        "        return prices\n",
        "    except Exception as e:\n",
        "        print(f\"⚠️ Hata: {e}\")\n",
        "        return None\n",
        "\n",
        "def calculate_distance(prices):\n",
        "    if len(prices) < 100:\n",
        "        return None  # Yeterli veri yoksa hesaplama yapma\n",
        "    prices = np.array(prices)\n",
        "    roc = np.diff(prices) / prices[:-1]  # Rate of Change (ROC)\n",
        "    roc_min, roc_max = np.min(roc[-100:]), np.max(roc[-100:])\n",
        "    roc_scaled = ((roc - roc_min) / (roc_max - roc_min)) * 8 - 4\n",
        "    roc_volatility = np.abs(np.diff(roc)).mean() * 8 - 4\n",
        "    return roc_scaled[-1] - roc_volatility\n",
        "\n",
        "# En fazla 15 coin seçildi\n",
        "top_15_coins = [\n",
        "    \"bitcoin\", \"ethereum\", \"binancecoin\", \"solana\", \"ripple\", \"dogecoin\",\n",
        "    \"cardano\", \"avalanche-2\", \"chainlink\", \"polkadot\", \"litecoin\",\n",
        "    \"tron\", \"near\", \"uniswap\", \"cosmos\"\n",
        "]\n",
        "\n",
        "distances = []\n",
        "coin_names = []\n",
        "\n",
        "for coin in top_15_coins:\n",
        "    prices = get_price_from_coingecko(coin)\n",
        "    if prices:\n",
        "        distance = calculate_distance(prices)\n",
        "        if distance is not None:\n",
        "            distances.append(distance)\n",
        "            coin_names.append(coin)\n",
        "        else:\n",
        "            print(f\"⚠️ Yeterli veri yok: {coin}\")\n",
        "    time.sleep(2)  # API sınırlarını aşmamak için 2 saniye bekleme\n",
        "\n",
        "df = pd.DataFrame({\"Coin\": coin_names, \"Distance\": distances})\n",
        "print(df)\n"
      ]
    }
  ],
  "metadata": {
    "colab": {
      "provenance": [],
      "authorship_tag": "ABX9TyMVALIVfFnlueyQ+KwTYx2g",
      "include_colab_link": true
    },
    "kernelspec": {
      "display_name": "Python 3",
      "name": "python3"
    },
    "language_info": {
      "name": "python"
    }
  },
  "nbformat": 4,
  "nbformat_minor": 0
}