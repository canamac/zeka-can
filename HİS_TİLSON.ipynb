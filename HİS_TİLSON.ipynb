{
  "nbformat": 4,
  "nbformat_minor": 0,
  "metadata": {
    "colab": {
      "provenance": [],
      "authorship_tag": "ABX9TyMIUqK5f98IwUHXzHxIuLMT",
      "include_colab_link": true
    },
    "kernelspec": {
      "name": "python3",
      "display_name": "Python 3"
    },
    "language_info": {
      "name": "python"
    }
  },
  "cells": [
    {
      "cell_type": "markdown",
      "metadata": {
        "id": "view-in-github",
        "colab_type": "text"
      },
      "source": [
        "<a href=\"https://colab.research.google.com/github/canamac/zeka-can/blob/main/H%C4%B0S_T%C4%B0LSON.ipynb\" target=\"_parent\"><img src=\"https://colab.research.google.com/assets/colab-badge.svg\" alt=\"Open In Colab\"/></a>"
      ]
    },
    {
      "cell_type": "code",
      "execution_count": null,
      "metadata": {
        "id": "IVHxUtAss95Y"
      },
      "outputs": [],
      "source": [
        "!pip install yfinance\n",
        "!pip install vectorbt\n",
        "!pip install pandas_ta\n",
        "!pip install mplcyberpunk\n",
        "\n",
        "import pandas as pd\n",
        "import pandas_ta as ta\n",
        "import ssl\n",
        "from urllib import request\n",
        "import yfinance as yf\n",
        "import matplotlib.pyplot as plt\n",
        "import mplcyberpunk\n",
        "import vectorbt as vbt\n",
        "\n",
        "def Hisse_Temel_Veriler():\n",
        "    url1=\"https://www.isyatirim.com.tr/tr-tr/analiz/hisse/Sayfalar/Temel-Degerler-Ve-Oranlar.aspx#page-1\"\n",
        "    context = ssl._create_unverified_context()\n",
        "    response = request.urlopen(url1, context=context)\n",
        "    url1 = response.read()\n",
        "\n",
        "    df = pd.read_html(url1,decimal=',', thousands='.')                         #Tüm Hisselerin Tablolarını Aktar\n",
        "    df2=df[6]\n",
        "    return df2\n",
        "\n",
        "def TillsonT3(data,Length=21,vf=0.618):\n",
        "    Tillson=data.copy()\n",
        "\n",
        "    ema_first_input = (Tillson['High'] + Tillson['Low'] + 2 * Tillson['Adj Close']) / 4\n",
        "    e1 = ta.ema(ema_first_input, Length)\n",
        "    e2 = ta.ema(e1, Length)\n",
        "    e3 = ta.ema(e2, Length)\n",
        "    e4 = ta.ema(e3, Length)\n",
        "    e5 = ta.ema(e4, Length)\n",
        "    e6 = ta.ema(e5, Length)\n",
        "\n",
        "    c1 = -1 * vf * vf * vf\n",
        "    c2 = 3 * vf * vf + 3 * vf * vf * vf\n",
        "    c3 = -6 * vf * vf - 3 * vf - 3 * vf * vf * vf\n",
        "    c4 = 1 + 3 * vf + vf * vf * vf + 3 * vf * vf\n",
        "    Tillson['TillsonT3'] = c1 * e6 + c2 * e5 + c3 * e4 + c4 * e3\n",
        "    Tillson = Tillson.dropna()\n",
        "    Tillson = Tillson.reset_index()\n",
        "    Tillson['Entry']=False\n",
        "    Tillson['Exit']=False\n",
        "    for i in range(1, len(Tillson)):\n",
        "        if Tillson.loc[i,'TillsonT3']>Tillson.loc[i-1,'TillsonT3']:\n",
        "            Tillson.loc[i,'Entry']=True\n",
        "        if Tillson.loc[i,'TillsonT3']<Tillson.loc[i-1,'TillsonT3']:\n",
        "            Tillson.loc[i,'Exit']=True\n",
        "    return Tillson\n",
        "\n",
        "Hisse_Ozet=Hisse_Temel_Veriler()\n",
        "Hisseler=Hisse_Ozet['Kod'].values.tolist()\n",
        "\n",
        "Titles=['Hisse Adı','Kazanma Oranı[%]','Sharpe Oranı','Ort. Kazanma Oranı [%]','Ort Kazanma Süresi','Ort. Kayıp Oranı [%]','Ort Kayıp Süresi','Giriş Sinyali','Çıkış Sinyali']\n",
        "df_signals=pd.DataFrame(columns=Titles)\n",
        "\n",
        "for i in range(0,len(Hisseler)):\n",
        "    try:\n",
        "        L=8\n",
        "        v = 0.7\n",
        "        data=yf.download(Hisseler[i]+'.IS',period='2y', interval='1d',progress=False)\n",
        "        Tillson=TillsonT3(data,Length=L,vf=v)\n",
        "        psettings = {'init_cash': 100,'freq': 'D', 'direction': 'longonly', 'accumulate': True}\n",
        "        pf = vbt.Portfolio.from_signals(Tillson['Adj Close'], entries=Tillson['Entry'], exits=Tillson['Exit'],**psettings)\n",
        "        Stats=pf.stats()\n",
        "\n",
        "        Buy=False\n",
        "        Sell=False\n",
        "        Signals = Tillson.tail(2)\n",
        "        Signals = Signals.reset_index()\n",
        "        Buy = Signals.loc[0, 'Entry']==False and Signals.loc[1, 'Entry']==True\n",
        "        Sell = Signals.loc[0, 'Exit']==False and Signals.loc[1, 'Exit']== True\n",
        "\n",
        "        L1=[Hisseler[i],round(Stats.loc['Win Rate [%]'],2),round(Stats.loc['Sharpe Ratio'],2),\n",
        "            round(Stats.loc['Avg Winning Trade [%]'],2),str(Stats.loc['Avg Winning Trade Duration']),\n",
        "            round(Stats.loc['Avg Losing Trade [%]'],2),str(Stats.loc['Avg Losing Trade Duration']),\n",
        "            str(Buy),str(Sell)]\n",
        "\n",
        "        print(L1)\n",
        "        df_signals.loc[len(df_signals)] = L1\n",
        "\n",
        "        if Buy==True:\n",
        "            pf.plot(subplots = ['orders','trades','drawdowns','trade_pnl','cum_returns']).write_image((Hisseler[i]+\"_Backtest.png\"))\n",
        "    except:\n",
        "        pass\n",
        "\n",
        "df_True = df_signals[(df_signals['Giriş Sinyali'] == 'True') & (df_signals['Kazanma Oranı[%]'] > 55.0)]\n",
        "print(df_True)"
      ]
    }
  ]
}