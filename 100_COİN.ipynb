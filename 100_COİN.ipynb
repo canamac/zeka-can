{
  "nbformat": 4,
  "nbformat_minor": 0,
  "metadata": {
    "colab": {
      "provenance": [],
      "authorship_tag": "ABX9TyOBcOsZHJDhzCYlUSKVLLYA",
      "include_colab_link": true
    },
    "kernelspec": {
      "name": "python3",
      "display_name": "Python 3"
    },
    "language_info": {
      "name": "python"
    }
  },
  "cells": [
    {
      "cell_type": "markdown",
      "metadata": {
        "id": "view-in-github",
        "colab_type": "text"
      },
      "source": [
        "<a href=\"https://colab.research.google.com/github/canamac/zeka-can/blob/main/100_CO%C4%B0N.ipynb\" target=\"_parent\"><img src=\"https://colab.research.google.com/assets/colab-badge.svg\" alt=\"Open In Colab\"/></a>"
      ]
    },
    {
      "cell_type": "code",
      "execution_count": null,
      "metadata": {
        "colab": {
          "base_uri": "https://localhost:8080/"
        },
        "id": "PTcH44x-xj3P",
        "outputId": "c9181ebd-fe1b-4ddc-f610-0711ab1d8ff7"
      },
      "outputs": [
        {
          "output_type": "stream",
          "name": "stdout",
          "text": [
            "Analiz edilecek coinler: BTC, ETH, XRP, USDT, SOL, BNB, DOGE, USDC, SUI, ADA, STETH, TON, RYO, TRX, WLD, LINK, XLM, AVAX, ENA, CULT, HBAR, ONDO, UNI, SHIB, WBTC, BGB, DOT, APT, MOVE, BCH, WBT, PEPE, JUP, LEO, LTC, MANTLE, OP, ARB, OM, WEETH, NEAR, EIGEN, USDE, ICP, TIA, AAVE, ZRO, GT, STRK, POL, MATIC, CRO, VIRTUAL, ETC, VET, XMR, NGTG, RNDR, TAO, SEI, PYTH, MORPHO, FET, DAI, ALGO, ENS, JTO, ME, FIL, KAS, W, RENDER, FLR, BONK, WBETH, RAY, ATOM, IMX, ATH, GRASS, MOCA, STX, HTX, IO, ZK, PEAQ, CORE, THETA, FTM, FDUSD, GRT, ETHFI, CRV, AI16Z, RONIN, INJ, AERO, VANA, ZEDXION, RUNE\n",
            "\n",
            "\n",
            "BTC için sinyaller:\n"
          ]
        },
        {
          "output_type": "stream",
          "name": "stderr",
          "text": [
            "<ipython-input-1-d9673e60a029>:66: FutureWarning: 'H' is deprecated and will be removed in a future version, please use 'h' instead.\n",
            "  df_4h = df.resample('4H').agg({\n"
          ]
        },
        {
          "output_type": "stream",
          "name": "stdout",
          "text": [
            "\n",
            "Son 1 Günlük 4H Sinyaller:\n",
            "Tarih: 2024-11-06 00:00:00, Sinyal: LONG, Fiyat: 74343.96, RSI Değişim: 24.34\n",
            "\n",
            "ETH için sinyaller:\n"
          ]
        },
        {
          "output_type": "stream",
          "name": "stderr",
          "text": [
            "<ipython-input-1-d9673e60a029>:66: FutureWarning: 'H' is deprecated and will be removed in a future version, please use 'h' instead.\n",
            "  df_4h = df.resample('4H').agg({\n"
          ]
        },
        {
          "output_type": "stream",
          "name": "stdout",
          "text": [
            "\n",
            "Son 1 Günlük 4H Sinyaller:\n",
            "Tarih: 2024-11-06 00:00:00, Sinyal: LONG, Fiyat: 2579.36, RSI Değişim: 29.39\n",
            "Tarih: 2024-12-20 12:00:00, Sinyal: LONG, Fiyat: 3374.68, RSI Değişim: 22.46\n",
            "\n",
            "XRP için sinyaller:\n"
          ]
        },
        {
          "output_type": "stream",
          "name": "stderr",
          "text": [
            "<ipython-input-1-d9673e60a029>:66: FutureWarning: 'H' is deprecated and will be removed in a future version, please use 'h' instead.\n",
            "  df_4h = df.resample('4H').agg({\n"
          ]
        },
        {
          "output_type": "stream",
          "name": "stdout",
          "text": [
            "\n",
            "USDT için sinyaller:\n"
          ]
        },
        {
          "output_type": "stream",
          "name": "stderr",
          "text": [
            "<ipython-input-1-d9673e60a029>:66: FutureWarning: 'H' is deprecated and will be removed in a future version, please use 'h' instead.\n",
            "  df_4h = df.resample('4H').agg({\n"
          ]
        },
        {
          "output_type": "stream",
          "name": "stdout",
          "text": [
            "\n",
            "SOL için sinyaller:\n"
          ]
        },
        {
          "output_type": "stream",
          "name": "stderr",
          "text": [
            "<ipython-input-1-d9673e60a029>:66: FutureWarning: 'H' is deprecated and will be removed in a future version, please use 'h' instead.\n",
            "  df_4h = df.resample('4H').agg({\n"
          ]
        },
        {
          "output_type": "stream",
          "name": "stdout",
          "text": [
            "\n",
            "BNB için sinyaller:\n"
          ]
        },
        {
          "output_type": "stream",
          "name": "stderr",
          "text": [
            "<ipython-input-1-d9673e60a029>:66: FutureWarning: 'H' is deprecated and will be removed in a future version, please use 'h' instead.\n",
            "  df_4h = df.resample('4H').agg({\n"
          ]
        },
        {
          "output_type": "stream",
          "name": "stdout",
          "text": [
            "\n",
            "DOGE için sinyaller:\n"
          ]
        },
        {
          "output_type": "stream",
          "name": "stderr",
          "text": [
            "<ipython-input-1-d9673e60a029>:66: FutureWarning: 'H' is deprecated and will be removed in a future version, please use 'h' instead.\n",
            "  df_4h = df.resample('4H').agg({\n"
          ]
        }
      ],
      "source": [
        "import requests\n",
        "import pandas as pd\n",
        "import numpy as np\n",
        "from datetime import datetime, timedelta\n",
        "\n",
        "API_KEY = \"APIKEY\"\n",
        "\n",
        "def get_top_coins(limit=100):  # limit'i 100 yapıyoruz\n",
        "    url = f\"https://min-api.cryptocompare.com/data/top/mktcapfull\"\n",
        "    headers = {'authorization': f'Apikey {API_KEY}'}\n",
        "    params = {'limit': limit, 'tsym': 'USDT'}\n",
        "    response = requests.get(url, params=params, headers=headers)\n",
        "\n",
        "    if response.status_code != 200:  # Eğer API'den 200 OK yanıtı gelmezse\n",
        "        print(f\"Hata: API yanıtı alınamadı ({response.status_code})\")\n",
        "        return []\n",
        "\n",
        "    data = response.json().get('Data', [])\n",
        "    return [coin['CoinInfo']['Name'] for coin in data]\n",
        "\n",
        "def get_historical_data(symbol, timeframe='hour', limit=500):\n",
        "    url = f\"https://min-api.cryptocompare.com/data/v2/histo{timeframe}\"\n",
        "    headers = {'authorization': f'Apikey {API_KEY}'}\n",
        "    params = {'fsym': symbol, 'tsym': 'USDT', 'limit': limit}\n",
        "    response = requests.get(url, params=params, headers=headers)\n",
        "\n",
        "    if response.status_code != 200:  # API yanıtını kontrol et\n",
        "        print(f\"Hata: {symbol} verisi alınamadı ({response.status_code})\")\n",
        "        return pd.DataFrame()  # Boş dataframe döndür\n",
        "\n",
        "    df = pd.DataFrame(response.json().get('Data', {}).get('Data', []))\n",
        "    if df.empty:\n",
        "        print(f\"Hata: {symbol} için veri bulunamadı.\")\n",
        "        return df\n",
        "\n",
        "    df['timestamp'] = pd.to_datetime(df['time'], unit='s')\n",
        "    return df\n",
        "\n",
        "def calculate_rsi(series, period=14):\n",
        "    delta = series.diff()\n",
        "    up = delta.clip(lower=0)\n",
        "    down = -delta.clip(upper=0)\n",
        "\n",
        "    ma_up = up.ewm(com=period-1, adjust=True, min_periods=period).mean()\n",
        "    ma_down = down.ewm(com=period-1, adjust=True, min_periods=period).mean()\n",
        "\n",
        "    rsi = ma_up / ma_down\n",
        "    rsi = 100 - (100 / (1 + rsi))\n",
        "    return rsi\n",
        "\n",
        "def calculate_c20_signals(data, symbol):\n",
        "    data = data.copy()\n",
        "    data['symbol'] = symbol\n",
        "    data['logClose'] = np.log(data['close'])\n",
        "    data['rsi'] = calculate_rsi(data['logClose'], 14)\n",
        "    data['rsiChange'] = data['rsi'].diff()\n",
        "\n",
        "    data['prev_rsiChange'] = data['rsiChange'].shift(1)\n",
        "    data['c20_long'] = (data['rsiChange'].gt(20)) & (data['prev_rsiChange'].le(20))\n",
        "    data['c20_short'] = (data['rsiChange'].lt(-20)) & (data['prev_rsiChange'].ge(-20))\n",
        "\n",
        "    return data\n",
        "\n",
        "def process_4h_data(df):\n",
        "    df = df.set_index('timestamp')\n",
        "    df_4h = df.resample('4H').agg({\n",
        "        'time': 'first',\n",
        "        'close': 'last',\n",
        "        'high': 'max',\n",
        "        'low': 'min',\n",
        "        'open': 'first',\n",
        "        'volumefrom': 'sum'\n",
        "    }).dropna()\n",
        "    return df_4h.reset_index()\n",
        "\n",
        "def main():\n",
        "    top_coins = get_top_coins(100)  # İlk 100 coin çekiyoruz\n",
        "    if not top_coins:\n",
        "        print(\"Coin listesi alınamadı.\")\n",
        "        return\n",
        "\n",
        "    print(f\"Analiz edilecek coinler: {', '.join(top_coins)}\\n\")\n",
        "\n",
        "    # Son iki ayın tarihini hesapla\n",
        "    two_months_ago = datetime.now() - timedelta(days=60)\n",
        "\n",
        "    for symbol in top_coins:\n",
        "        print(f\"\\n{symbol} için sinyaller:\")\n",
        "        try:\n",
        "            # 4H data (son 1 gün)\n",
        "            df_4h = get_historical_data(symbol, 'hour', 2000)\n",
        "            if df_4h.empty:\n",
        "                continue\n",
        "            df_4h = df_4h[df_4h['timestamp'] > two_months_ago]  # Son iki aydan önceki verileri çıkar\n",
        "            df_4h = process_4h_data(df_4h)\n",
        "            signals_4h = calculate_c20_signals(df_4h, symbol)\n",
        "\n",
        "            # Günlük data (son 2 ay)\n",
        "            df_daily = get_historical_data(symbol, 'day', 500)\n",
        "            if df_daily.empty:\n",
        "                continue\n",
        "            df_daily = df_daily[df_daily['timestamp'] > two_months_ago]  # Son iki aydan önceki verileri çıkar\n",
        "            signals_daily = calculate_c20_signals(df_daily, symbol)\n",
        "\n",
        "            # 4H sinyalleri\n",
        "            signal_4h = signals_4h[signals_4h['c20_long'] | signals_4h['c20_short']]\n",
        "            if not signal_4h.empty:\n",
        "                print(\"\\nSon 1 Günlük 4H Sinyaller:\")\n",
        "                signal_4h.apply(\n",
        "                    lambda x: print(f\"Tarih: {x['timestamp']}, \"\n",
        "                                f\"Sinyal: {'LONG' if x['c20_long'] else 'SHORT'}, \"\n",
        "                                f\"Fiyat: {x['close']:.2f}, \"\n",
        "                                f\"RSI Değişim: {x['rsiChange']:.2f}\"),\n",
        "                    axis=1)\n",
        "\n",
        "            # Günlük sinyaller\n",
        "            signal_daily = signals_daily[signals_daily['c20_long'] | signals_daily['c20_short']]\n",
        "            if not signal_daily.empty:\n",
        "                print(\"\\nSon 2 Aydaki Günlük Sinyaller:\")\n",
        "                signal_daily.apply(\n",
        "                    lambda x: print(f\"Tarih: {x['timestamp']}, \"\n",
        "                                f\"Sinyal: {'LONG' if x['c20_long'] else 'SHORT'}, \"\n",
        "                                f\"Fiyat: {x['close']:.2f}, \"\n",
        "                                f\"RSI Değişim: {x['rsiChange']:.2f}\"),\n",
        "                    axis=1)\n",
        "\n",
        "        except Exception as e:\n",
        "            print(f\"Hata: {symbol} için veri alınamadı - {str(e)}\")\n",
        "            continue\n",
        "\n",
        "if __name__ == \"__main__\":\n",
        "    main()\n"
      ]
    }
  ]
}