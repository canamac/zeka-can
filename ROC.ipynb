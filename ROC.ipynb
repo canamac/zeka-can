{
  "nbformat": 4,
  "nbformat_minor": 0,
  "metadata": {
    "colab": {
      "provenance": [],
      "authorship_tag": "ABX9TyNRPySKrbP6381HTtKTR4NH",
      "include_colab_link": true
    },
    "kernelspec": {
      "name": "python3",
      "display_name": "Python 3"
    },
    "language_info": {
      "name": "python"
    }
  },
  "cells": [
    {
      "cell_type": "markdown",
      "metadata": {
        "id": "view-in-github",
        "colab_type": "text"
      },
      "source": [
        "<a href=\"https://colab.research.google.com/github/canamac/zeka-can/blob/main/ROC.ipynb\" target=\"_parent\"><img src=\"https://colab.research.google.com/assets/colab-badge.svg\" alt=\"Open In Colab\"/></a>"
      ]
    },
    {
      "cell_type": "code",
      "execution_count": 1,
      "metadata": {
        "colab": {
          "base_uri": "https://localhost:8080/"
        },
        "id": "KaqOAdin1NF2",
        "outputId": "95d421f8-8d1f-45b8-894b-993a556a6019"
      },
      "outputs": [
        {
          "output_type": "stream",
          "name": "stdout",
          "text": [
            "Tüm Coin'lerin ROC Değerleri:\n",
            "  Coin  ROC (%)\n",
            "0  BTC    -2.91\n",
            "1  ETH    -3.41\n",
            "2  BNB    96.16\n",
            "3  SOL    -7.73\n",
            "4  ADA    -0.43\n",
            "5  FET    -7.46\n",
            "\n",
            "BTC ROC Değerini Geçen Coin'ler:\n",
            "  Coin  ROC (%)\n",
            "2  BNB    96.16\n",
            "4  ADA    -0.43\n"
          ]
        }
      ],
      "source": [
        "import requests\n",
        "import pandas as pd\n",
        "\n",
        "# CoinGecko API'sinden veri almak için URL\n",
        "api_url = \"https://api.coingecko.com/api/v3/simple/price?ids=bitcoin,ethereum,binancecoin,solana,cardano,fetch-ai&vs_currencies=usd\"\n",
        "\n",
        "# API'den veri alalım\n",
        "response = requests.get(api_url)\n",
        "data = response.json()\n",
        "\n",
        "# Coin'lerin fiyat verilerini çıkaralım (Binance coin (BNB) da eklendi)\n",
        "coins = {\n",
        "    'BTC': {'current_price': data['bitcoin']['usd'], 'previous_price': 105851},  # Önceki fiyatı manuel olarak verebiliriz\n",
        "    'ETH': {'current_price': data['ethereum']['usd'], 'previous_price': 3329.11},\n",
        "    'BNB': {'current_price': data['binancecoin']['usd'], 'previous_price': 350.22},  # Binance coin (BNB)\n",
        "    'SOL': {'current_price': data['solana']['usd'], 'previous_price': 270.39},\n",
        "    'ADA': {'current_price': data['cardano']['usd'], 'previous_price': 0.975145},\n",
        "    'FET': {'current_price': data['fetch-ai']['usd'], 'previous_price': 1.34}\n",
        "}\n",
        "\n",
        "# ROC hesaplamak için fonksiyon\n",
        "def calculate_roc(current_price, previous_price):\n",
        "    return ((current_price - previous_price) / previous_price) * 100\n",
        "\n",
        "# Sonuçları saklamak için bir liste\n",
        "roc_values = {}\n",
        "\n",
        "# Her coin için ROC hesaplayalım\n",
        "for coin, prices in coins.items():\n",
        "    roc_values[coin] = calculate_roc(prices['current_price'], prices['previous_price'])\n",
        "\n",
        "# Sonuçları DataFrame olarak gösterebiliriz\n",
        "roc_df = pd.DataFrame(list(roc_values.items()), columns=['Coin', 'ROC (%)'])\n",
        "roc_df['ROC (%)'] = roc_df['ROC (%)'].round(2)  # Yüzdeyi iki ondalıklı olarak yuvarlayalım\n",
        "\n",
        "# BTC'nin ROC değerini aşan coin'leri bulalım\n",
        "btc_roc = roc_values['BTC']\n",
        "coins_above_btc_roc = roc_df[roc_df['ROC (%)'] > btc_roc]\n",
        "\n",
        "# Sonuçları yazdıralım\n",
        "print(\"Tüm Coin'lerin ROC Değerleri:\")\n",
        "print(roc_df)\n",
        "print(\"\\nBTC ROC Değerini Geçen Coin'ler:\")\n",
        "print(coins_above_btc_roc)\n"
      ]
    }
  ]
}