{
  "nbformat": 4,
  "nbformat_minor": 0,
  "metadata": {
    "colab": {
      "provenance": [],
      "authorship_tag": "ABX9TyPLOKvst7XH23iNhVvsSgPH",
      "include_colab_link": true
    },
    "kernelspec": {
      "name": "python3",
      "display_name": "Python 3"
    },
    "language_info": {
      "name": "python"
    }
  },
  "cells": [
    {
      "cell_type": "markdown",
      "metadata": {
        "id": "view-in-github",
        "colab_type": "text"
      },
      "source": [
        "<a href=\"https://colab.research.google.com/github/canamac/zeka-can/blob/main/TELEGRAMBOT.ipynb\" target=\"_parent\"><img src=\"https://colab.research.google.com/assets/colab-badge.svg\" alt=\"Open In Colab\"/></a>"
      ]
    },
    {
      "cell_type": "code",
      "execution_count": null,
      "metadata": {
        "id": "zxcG5Lp5U2_6"
      },
      "outputs": [],
      "source": [
        "from html.parser import HTMLParser\n",
        "import telegram.ext\n",
        "import telegram\n",
        "\n",
        "with open(\"token.txt\",\"r\") as f:\n",
        "    TOKEN = f.read()\n",
        "\n",
        "def start(update,source):\n",
        "    update.message.reply_text(\"<b>Merhaba, Hoşgeldiniz.\\nWeb Sitesi:/site\\nYoutube:/youtube</b>\",parse_mode = telegram.ParseMode.HTML)\n",
        "\n",
        "\n",
        "def site(update,source):\n",
        "    update.message.reply_text(\"<b>Kusha Mühendislik Web Sitesi : https://kushaengineering.com </b>\",parse_mode = telegram.ParseMode.HTML)\n",
        "\n",
        "def video(update,source):\n",
        "    update.message.reply_text(\"<b>Kusha Mühendislik Youtube : https://www.youtube.com/watch?v=Gt_cwST1Nhg </b>\",parse_mode = telegram.ParseMode.HTML,disable_web_page_preview=True)\n",
        "\n",
        "update = telegram.ext.Updater(TOKEN,use_context=True)\n",
        "disp = update.dispatcher\n",
        "\n",
        "disp.add_handler(telegram.ext.CommandHandler(\"start\",start))\n",
        "disp.add_handler(telegram.ext.CommandHandler(\"site\",site))\n",
        "disp.add_handler(telegram.ext.CommandHandler(\"youtube\",video))\n",
        "\n",
        "update.start_polling()\n",
        "update.idle()"
      ]
    }
  ]
}