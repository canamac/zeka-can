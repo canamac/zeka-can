{
  "nbformat": 4,
  "nbformat_minor": 0,
  "metadata": {
    "colab": {
      "provenance": [],
      "authorship_tag": "ABX9TyO5A/HowVcBiUs4PqLRxg2m",
      "include_colab_link": true
    },
    "kernelspec": {
      "name": "python3",
      "display_name": "Python 3"
    },
    "language_info": {
      "name": "python"
    }
  },
  "cells": [
    {
      "cell_type": "markdown",
      "metadata": {
        "id": "view-in-github",
        "colab_type": "text"
      },
      "source": [
        "<a href=\"https://colab.research.google.com/github/canamac/zeka-can/blob/main/100_coin_excel_renkli.ipynb\" target=\"_parent\"><img src=\"https://colab.research.google.com/assets/colab-badge.svg\" alt=\"Open In Colab\"/></a>"
      ]
    },
    {
      "cell_type": "code",
      "execution_count": null,
      "metadata": {
        "colab": {
          "base_uri": "https://localhost:8080/"
        },
        "id": "DUAlFzJ-RIzM",
        "outputId": "57da2cbd-0c90-406e-ba4b-826a8200779a"
      },
      "outputs": [
        {
          "output_type": "stream",
          "name": "stdout",
          "text": [
            "\n",
            "Tarama Başlatıldı: 19:24:13\n",
            "Veriler 'crypto_signals.xlsx' dosyasına kaydedildi ve renklendirildi.\n"
          ]
        }
      ],
      "source": [
        "import pandas as pd\n",
        "import requests\n",
        "import time\n",
        "import numpy as np\n",
        "from datetime import datetime\n",
        "from openpyxl.styles import PatternFill  # Renklendirme için\n",
        "\n",
        "# API Ayarları\n",
        "COINGECKO_URL = \"https://api.coingecko.com/api/v3/coins/markets\"\n",
        "HEADERS = {'User-Agent': 'Mozilla/5.0'}\n",
        "\n",
        "# 100 Coin Verisini Çek\n",
        "def get_top_100_coins():\n",
        "    try:\n",
        "        params = {\n",
        "            'vs_currency': 'usd',\n",
        "            'order': 'market_cap_desc',\n",
        "            'per_page': 100,\n",
        "            'page': 1,\n",
        "            'sparkline': False\n",
        "        }\n",
        "        response = requests.get(COINGECKO_URL, headers=HEADERS, params=params, timeout=15)\n",
        "        response.raise_for_status()\n",
        "        return response.json()\n",
        "    except Exception as e:\n",
        "        print(f\"Hata: {str(e)}\")\n",
        "        return None\n",
        "\n",
        "# Veriyi İşle\n",
        "def process_data(data):\n",
        "    if not data:\n",
        "        return pd.DataFrame()\n",
        "\n",
        "    df = pd.DataFrame(data)\n",
        "    df = df[[\n",
        "        'symbol', 'current_price', 'high_24h', 'low_24h',\n",
        "        'price_change_percentage_24h', 'market_cap', 'total_volume'\n",
        "    ]]\n",
        "\n",
        "    df.rename(columns={\n",
        "        'symbol': 'Sembol',\n",
        "        'current_price': 'Fiyat ($)',\n",
        "        'high_24h': '24s En Yüksek',\n",
        "        'low_24h': '24s En Düşük',\n",
        "        'price_change_percentage_24h': 'Değişim (%)',\n",
        "        'market_cap': 'Piyasa Değeri',\n",
        "        'total_volume': 'Hacim (24s)'\n",
        "    }, inplace=True)\n",
        "\n",
        "    return df\n",
        "\n",
        "# Sinyal Üret\n",
        "def generate_signals(df):\n",
        "    if df.empty:\n",
        "        return df\n",
        "\n",
        "    # AL sinyali için koşullar\n",
        "    df['Sinyal'] = np.where(\n",
        "        (df['Değişim (%)'] > 5) & (df['Hacim (24s)'] > 1e6),\n",
        "        'AL',\n",
        "        'SAT'\n",
        "    )\n",
        "    return df\n",
        "\n",
        "# Excel'e Kaydet ve Renklendir\n",
        "def save_to_excel(df):\n",
        "    try:\n",
        "        file_name = \"crypto_signals.xlsx\"  # Sabit dosya adı\n",
        "\n",
        "        # Excel dosyasını oluştur\n",
        "        with pd.ExcelWriter(file_name, engine='openpyxl') as writer:\n",
        "            df.to_excel(writer, index=False, sheet_name='Sinyaller')\n",
        "\n",
        "            # Excel stil ayarları\n",
        "            workbook = writer.book\n",
        "            worksheet = writer.sheets['Sinyaller']\n",
        "\n",
        "            # Renk tanımlamaları\n",
        "            green_fill = PatternFill(start_color=\"00FF00\", end_color=\"00FF00\", fill_type=\"solid\")  # Yeşil\n",
        "            red_fill = PatternFill(start_color=\"FF0000\", end_color=\"FF0000\", fill_type=\"solid\")    # Kırmızı\n",
        "\n",
        "            # Sinyal sütununu renklendir\n",
        "            for row in worksheet.iter_rows(min_row=2, max_row=len(df) + 1, min_col=8, max_col=8):  # Sinyal sütunu (H)\n",
        "                for cell in row:\n",
        "                    if cell.value == \"AL\":\n",
        "                        cell.fill = green_fill\n",
        "                    elif cell.value == \"SAT\":\n",
        "                        cell.fill = red_fill\n",
        "\n",
        "        print(f\"Veriler '{file_name}' dosyasına kaydedildi ve renklendirildi.\")\n",
        "        return True\n",
        "    except Exception as e:\n",
        "        print(f\"Excel kaydetme hatası: {str(e)}\")\n",
        "        return False\n",
        "\n",
        "# Ana Fonksiyon\n",
        "def main():\n",
        "    while True:\n",
        "        print(f\"\\nTarama Başlatıldı: {datetime.now().strftime('%H:%M:%S')}\")\n",
        "        data = get_top_100_coins()\n",
        "        if data:\n",
        "            df = process_data(data)\n",
        "            df = generate_signals(df)\n",
        "            if not df.empty:\n",
        "                save_to_excel(df)\n",
        "        time.sleep(300)  # 5 dakikada bir\n",
        "\n",
        "if __name__ == \"__main__\":\n",
        "    main()"
      ]
    }
  ]
}