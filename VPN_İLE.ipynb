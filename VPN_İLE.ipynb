{
  "nbformat": 4,
  "nbformat_minor": 0,
  "metadata": {
    "colab": {
      "provenance": [],
      "authorship_tag": "ABX9TyOnXC0Xr4ERH5rk85CM49QU",
      "include_colab_link": true
    },
    "kernelspec": {
      "name": "python3",
      "display_name": "Python 3"
    },
    "language_info": {
      "name": "python"
    }
  },
  "cells": [
    {
      "cell_type": "markdown",
      "metadata": {
        "id": "view-in-github",
        "colab_type": "text"
      },
      "source": [
        "<a href=\"https://colab.research.google.com/github/canamac/zeka-can/blob/main/VPN_%C4%B0LE.ipynb\" target=\"_parent\"><img src=\"https://colab.research.google.com/assets/colab-badge.svg\" alt=\"Open In Colab\"/></a>"
      ]
    },
    {
      "cell_type": "code",
      "execution_count": null,
      "metadata": {
        "id": "SWi4GMNNYiR2"
      },
      "outputs": [],
      "source": [
        "import pandas as pd\n",
        "from binance.client import Client\n",
        "from ta.trend import MACD\n",
        "import time\n",
        "\n",
        "# Binance API key ve secret bilgilerinizi buraya girin\n",
        "api_key = 'YOUR_API_KEY'\n",
        "api_secret = 'YOUR_API_SECRET'\n",
        "\n",
        "# Binance client'ı oluştur\n",
        "client = Client(api_key, api_secret)\n",
        "\n",
        "# Tüm coinleri çek\n",
        "print(\"Binance'teki tüm coinler çekiliyor...\")\n",
        "exchange_info = client.get_exchange_info()\n",
        "symbols = [symbol['symbol'] for symbol in exchange_info['symbols'] if symbol['status'] == 'TRADING']\n",
        "print(f\"Toplam {len(symbols)} coin bulundu.\")\n",
        "\n",
        "# MACD hesaplama fonksiyonu\n",
        "def calculate_macd(symbol, interval='1h', short_window=12, long_window=26, signal_window=9):\n",
        "    try:\n",
        "        # Binance'tan mum verilerini çek\n",
        "        klines = client.get_klines(symbol=symbol, interval=interval, limit=100)\n",
        "\n",
        "        # Verileri DataFrame'e dönüştür\n",
        "        df = pd.DataFrame(klines, columns=[\n",
        "            'timestamp', 'open', 'high', 'low', 'close', 'volume', 'close_time',\n",
        "            'quote_asset_volume', 'number_of_trades', 'taker_buy_base_asset_volume',\n",
        "            'taker_buy_quote_asset_volume', 'ignore'\n",
        "        ])\n",
        "\n",
        "        # 'close' sütununu sayısal değere dönüştür\n",
        "        df['close'] = pd.to_numeric(df['close'])\n",
        "\n",
        "        # MACD hesapla\n",
        "        macd = MACD(df['close'], window_slow=long_window, window_fast=short_window, window_sign=signal_window)\n",
        "        df['macd'] = macd.macd()\n",
        "        df['macd_signal'] = macd.macd_signal()\n",
        "        df['macd_diff'] = macd.macd_diff()\n",
        "\n",
        "        # Son değeri döndür\n",
        "        return df.iloc[-1]\n",
        "    except Exception as e:\n",
        "        print(f\"{symbol} için MACD hesaplanırken hata oluştu: {e}\")\n",
        "        return None\n",
        "\n",
        "# Alım sinyali veren coinleri bul\n",
        "def find_buy_signals():\n",
        "    buy_signals = []\n",
        "    print(\"MACD alım sinyalleri aranıyor...\")\n",
        "\n",
        "    for symbol in symbols:\n",
        "        try:\n",
        "            macd_data = calculate_macd(symbol)\n",
        "            if macd_data is not None:\n",
        "                if macd_data['macd'] > macd_data['macd_signal'] and macd_data['macd_diff'] > 0:\n",
        "                    buy_signals.append(symbol)\n",
        "                    print(f\"Alım Sinyali: {symbol} - MACD: {macd_data['macd']:.4f}, MACD Signal: {macd_data['macd_signal']:.4f}\")\n",
        "        except Exception as e:\n",
        "            print(f\"{symbol} işlenirken hata oluştu: {e}\")\n",
        "\n",
        "        # API rate limitini aşmamak için bekleme süresi\n",
        "        time.sleep(0.1)\n",
        "\n",
        "    return buy_signals\n",
        "\n",
        "# Alım sinyali veren coinleri listele\n",
        "buy_signals = find_buy_signals()\n",
        "print(\"\\nAlım Sinyali Veren Coinler:\")\n",
        "for coin in buy_signals:\n",
        "    print(coin)"
      ]
    },
    {
      "cell_type": "code",
      "source": [],
      "metadata": {
        "id": "QjFTvYVMYpQl"
      },
      "execution_count": null,
      "outputs": []
    }
  ]
}