{
  "nbformat": 4,
  "nbformat_minor": 0,
  "metadata": {
    "colab": {
      "provenance": [],
      "authorship_tag": "ABX9TyN5FyvAJ/vzDAArLhUpTAQx",
      "include_colab_link": true
    },
    "kernelspec": {
      "name": "python3",
      "display_name": "Python 3"
    },
    "language_info": {
      "name": "python"
    }
  },
  "cells": [
    {
      "cell_type": "markdown",
      "metadata": {
        "id": "view-in-github",
        "colab_type": "text"
      },
      "source": [
        "<a href=\"https://colab.research.google.com/github/canamac/zeka-can/blob/main/10_adet_csv_olu%C5%9Fturma.ipynb\" target=\"_parent\"><img src=\"https://colab.research.google.com/assets/colab-badge.svg\" alt=\"Open In Colab\"/></a>"
      ]
    },
    {
      "cell_type": "code",
      "execution_count": 1,
      "metadata": {
        "colab": {
          "base_uri": "https://localhost:8080/"
        },
        "id": "XpWivT6GZd66",
        "outputId": "c0845522-2e4d-49b7-90e8-d618d132699e"
      },
      "outputs": [
        {
          "output_type": "stream",
          "name": "stdout",
          "text": [
            "ripple için veri alınamadı.\n",
            "dogecoin için veri alınamadı.\n",
            "polkadot için veri alınamadı.\n",
            "litecoin için veri alınamadı.\n",
            "chainlink için veri alınamadı.\n",
            "Veri başarıyla indirildi ve 'multi_coin_price_data.csv' olarak kaydedildi.\n",
            "Veri başarıyla 'multi_coin_processed_signals.csv' ve 'multi_coin_processed_signals.xlsx' olarak kaydedildi.\n",
            "          coin       close  FinalBuySignal  FinalSellSignal\n",
            "5      cardano    0.701726           False            False\n",
            "6  binancecoin  614.709487           False            False\n",
            "7  binancecoin  614.491397           False            False\n",
            "8       solana  199.709394           False            False\n",
            "9       solana  204.655905           False            False\n"
          ]
        }
      ],
      "source": [
        "import pandas as pd\n",
        "import numpy as np\n",
        "import math\n",
        "import requests\n",
        "\n",
        "# Kullanıcının seçebileceği coinler\n",
        "available_coins = [\"bitcoin\", \"ethereum\", \"cardano\", \"binancecoin\", \"solana\", \"ripple\", \"dogecoin\", \"polkadot\", \"litecoin\", \"chainlink\"]\n",
        "\n",
        "# Kullanıcının seçtiği coinleri belirleme\n",
        "selected_coins = available_coins[:10]  # İlk 10 coini seçiyoruz\n",
        "\n",
        "# Boş DataFrame oluşturma\n",
        "all_data = pd.DataFrame()\n",
        "\n",
        "for coin in selected_coins:\n",
        "    url = f\"https://api.coingecko.com/api/v3/coins/{coin}/market_chart\"\n",
        "    params = {\n",
        "        \"vs_currency\": \"usd\",\n",
        "        \"days\": \"1\",\n",
        "        \"interval\": \"daily\"\n",
        "    }\n",
        "\n",
        "    response = requests.get(url, params=params)\n",
        "    data_json = response.json()\n",
        "\n",
        "    if \"prices\" in data_json:\n",
        "        prices = data_json[\"prices\"]\n",
        "        df = pd.DataFrame(prices, columns=[\"timestamp\", \"close\"])\n",
        "        df[\"timestamp\"] = pd.to_datetime(df[\"timestamp\"], unit=\"ms\")\n",
        "        df[\"coin\"] = coin\n",
        "        all_data = pd.concat([all_data, df], ignore_index=True)\n",
        "    else:\n",
        "        print(f\"{coin} için veri alınamadı.\")\n",
        "\n",
        "# CSV'ye kaydetme\n",
        "all_data.to_csv(\"multi_coin_price_data.csv\", index=False)\n",
        "print(\"Veri başarıyla indirildi ve 'multi_coin_price_data.csv' olarak kaydedildi.\")\n",
        "\n",
        "# CSV'den veri yükleme\n",
        "data = pd.read_csv(\"multi_coin_price_data.csv\")\n",
        "data.dropna(inplace=True)\n",
        "\n",
        "# Hareketli ortalamalar ve göstergeleri hesaplama\n",
        "ema_length = 20\n",
        "rsi_length = 14\n",
        "bollinger_length = 20\n",
        "bollinger_std_dev = 2.0\n",
        "rsi_ema_length = 200\n",
        "bollinger_ema_length = 200\n",
        "\n",
        "# Her coin için göstergeleri hesaplama\n",
        "data[\"EMA\"] = data.groupby(\"coin\")[\"close\"].transform(lambda x: x.ewm(span=ema_length, adjust=False).mean())\n",
        "\n",
        "delta = data.groupby(\"coin\")[\"close\"].diff(1)\n",
        "gain = delta.where(delta > 0, 0).groupby(data[\"coin\"]).transform(lambda x: x.rolling(window=rsi_length).mean())\n",
        "loss = -delta.where(delta < 0, 0).groupby(data[\"coin\"]).transform(lambda x: x.rolling(window=rsi_length).mean())\n",
        "rs = gain / loss\n",
        "data[\"RSI\"] = 100 - (100 / (1 + rs))\n",
        "\n",
        "data[\"MiddleBand\"] = data.groupby(\"coin\")[\"close\"].transform(lambda x: x.rolling(window=bollinger_length).mean())\n",
        "data[\"StdDev\"] = data.groupby(\"coin\")[\"close\"].transform(lambda x: x.rolling(window=bollinger_length).std())\n",
        "data[\"UpperBand\"] = data[\"MiddleBand\"] + (bollinger_std_dev * data[\"StdDev\"])\n",
        "data[\"LowerBand\"] = data[\"MiddleBand\"] - (bollinger_std_dev * data[\"StdDev\"])\n",
        "\n",
        "data[\"RSI_EMA\"] = data.groupby(\"coin\")[\"RSI\"].transform(lambda x: x.ewm(span=rsi_ema_length, adjust=False).mean())\n",
        "data[\"Bollinger_EMA\"] = data.groupby(\"coin\")[\"MiddleBand\"].transform(lambda x: x.ewm(span=bollinger_ema_length, adjust=False).mean())\n",
        "\n",
        "# Alım/Satım Sinyalleri\n",
        "buy_signal = (data[\"close\"] > data[\"EMA\"]) & (data[\"RSI\"] < 30) & (data[\"close\"] < data[\"LowerBand\"])\n",
        "sell_signal = (data[\"close\"] < data[\"EMA\"]) & (data[\"RSI\"] > 70) & (data[\"close\"] > data[\"UpperBand\"])\n",
        "\n",
        "data[\"BuySignal\"] = buy_signal\n",
        "data[\"SellSignal\"] = sell_signal\n",
        "\n",
        "data[\"NashEquilibrium\"] = ~(buy_signal & sell_signal)\n",
        "\n",
        "data[\"CombinedProbability\"] = ((data[\"close\"] - data[\"EMA\"]) / data[\"close\"] + (data[\"RSI\"] - 50) / 50 + (data[\"close\"] - data[\"MiddleBand\"]) / (data[\"UpperBand\"] - data[\"LowerBand\"])) / 3\n",
        "data[\"LogisticProbability\"] = 1 / (1 + np.exp(-data[\"CombinedProbability\"]))\n",
        "\n",
        "data[\"FinalBuySignal\"] = data[\"BuySignal\"] & (data[\"LogisticProbability\"] > 0.5) & data[\"NashEquilibrium\"]\n",
        "data[\"FinalSellSignal\"] = data[\"SellSignal\"] & (data[\"LogisticProbability\"] < 0.5) & data[\"NashEquilibrium\"]\n",
        "\n",
        "# CSV ve Excel çıktısı oluşturma\n",
        "data.to_csv(\"multi_coin_processed_signals.csv\", index=False)\n",
        "data.to_excel(\"multi_coin_processed_signals.xlsx\", index=False)\n",
        "print(\"Veri başarıyla 'multi_coin_processed_signals.csv' ve 'multi_coin_processed_signals.xlsx' olarak kaydedildi.\")\n",
        "\n",
        "print(data[[\"coin\", \"close\", \"FinalBuySignal\", \"FinalSellSignal\"]].tail())\n"
      ]
    }
  ]
}