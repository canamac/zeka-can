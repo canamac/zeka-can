{
  "nbformat": 4,
  "nbformat_minor": 0,
  "metadata": {
    "colab": {
      "provenance": [],
      "authorship_tag": "ABX9TyOaqM3f54aCaRHuis58LYh+",
      "include_colab_link": true
    },
    "kernelspec": {
      "name": "python3",
      "display_name": "Python 3"
    },
    "language_info": {
      "name": "python"
    }
  },
  "cells": [
    {
      "cell_type": "markdown",
      "metadata": {
        "id": "view-in-github",
        "colab_type": "text"
      },
      "source": [
        "<a href=\"https://colab.research.google.com/github/canamac/zeka-can/blob/main/Untitled15.ipynb\" target=\"_parent\"><img src=\"https://colab.research.google.com/assets/colab-badge.svg\" alt=\"Open In Colab\"/></a>"
      ]
    },
    {
      "cell_type": "code",
      "execution_count": 1,
      "metadata": {
        "colab": {
          "base_uri": "https://localhost:8080/"
        },
        "id": "MiWP695lIVZr",
        "outputId": "2d966c2a-9276-48bf-9de2-8ca3ff6061dd"
      },
      "outputs": [
        {
          "output_type": "stream",
          "name": "stdout",
          "text": [
            "Processing AKBNK.IS\n"
          ]
        },
        {
          "output_type": "stream",
          "name": "stderr",
          "text": [
            "\r[*********************100%%**********************]  1 of 1 completed\n"
          ]
        },
        {
          "output_type": "stream",
          "name": "stdout",
          "text": [
            "Skipping AKBNK.IS due to missing column: 1\n",
            "Processing ARCLK.IS\n"
          ]
        },
        {
          "output_type": "stream",
          "name": "stderr",
          "text": [
            "\r[*********************100%%**********************]  1 of 1 completed\n"
          ]
        },
        {
          "output_type": "stream",
          "name": "stdout",
          "text": [
            "Skipping ARCLK.IS due to missing column: 1\n",
            "Processing ASELS.IS\n"
          ]
        },
        {
          "output_type": "stream",
          "name": "stderr",
          "text": [
            "\r[*********************100%%**********************]  1 of 1 completed\n"
          ]
        },
        {
          "output_type": "stream",
          "name": "stdout",
          "text": [
            "Skipping ASELS.IS due to missing column: 1\n",
            "Processing BIMAS.IS\n"
          ]
        },
        {
          "output_type": "stream",
          "name": "stderr",
          "text": [
            "\r[*********************100%%**********************]  1 of 1 completed\n"
          ]
        },
        {
          "output_type": "stream",
          "name": "stdout",
          "text": [
            "Skipping BIMAS.IS due to missing column: 1\n",
            "Processing DOHOL.IS\n"
          ]
        },
        {
          "output_type": "stream",
          "name": "stderr",
          "text": [
            "\r[*********************100%%**********************]  1 of 1 completed\n"
          ]
        },
        {
          "output_type": "stream",
          "name": "stdout",
          "text": [
            "Skipping DOHOL.IS due to missing column: 1\n",
            "Processing EKGYO.IS\n"
          ]
        },
        {
          "output_type": "stream",
          "name": "stderr",
          "text": [
            "\r[*********************100%%**********************]  1 of 1 completed\n"
          ]
        },
        {
          "output_type": "stream",
          "name": "stdout",
          "text": [
            "Skipping EKGYO.IS due to missing column: 1\n",
            "Processing ENJSA.IS\n"
          ]
        },
        {
          "output_type": "stream",
          "name": "stderr",
          "text": [
            "\r[*********************100%%**********************]  1 of 1 completed\n"
          ]
        },
        {
          "output_type": "stream",
          "name": "stdout",
          "text": [
            "Skipping ENJSA.IS due to missing column: 1\n",
            "Processing EREGL.IS\n"
          ]
        },
        {
          "output_type": "stream",
          "name": "stderr",
          "text": [
            "\r[*********************100%%**********************]  1 of 1 completed\n"
          ]
        },
        {
          "output_type": "stream",
          "name": "stdout",
          "text": [
            "Skipping EREGL.IS due to missing column: 1\n",
            "Processing FROTO.IS\n"
          ]
        },
        {
          "output_type": "stream",
          "name": "stderr",
          "text": [
            "\r[*********************100%%**********************]  1 of 1 completed\n"
          ]
        },
        {
          "output_type": "stream",
          "name": "stdout",
          "text": [
            "Skipping FROTO.IS due to missing column: 1\n",
            "Processing GARAN.IS\n"
          ]
        },
        {
          "output_type": "stream",
          "name": "stderr",
          "text": [
            "\r[*********************100%%**********************]  1 of 1 completed\n"
          ]
        },
        {
          "output_type": "stream",
          "name": "stdout",
          "text": [
            "Skipping GARAN.IS due to missing column: 1\n",
            "Processing GUBRF.IS\n"
          ]
        },
        {
          "output_type": "stream",
          "name": "stderr",
          "text": [
            "\r[*********************100%%**********************]  1 of 1 completed\n"
          ]
        },
        {
          "output_type": "stream",
          "name": "stdout",
          "text": [
            "Skipping GUBRF.IS due to missing column: 1\n",
            "Processing HALKB.IS\n"
          ]
        },
        {
          "output_type": "stream",
          "name": "stderr",
          "text": [
            "\r[*********************100%%**********************]  1 of 1 completed\n"
          ]
        },
        {
          "output_type": "stream",
          "name": "stdout",
          "text": [
            "Skipping HALKB.IS due to missing column: 1\n",
            "Processing HEKTS.IS\n"
          ]
        },
        {
          "output_type": "stream",
          "name": "stderr",
          "text": [
            "\r[*********************100%%**********************]  1 of 1 completed\n"
          ]
        },
        {
          "output_type": "stream",
          "name": "stdout",
          "text": [
            "Skipping HEKTS.IS due to missing column: 1\n",
            "Processing ISCTR.IS\n"
          ]
        },
        {
          "output_type": "stream",
          "name": "stderr",
          "text": [
            "\r[*********************100%%**********************]  1 of 1 completed\n"
          ]
        },
        {
          "output_type": "stream",
          "name": "stdout",
          "text": [
            "Skipping ISCTR.IS due to missing column: 1\n",
            "Processing KRDMD.IS\n"
          ]
        },
        {
          "output_type": "stream",
          "name": "stderr",
          "text": [
            "\r[*********************100%%**********************]  1 of 1 completed\n"
          ]
        },
        {
          "output_type": "stream",
          "name": "stdout",
          "text": [
            "Skipping KRDMD.IS due to missing column: 1\n",
            "Processing KOZAA.IS\n"
          ]
        },
        {
          "output_type": "stream",
          "name": "stderr",
          "text": [
            "\r[*********************100%%**********************]  1 of 1 completed\n"
          ]
        },
        {
          "output_type": "stream",
          "name": "stdout",
          "text": [
            "Skipping KOZAA.IS due to missing column: 1\n",
            "Processing KOZAL.IS\n"
          ]
        },
        {
          "output_type": "stream",
          "name": "stderr",
          "text": [
            "\r[*********************100%%**********************]  1 of 1 completed\n"
          ]
        },
        {
          "output_type": "stream",
          "name": "stdout",
          "text": [
            "Skipping KOZAL.IS due to missing column: 1\n",
            "Processing KCHOL.IS\n"
          ]
        },
        {
          "output_type": "stream",
          "name": "stderr",
          "text": [
            "\r[*********************100%%**********************]  1 of 1 completed\n"
          ]
        },
        {
          "output_type": "stream",
          "name": "stdout",
          "text": [
            "Skipping KCHOL.IS due to missing column: 1\n",
            "Processing PETKM.IS\n"
          ]
        },
        {
          "output_type": "stream",
          "name": "stderr",
          "text": [
            "\r[*********************100%%**********************]  1 of 1 completed\n"
          ]
        },
        {
          "output_type": "stream",
          "name": "stdout",
          "text": [
            "Skipping PETKM.IS due to missing column: 1\n",
            "Processing PGSUS.IS\n"
          ]
        },
        {
          "output_type": "stream",
          "name": "stderr",
          "text": [
            "\r[*********************100%%**********************]  1 of 1 completed\n"
          ]
        },
        {
          "output_type": "stream",
          "name": "stdout",
          "text": [
            "Skipping PGSUS.IS due to missing column: 1\n",
            "Processing SAHOL.IS\n"
          ]
        },
        {
          "output_type": "stream",
          "name": "stderr",
          "text": [
            "\r[*********************100%%**********************]  1 of 1 completed\n"
          ]
        },
        {
          "output_type": "stream",
          "name": "stdout",
          "text": [
            "Skipping SAHOL.IS due to missing column: 1\n",
            "Processing SISE.IS\n"
          ]
        },
        {
          "output_type": "stream",
          "name": "stderr",
          "text": [
            "\r[*********************100%%**********************]  1 of 1 completed\n"
          ]
        },
        {
          "output_type": "stream",
          "name": "stdout",
          "text": [
            "Skipping SISE.IS due to missing column: 1\n",
            "Processing SODA.IS\n"
          ]
        },
        {
          "output_type": "stream",
          "name": "stderr",
          "text": [
            "\r[*********************100%%**********************]  1 of 1 completed\n",
            "ERROR:yfinance:\n",
            "1 Failed download:\n",
            "ERROR:yfinance:['SODA.IS']: YFChartError('%ticker%: No data found, symbol may be delisted')\n"
          ]
        },
        {
          "output_type": "stream",
          "name": "stdout",
          "text": [
            "Processing TAVHL.IS\n"
          ]
        },
        {
          "output_type": "stream",
          "name": "stderr",
          "text": [
            "\r[*********************100%%**********************]  1 of 1 completed\n"
          ]
        },
        {
          "output_type": "stream",
          "name": "stdout",
          "text": [
            "Skipping TAVHL.IS due to missing column: 1\n",
            "Processing THYAO.IS\n"
          ]
        },
        {
          "output_type": "stream",
          "name": "stderr",
          "text": [
            "\r[*********************100%%**********************]  1 of 1 completed\n"
          ]
        },
        {
          "output_type": "stream",
          "name": "stdout",
          "text": [
            "Skipping THYAO.IS due to missing column: 1\n",
            "Processing TOASO.IS\n"
          ]
        },
        {
          "output_type": "stream",
          "name": "stderr",
          "text": [
            "\r[*********************100%%**********************]  1 of 1 completed\n"
          ]
        },
        {
          "output_type": "stream",
          "name": "stdout",
          "text": [
            "Skipping TOASO.IS due to missing column: 1\n",
            "Processing TTKOM.IS\n"
          ]
        },
        {
          "output_type": "stream",
          "name": "stderr",
          "text": [
            "\r[*********************100%%**********************]  1 of 1 completed\n"
          ]
        },
        {
          "output_type": "stream",
          "name": "stdout",
          "text": [
            "Skipping TTKOM.IS due to missing column: 1\n",
            "Processing TUPRS.IS\n"
          ]
        },
        {
          "output_type": "stream",
          "name": "stderr",
          "text": [
            "\r[*********************100%%**********************]  1 of 1 completed\n"
          ]
        },
        {
          "output_type": "stream",
          "name": "stdout",
          "text": [
            "Skipping TUPRS.IS due to missing column: 1\n",
            "Processing VAKBN.IS\n"
          ]
        },
        {
          "output_type": "stream",
          "name": "stderr",
          "text": [
            "\r[*********************100%%**********************]  1 of 1 completed\n"
          ]
        },
        {
          "output_type": "stream",
          "name": "stdout",
          "text": [
            "Skipping VAKBN.IS due to missing column: 1\n",
            "Processing YKBNK.IS\n"
          ]
        },
        {
          "output_type": "stream",
          "name": "stderr",
          "text": [
            "\r[*********************100%%**********************]  1 of 1 completed"
          ]
        },
        {
          "output_type": "stream",
          "name": "stdout",
          "text": [
            "Skipping YKBNK.IS due to missing column: 1\n",
            "No valid signals found for any ticker.\n"
          ]
        },
        {
          "output_type": "stream",
          "name": "stderr",
          "text": [
            "\n"
          ]
        }
      ],
      "source": [
        "import yfinance as yf\n",
        "import pandas as pd\n",
        "import numpy as np\n",
        "\n",
        "# List of BIST 100 tickers\n",
        "tickers = [\n",
        "    \"AKBNK.IS\", \"ARCLK.IS\", \"ASELS.IS\", \"BIMAS.IS\", \"DOHOL.IS\", \"EKGYO.IS\",\n",
        "    \"ENJSA.IS\", \"EREGL.IS\", \"FROTO.IS\", \"GARAN.IS\", \"GUBRF.IS\", \"HALKB.IS\",\n",
        "    \"HEKTS.IS\", \"ISCTR.IS\", \"KRDMD.IS\", \"KOZAA.IS\", \"KOZAL.IS\", \"KCHOL.IS\",\n",
        "    \"PETKM.IS\", \"PGSUS.IS\", \"SAHOL.IS\", \"SISE.IS\", \"SODA.IS\", \"TAVHL.IS\",\n",
        "    \"THYAO.IS\", \"TOASO.IS\", \"TTKOM.IS\", \"TUPRS.IS\", \"VAKBN.IS\", \"YKBNK.IS\"\n",
        "    # Add the rest of the BIST 100 tickers\n",
        "]\n",
        "\n",
        "# Parameters\n",
        "BBperiod = 21\n",
        "BBdeviations = 1.00\n",
        "UseATRfilter = True\n",
        "ATRperiod = 5\n",
        "\n",
        "# Function to calculate Bollinger Bands\n",
        "def calculate_bollinger_bands(df, window, no_of_std):\n",
        "    rolling_mean = df['Close'].rolling(window).mean()\n",
        "    rolling_std = df['Close'].rolling(window).std()\n",
        "    df['BBUpper'] = rolling_mean + (rolling_std * no_of_std)\n",
        "    df['BBLower'] = rolling_mean - (rolling_std * no_of_std)\n",
        "    return df\n",
        "\n",
        "# Function to calculate ATR\n",
        "def calculate_atr(df, window):\n",
        "    df['H-L'] = df['High'] - df['Low']\n",
        "    df['H-PC'] = abs(df['High'] - df['Close'].shift(1))\n",
        "    df['L-PC'] = abs(df['Low'] - df['Close'].shift(1))\n",
        "    df['TR'] = df[['H-L', 'H-PC', 'L-PC']].max(axis=1)\n",
        "    df['ATR'] = df['TR'].rolling(window).mean()\n",
        "    df.drop(['H-L', 'H-PC', 'L-PC', 'TR'], axis=1, inplace=True)\n",
        "    return df\n",
        "\n",
        "# Function to apply the indicator logic\n",
        "def apply_indicator(df):\n",
        "    required_columns = ['High', 'Low', 'Close']\n",
        "    for col in required_columns:\n",
        "        if col not in df.columns:\n",
        "            raise KeyError(f\"Missing column: {col}\")\n",
        "\n",
        "    df = calculate_bollinger_bands(df, BBperiod, BBdeviations)\n",
        "    df = calculate_atr(df, ATRperiod)\n",
        "\n",
        "    df['TrendLine'] = np.nan\n",
        "    df['iTrend'] = np.nan\n",
        "    df['buy'] = np.nan\n",
        "    df['sell'] = np.nan\n",
        "\n",
        "    df['BBSignal'] = np.where(df['Close'] > df['BBUpper'], 1, np.where(df['Close'] < df['BBLower'], -1, 0))\n",
        "\n",
        "    for i in range(1, len(df)):\n",
        "        if df.loc[i, 'BBSignal'] == 1 and UseATRfilter:\n",
        "            df.loc[i, 'TrendLine'] = df.loc[i, 'Low'] - df.loc[i, 'ATR']\n",
        "            if df.loc[i, 'TrendLine'] < df.loc[i-1, 'TrendLine']:\n",
        "                df.loc[i, 'TrendLine'] = df.loc[i-1, 'TrendLine']\n",
        "        elif df.loc[i, 'BBSignal'] == -1 and UseATRfilter:\n",
        "            df.loc[i, 'TrendLine'] = df.loc[i, 'High'] + df.loc[i, 'ATR']\n",
        "            if df.loc[i, 'TrendLine'] > df.loc[i-1, 'TrendLine']:\n",
        "                df.loc[i, 'TrendLine'] = df.loc[i-1, 'TrendLine']\n",
        "        elif df.loc[i, 'BBSignal'] == 0 and UseATRfilter:\n",
        "            df.loc[i, 'TrendLine'] = df.loc[i-1, 'TrendLine']\n",
        "        elif df.loc[i, 'BBSignal'] == 1 and not UseATRfilter:\n",
        "            df.loc[i, 'TrendLine'] = df.loc[i, 'Low']\n",
        "            if df.loc[i, 'TrendLine'] < df.loc[i-1, 'TrendLine']:\n",
        "                df.loc[i, 'TrendLine'] = df.loc[i-1, 'TrendLine']\n",
        "        elif df.loc[i, 'BBSignal'] == -1 and not UseATRfilter:\n",
        "            df.loc[i, 'TrendLine'] = df.loc[i, 'High']\n",
        "            if df.loc[i, 'TrendLine'] > df.loc[i-1, 'TrendLine']:\n",
        "                df.loc[i, 'TrendLine'] = df.loc[i-1, 'TrendLine']\n",
        "        elif df.loc[i, 'BBSignal'] == 0 and not UseATRfilter:\n",
        "            df.loc[i, 'TrendLine'] = df.loc[i-1, 'TrendLine']\n",
        "\n",
        "        df.loc[i, 'iTrend'] = df.loc[i-1, 'iTrend']\n",
        "        if df.loc[i, 'TrendLine'] > df.loc[i-1, 'TrendLine']:\n",
        "            df.loc[i, 'iTrend'] = 1\n",
        "        elif df.loc[i, 'TrendLine'] < df.loc[i-1, 'TrendLine']:\n",
        "            df.loc[i, 'iTrend'] = -1\n",
        "\n",
        "        df.loc[i, 'buy'] = 1 if df.loc[i-1, 'iTrend'] == -1 and df.loc[i, 'iTrend'] == 1 else np.nan\n",
        "        df.loc[i, 'sell'] = 1 if df.loc[i-1, 'iTrend'] == 1 and df.loc[i, 'iTrend'] == -1 else np.nan\n",
        "\n",
        "    return df\n",
        "\n",
        "# Main logic to fetch data and apply the indicator for each ticker\n",
        "results = {}\n",
        "for ticker in tickers:\n",
        "    print(f'Processing {ticker}')\n",
        "    df = yf.download(ticker, period='1y', interval='1d')\n",
        "    if not df.empty:\n",
        "        try:\n",
        "            df = apply_indicator(df)\n",
        "            results[ticker] = df\n",
        "        except KeyError as e:\n",
        "            print(f\"Skipping {ticker} due to missing column: {e}\")\n",
        "        except Exception as e:\n",
        "            print(f\"Error processing {ticker}: {e}\")\n",
        "\n",
        "# Combine results into a single DataFrame for further analysis\n",
        "signals = []\n",
        "for ticker, df in results.items():\n",
        "    df['Ticker'] = ticker\n",
        "    signals.append(df[['Ticker', 'buy', 'sell']].dropna(how='all'))\n",
        "\n",
        "if signals:\n",
        "    signals_df = pd.concat(signals).reset_index()\n",
        "    print(signals_df)\n",
        "    # Save the results to a CSV file\n",
        "    signals_df.to_csv('bist100_signals.csv', index=False)\n",
        "else:\n",
        "    print(\"No valid signals found for any ticker.\")\n"
      ]
    }
  ]
}