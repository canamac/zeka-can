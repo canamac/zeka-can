{
  "nbformat": 4,
  "nbformat_minor": 0,
  "metadata": {
    "colab": {
      "provenance": [],
      "authorship_tag": "ABX9TyPkDrUIOLoJJlQuhH2PADiR",
      "include_colab_link": true
    },
    "kernelspec": {
      "name": "python3",
      "display_name": "Python 3"
    },
    "language_info": {
      "name": "python"
    }
  },
  "cells": [
    {
      "cell_type": "markdown",
      "metadata": {
        "id": "view-in-github",
        "colab_type": "text"
      },
      "source": [
        "<a href=\"https://colab.research.google.com/github/canamac/zeka-can/blob/main/BTC_G%C3%96RE_ROC_DE%C4%9EER%C4%B0.ipynb\" target=\"_parent\"><img src=\"https://colab.research.google.com/assets/colab-badge.svg\" alt=\"Open In Colab\"/></a>"
      ]
    },
    {
      "cell_type": "code",
      "execution_count": 1,
      "metadata": {
        "colab": {
          "base_uri": "https://localhost:8080/"
        },
        "id": "hNVDBF9B2TQh",
        "outputId": "a8950a25-1ff6-4319-e3e6-eab7e2331b44"
      },
      "outputs": [
        {
          "output_type": "stream",
          "name": "stdout",
          "text": [
            "Tüm Coin'lerin ROC Değerleri:\n",
            "       Coin  ROC (%)\n",
            "0       BTC    -2.93\n",
            "1       ETH    -3.50\n",
            "2       XRP    -3.98\n",
            "3      USDT    -0.06\n",
            "4       SOL    -7.61\n",
            "..      ...      ...\n",
            "94     NEXO    -2.90\n",
            "95     MSOL    -7.55\n",
            "96  SOLVBTC    -3.19\n",
            "97    JASMY    -7.33\n",
            "98     USD0    -0.30\n",
            "\n",
            "[99 rows x 2 columns]\n",
            "\n",
            "BTC ROC Değerini Geçen Coin'ler:\n",
            "     Coin  ROC (%)\n",
            "0     BTC    -2.93\n",
            "3    USDT    -0.06\n",
            "5     BNB    -2.14\n",
            "7    USDC     0.00\n",
            "15   WBTC    -2.84\n",
            "16    TON    -2.80\n",
            "22    LEO    -0.21\n",
            "25    BGB    -2.08\n",
            "29   USDS    -0.42\n",
            "33   USDE    -0.26\n",
            "37    XMR    -0.74\n",
            "38    WBT    -0.70\n",
            "40    ETC    -2.58\n",
            "46    DAI    -0.12\n",
            "55     GT    -2.53\n",
            "73  FDUSD    -0.40\n",
            "75   LBTC    -2.88\n",
            "78    FTN    -0.51\n",
            "88  SUSDS    -0.96\n",
            "90    KCS    -1.48\n",
            "94   NEXO    -2.90\n",
            "98   USD0    -0.30\n"
          ]
        }
      ],
      "source": [
        "import requests\n",
        "import pandas as pd\n",
        "\n",
        "# Binance API'sinden veri almak için URL\n",
        "# CoinGecko API'yi kullanacağız çünkü Binance API'si için API anahtarı gereklidir.\n",
        "api_url = \"https://api.coingecko.com/api/v3/coins/markets?vs_currency=usd\"\n",
        "\n",
        "# Binance'teki tüm coin'leri alıyoruz\n",
        "response = requests.get(api_url)\n",
        "data = response.json()\n",
        "\n",
        "# Coin'lerin fiyat verilerini çıkaralım\n",
        "coins = {}\n",
        "\n",
        "# Binance'teki tüm coin'leri dolaşalım\n",
        "for coin_data in data:\n",
        "    coin_id = coin_data['id']\n",
        "    coin_name = coin_data['symbol'].upper()\n",
        "    current_price = coin_data['current_price']\n",
        "    previous_price = coin_data['high_24h']  # 24 saatlik yüksek fiyatı, bir referans olarak alıyoruz\n",
        "\n",
        "    # Eğer coin'in fiyatı varsa, ROC hesaplamak için ekliyoruz\n",
        "    if current_price and previous_price:\n",
        "        coins[coin_name] = {'current_price': current_price, 'previous_price': previous_price}\n",
        "\n",
        "# BTC için ROC hesaplaması yapalım\n",
        "btc_data = [coin for coin in data if coin['id'] == 'bitcoin'][0]\n",
        "btc_roc = ((btc_data['current_price'] - btc_data['high_24h']) / btc_data['high_24h']) * 100\n",
        "\n",
        "# ROC hesaplamak için fonksiyon\n",
        "def calculate_roc(current_price, previous_price):\n",
        "    return ((current_price - previous_price) / previous_price) * 100\n",
        "\n",
        "# ROC değerlerini hesaplayalım\n",
        "roc_values = {}\n",
        "\n",
        "for coin, prices in coins.items():\n",
        "    roc_values[coin] = calculate_roc(prices['current_price'], prices['previous_price'])\n",
        "\n",
        "# Sonuçları DataFrame olarak gösterebiliriz\n",
        "roc_df = pd.DataFrame(list(roc_values.items()), columns=['Coin', 'ROC (%)'])\n",
        "roc_df['ROC (%)'] = roc_df['ROC (%)'].round(2)  # Yüzdeyi iki ondalıklı olarak yuvarlayalım\n",
        "\n",
        "# BTC'nin ROC değerini aşan coin'leri bulalım\n",
        "coins_above_btc_roc = roc_df[roc_df['ROC (%)'] > btc_roc]\n",
        "\n",
        "# Sonuçları yazdıralım\n",
        "print(\"Tüm Coin'lerin ROC Değerleri:\")\n",
        "print(roc_df)\n",
        "print(\"\\nBTC ROC Değerini Geçen Coin'ler:\")\n",
        "print(coins_above_btc_roc)\n"
      ]
    }
  ]
}