{
  "nbformat": 4,
  "nbformat_minor": 0,
  "metadata": {
    "colab": {
      "provenance": [],
      "authorship_tag": "ABX9TyOhQQrzwQiYRKb974zOAVRN",
      "include_colab_link": true
    },
    "kernelspec": {
      "name": "python3",
      "display_name": "Python 3"
    },
    "language_info": {
      "name": "python"
    }
  },
  "cells": [
    {
      "cell_type": "markdown",
      "metadata": {
        "id": "view-in-github",
        "colab_type": "text"
      },
      "source": [
        "<a href=\"https://colab.research.google.com/github/canamac/zeka-can/blob/main/%C3%96RNEK.ipynb\" target=\"_parent\"><img src=\"https://colab.research.google.com/assets/colab-badge.svg\" alt=\"Open In Colab\"/></a>"
      ]
    },
    {
      "cell_type": "code",
      "execution_count": null,
      "metadata": {
        "id": "Pw_0xpSysIl7",
        "outputId": "11348147-ee19-46d6-d01f-07e1ca76f146",
        "colab": {
          "base_uri": "https://localhost:8080/",
          "height": 228
        }
      },
      "outputs": [
        {
          "output_type": "stream",
          "name": "stdout",
          "text": [
            "Mevcut çalışma dizini: /content\n"
          ]
        },
        {
          "output_type": "error",
          "ename": "FileNotFoundError",
          "evalue": "CSV dosyası bulunamadı: tradingview_signals.csv. Lütfen doğru konumda olduğundan emin olun.",
          "traceback": [
            "\u001b[0;31m---------------------------------------------------------------------------\u001b[0m",
            "\u001b[0;31mFileNotFoundError\u001b[0m                         Traceback (most recent call last)",
            "\u001b[0;32m<ipython-input-1-f25b3e7b9134>\u001b[0m in \u001b[0;36m<cell line: 0>\u001b[0;34m()\u001b[0m\n\u001b[1;32m     14\u001b[0m \u001b[0mcsv_file\u001b[0m \u001b[0;34m=\u001b[0m \u001b[0;34m\"tradingview_signals.csv\"\u001b[0m\u001b[0;34m\u001b[0m\u001b[0;34m\u001b[0m\u001b[0m\n\u001b[1;32m     15\u001b[0m \u001b[0;32mif\u001b[0m \u001b[0;32mnot\u001b[0m \u001b[0mos\u001b[0m\u001b[0;34m.\u001b[0m\u001b[0mpath\u001b[0m\u001b[0;34m.\u001b[0m\u001b[0mexists\u001b[0m\u001b[0;34m(\u001b[0m\u001b[0mcsv_file\u001b[0m\u001b[0;34m)\u001b[0m\u001b[0;34m:\u001b[0m\u001b[0;34m\u001b[0m\u001b[0;34m\u001b[0m\u001b[0m\n\u001b[0;32m---> 16\u001b[0;31m     \u001b[0;32mraise\u001b[0m \u001b[0mFileNotFoundError\u001b[0m\u001b[0;34m(\u001b[0m\u001b[0;34mf\"CSV dosyası bulunamadı: {csv_file}. Lütfen doğru konumda olduğundan emin olun.\"\u001b[0m\u001b[0;34m)\u001b[0m\u001b[0;34m\u001b[0m\u001b[0;34m\u001b[0m\u001b[0m\n\u001b[0m\u001b[1;32m     17\u001b[0m \u001b[0;34m\u001b[0m\u001b[0m\n\u001b[1;32m     18\u001b[0m \u001b[0mdata\u001b[0m \u001b[0;34m=\u001b[0m \u001b[0mpd\u001b[0m\u001b[0;34m.\u001b[0m\u001b[0mread_csv\u001b[0m\u001b[0;34m(\u001b[0m\u001b[0mcsv_file\u001b[0m\u001b[0;34m)\u001b[0m\u001b[0;34m\u001b[0m\u001b[0;34m\u001b[0m\u001b[0m\n",
            "\u001b[0;31mFileNotFoundError\u001b[0m: CSV dosyası bulunamadı: tradingview_signals.csv. Lütfen doğru konumda olduğundan emin olun."
          ]
        }
      ],
      "source": [
        "import pandas as pd\n",
        "import numpy as np\n",
        "import os\n",
        "from sklearn.model_selection import train_test_split\n",
        "from sklearn.preprocessing import StandardScaler\n",
        "from sklearn.neighbors import KNeighborsClassifier\n",
        "from sklearn.linear_model import LogisticRegression\n",
        "from sklearn.metrics import accuracy_score\n",
        "\n",
        "# Çalışma dizinini kontrol et\n",
        "print(\"Mevcut çalışma dizini:\", os.getcwd())\n",
        "\n",
        "# CSV dosyasını yükleyin (TradingView'den dışa aktarılan veriler)\n",
        "csv_file = \"tradingview_signals.csv\"\n",
        "if not os.path.exists(csv_file):\n",
        "    raise FileNotFoundError(f\"CSV dosyası bulunamadı: {csv_file}. Lütfen doğru konumda olduğundan emin olun.\")\n",
        "\n",
        "data = pd.read_csv(csv_file)\n",
        "\n",
        "# Gereksiz sütunları temizleyelim (Tarih, zaman gibi bilgileri kullanabiliriz)\n",
        "data.dropna(inplace=True)\n",
        "\n",
        "# Özellikleri ve hedef değişkeni belirleyelim\n",
        "features = [\"RSI\", \"MACD\", \"EMA200\", \"Supertrend\"]  # Örnek göstergeler\n",
        "target = \"Signal\"  # 'L' (Long) veya 'S' (Short)\n",
        "\n",
        "X = data[features]\n",
        "y = data[target].apply(lambda x: 1 if x == \"L\" else 0)  # Long = 1, Short = 0\n",
        "\n",
        "# Veriyi eğitim ve test setlerine bölelim\n",
        "X_train, X_test, y_train, y_test = train_test_split(X, y, test_size=0.2, random_state=42)\n",
        "\n",
        "# Veriyi ölçekleyelim\n",
        "scaler = StandardScaler()\n",
        "X_train_scaled = scaler.fit_transform(X_train)\n",
        "X_test_scaled = scaler.transform(X_test)\n",
        "\n",
        "# KNN Modeli eğitelim\n",
        "knn = KNeighborsClassifier(n_neighbors=5)\n",
        "knn.fit(X_train_scaled, y_train)\n",
        "y_pred_knn = knn.predict(X_test_scaled)\n",
        "print(\"KNN Accuracy:\", accuracy_score(y_test, y_pred_knn))\n",
        "\n",
        "# Logistic Regression Modeli eğitelim\n",
        "log_reg = LogisticRegression()\n",
        "log_reg.fit(X_train_scaled, y_train)\n",
        "y_pred_log = log_reg.predict(X_test_scaled)\n",
        "print(\"Logistic Regression Accuracy:\", accuracy_score(y_test, y_pred_log))\n",
        "\n",
        "# Yeni veriler için tahmin yapma\n",
        "new_data = np.array([[30, 0.5, 40000, 1]])  # Örnek yeni veri (RSI, MACD, EMA200, Supertrend)\n",
        "new_data_scaled = scaler.transform(new_data)\n",
        "prediction = log_reg.predict(new_data_scaled)\n",
        "print(\"Tahmin edilen sinyal:\", \"Long\" if prediction[0] == 1 else \"Short\")\n"
      ]
    }
  ]
}