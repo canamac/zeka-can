{
  "nbformat": 4,
  "nbformat_minor": 0,
  "metadata": {
    "colab": {
      "provenance": [],
      "authorship_tag": "ABX9TyP63z9pyz7jc3AeHxn+CqzD",
      "include_colab_link": true
    },
    "kernelspec": {
      "name": "python3",
      "display_name": "Python 3"
    },
    "language_info": {
      "name": "python"
    }
  },
  "cells": [
    {
      "cell_type": "markdown",
      "metadata": {
        "id": "view-in-github",
        "colab_type": "text"
      },
      "source": [
        "<a href=\"https://colab.research.google.com/github/canamac/zeka-can/blob/main/15_coin_tarama.ipynb\" target=\"_parent\"><img src=\"https://colab.research.google.com/assets/colab-badge.svg\" alt=\"Open In Colab\"/></a>"
      ]
    },
    {
      "cell_type": "code",
      "execution_count": null,
      "metadata": {
        "colab": {
          "base_uri": "https://localhost:8080/"
        },
        "id": "pqnvrV8YG8uS",
        "outputId": "10900740-7c04-46f0-e952-de71b2192c0e"
      },
      "outputs": [
        {
          "output_type": "stream",
          "name": "stdout",
          "text": [
            "\n",
            "--- Tarama Zamanı: Mon Feb  3 18:39:41 2025 ---\n",
            "BITCOIN - SELL\n",
            "ETHEREUM - SELL\n",
            "SOLANA - SELL\n",
            "BINANCECOIN - SELL\n",
            "DOGECOIN - SELL\n",
            "CARDANO - SELL\n",
            "CHAINLINK - SELL\n",
            "AVALANCHE-2 - SELL\n",
            "STELLAR - SELL\n",
            "SHIBA-INU - SELL\n",
            "LITECOIN - SELL\n",
            "POLKADOT - SELL\n",
            "UNISWAP - SELL\n",
            "MONERO - SELL\n"
          ]
        }
      ],
      "source": [
        "import pandas as pd\n",
        "import numpy as np\n",
        "import requests\n",
        "import time\n",
        "\n",
        "# CoinGecko API erişim bilgileri\n",
        "COINGECKO_URL = \"https://api.coingecko.com/api/v3/coins/markets\"\n",
        "HEADERS = {'User-Agent': 'Mozilla/5.0'}\n",
        "\n",
        "def get_coingecko_data(symbols, vs_currency='usd'):\n",
        "    \"\"\"CoinGecko API üzerinden birden fazla kripto para verisini tek istekte çeker.\"\"\"\n",
        "    symbol_str = ','.join(symbols)  # Coinleri tek bir string olarak birleştiriyoruz\n",
        "    params = {\n",
        "        'vs_currency': vs_currency,\n",
        "        'ids': symbol_str.lower(),\n",
        "        'order': 'market_cap_desc',\n",
        "        'per_page': len(symbols),\n",
        "        'page': 1,\n",
        "        'sparkline': False\n",
        "    }\n",
        "\n",
        "    try:\n",
        "        response = requests.get(COINGECKO_URL, params=params, headers=HEADERS, timeout=15)\n",
        "        response.raise_for_status()\n",
        "        data = response.json()\n",
        "        if data:\n",
        "            df = pd.DataFrame(data)\n",
        "            df = df[['id', 'current_price', 'high_24h', 'low_24h']]\n",
        "            df.rename(columns={'current_price': 'close', 'high_24h': 'high', 'low_24h': 'low'}, inplace=True)\n",
        "            df['timestamp'] = pd.to_datetime(time.time(), unit='s')\n",
        "            return df\n",
        "    except requests.exceptions.RequestException as e:\n",
        "        print(f\"API Hatası: {e}\")\n",
        "\n",
        "    return pd.DataFrame()\n",
        "\n",
        "def calculate_devisso_trend(df, ma_period=20):\n",
        "    \"\"\"Basit hareketli ortalama (SMA) hesaplayarak trend sinyali üretir.\"\"\"\n",
        "    if df.empty:\n",
        "        return df\n",
        "\n",
        "    df['ma'] = df['close'].rolling(ma_period, min_periods=1).mean()\n",
        "    df['signal'] = np.where(df['close'] > df['ma'], 'BUY', 'SELL')\n",
        "    return df\n",
        "\n",
        "def scan_coins(coin_list):\n",
        "    \"\"\"Belirtilen coin listesindeki trend sinyallerini tek API isteğiyle tarar.\"\"\"\n",
        "    data = get_coingecko_data(coin_list)\n",
        "    signals = []\n",
        "    if not data.empty:\n",
        "        result = calculate_devisso_trend(data)\n",
        "        for _, row in result.iterrows():\n",
        "            signals.append((row['id'].upper(), row['signal']))\n",
        "    return signals\n",
        "\n",
        "# Çalıştırma\n",
        "coin_list = [\n",
        "    'bitcoin', 'ethereum', 'binancecoin', 'cardano', 'solana',\n",
        "    'xrp', 'dogecoin', 'polkadot', 'litecoin', 'chainlink',\n",
        "    'uniswap', 'monero', 'avalanche-2', 'shiba-inu', 'stellar'\n",
        "]\n",
        "\n",
        "while True:\n",
        "    print(f\"\\n--- Tarama Zamanı: {time.ctime()} ---\")\n",
        "    signals = scan_coins(coin_list)\n",
        "    if signals:\n",
        "        for coin, action in signals:\n",
        "            print(f\"{coin} - {action}\")\n",
        "    else:\n",
        "        print(\"Sinyal yok\")\n",
        "\n",
        "    time.sleep(300)  # 5 dakikada bir tarama\n"
      ]
    }
  ]
}