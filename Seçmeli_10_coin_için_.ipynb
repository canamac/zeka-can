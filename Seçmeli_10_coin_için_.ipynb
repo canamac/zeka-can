{
  "nbformat": 4,
  "nbformat_minor": 0,
  "metadata": {
    "colab": {
      "provenance": [],
      "authorship_tag": "ABX9TyOBTicthGnkq0urJvieDDXE",
      "include_colab_link": true
    },
    "kernelspec": {
      "name": "python3",
      "display_name": "Python 3"
    },
    "language_info": {
      "name": "python"
    }
  },
  "cells": [
    {
      "cell_type": "markdown",
      "metadata": {
        "id": "view-in-github",
        "colab_type": "text"
      },
      "source": [
        "<a href=\"https://colab.research.google.com/github/canamac/zeka-can/blob/main/Se%C3%A7meli_10_coin_i%C3%A7in_.ipynb\" target=\"_parent\"><img src=\"https://colab.research.google.com/assets/colab-badge.svg\" alt=\"Open In Colab\"/></a>"
      ]
    },
    {
      "cell_type": "code",
      "execution_count": 2,
      "metadata": {
        "colab": {
          "base_uri": "https://localhost:8080/"
        },
        "id": "JElFU1umdptl",
        "outputId": "a58d5bc4-5922-4d8f-dc69-7a6010c7c75a"
      },
      "outputs": [
        {
          "output_type": "stream",
          "name": "stdout",
          "text": [
            "ena için veri alınamadı. API Yanıtı: {'error': 'coin not found'}\n",
            "ether.fi için veri alınamadı. API Yanıtı: {'error': 'Incorrect path. Please check https://www.coingecko.com/api/'}\n",
            "Veri başarıyla indirildi ve 'multi_coin_price_data.csv' olarak kaydedildi.\n",
            "Veri başarıyla 'multi_coin_processed_signals.csv' ve 'multi_coin_processed_signals.xlsx' olarak kaydedildi.\n",
            "            coin     close  FinalBuySignal  FinalSellSignal\n",
            "11       cardano  0.703392           False            False\n",
            "12      fetch-ai  0.736018           False            False\n",
            "13      fetch-ai  0.757980           False            False\n",
            "14  render-token  4.268779           False            False\n",
            "15  render-token  4.338083           False            False\n"
          ]
        }
      ],
      "source": [
        "import pandas as pd\n",
        "import numpy as np\n",
        "import math\n",
        "import requests\n",
        "import time\n",
        "\n",
        "# Kullanıcının seçtiği coinler\n",
        "selected_coins = [\"bitcoin\", \"avalanche-2\", \"ripple\", \"stellar\", \"pepe\", \"cardano\", \"fetch-ai\", \"render-token\", \"ena\", \"ether.fi\"]\n",
        "\n",
        "# Boş DataFrame oluşturma\n",
        "all_data = pd.DataFrame()\n",
        "\n",
        "for coin in selected_coins:\n",
        "    url = f\"https://api.coingecko.com/api/v3/coins/{coin}/market_chart\"\n",
        "    params = {\n",
        "        \"vs_currency\": \"usd\",\n",
        "        \"days\": \"1\",\n",
        "        \"interval\": \"daily\"\n",
        "    }\n",
        "\n",
        "    response = requests.get(url, params=params)\n",
        "    time.sleep(15)  # Rate limit aşımını önlemek için bekleme süresi\n",
        "\n",
        "    try:\n",
        "        data_json = response.json()\n",
        "        if \"prices\" in data_json:\n",
        "            prices = data_json[\"prices\"]\n",
        "            df = pd.DataFrame(prices, columns=[\"timestamp\", \"close\"])\n",
        "            df[\"timestamp\"] = pd.to_datetime(df[\"timestamp\"], unit=\"ms\")\n",
        "            df[\"coin\"] = coin\n",
        "            all_data = pd.concat([all_data, df], ignore_index=True)\n",
        "        else:\n",
        "            print(f\"{coin} için veri alınamadı. API Yanıtı: {data_json}\")\n",
        "    except Exception as e:\n",
        "        print(f\"{coin} için hata oluştu: {e}\")\n",
        "\n",
        "# CSV'ye kaydetme\n",
        "all_data.to_csv(\"multi_coin_price_data.csv\", index=False)\n",
        "print(\"Veri başarıyla indirildi ve 'multi_coin_price_data.csv' olarak kaydedildi.\")\n",
        "\n",
        "# CSV'den veri yükleme\n",
        "data = pd.read_csv(\"multi_coin_price_data.csv\")\n",
        "data.dropna(inplace=True)\n",
        "\n",
        "# Hareketli ortalamalar ve göstergeleri hesaplama\n",
        "ema_length = 20\n",
        "rsi_length = 14\n",
        "bollinger_length = 20\n",
        "bollinger_std_dev = 2.0\n",
        "rsi_ema_length = 200\n",
        "bollinger_ema_length = 200\n",
        "\n",
        "# Her coin için göstergeleri hesaplama\n",
        "data[\"EMA\"] = data.groupby(\"coin\")[\"close\"].transform(lambda x: x.ewm(span=ema_length, adjust=False).mean())\n",
        "\n",
        "delta = data.groupby(\"coin\")[\"close\"].diff(1)\n",
        "gain = delta.where(delta > 0, 0)\n",
        "loss = -delta.where(delta < 0, 0)\n",
        "loss.replace(0, 1e-6, inplace=True)  # Bölme hatasını önlemek için küçük sabit ekleme\n",
        "\n",
        "gain = gain.groupby(data[\"coin\"]).transform(lambda x: x.rolling(window=rsi_length).mean())\n",
        "loss = loss.groupby(data[\"coin\"]).transform(lambda x: x.rolling(window=rsi_length).mean())\n",
        "rs = gain / loss\n",
        "data[\"RSI\"] = 100 - (100 / (1 + rs))\n",
        "\n",
        "# Bollinger Bantları hesaplama\n",
        "data[\"MiddleBand\"] = data.groupby(\"coin\")[\"close\"].transform(lambda x: x.rolling(window=bollinger_length).mean())\n",
        "data[\"StdDev\"] = data.groupby(\"coin\")[\"close\"].transform(lambda x: x.rolling(window=bollinger_length).std())\n",
        "data[\"UpperBand\"] = data[\"MiddleBand\"] + (bollinger_std_dev * data[\"StdDev\"])\n",
        "data[\"LowerBand\"] = data[\"MiddleBand\"] - (bollinger_std_dev * data[\"StdDev\"])\n",
        "\n",
        "# RSI ve Bollinger EMA hesaplama\n",
        "data[\"RSI_EMA\"] = data.groupby(\"coin\")[\"RSI\"].transform(lambda x: x.ewm(span=rsi_ema_length, adjust=False).mean())\n",
        "data[\"Bollinger_EMA\"] = data.groupby(\"coin\")[\"MiddleBand\"].transform(lambda x: x.ewm(span=bollinger_ema_length, adjust=False).mean())\n",
        "\n",
        "# Alım/Satım Sinyalleri\n",
        "buy_signal = (data[\"close\"] > data[\"EMA\"]) & (data[\"RSI\"] < 35) & (data[\"close\"] < data[\"LowerBand\"])\n",
        "sell_signal = (data[\"close\"] < data[\"EMA\"]) & (data[\"RSI\"] > 65) & (data[\"close\"] > data[\"UpperBand\"])\n",
        "\n",
        "data[\"BuySignal\"] = buy_signal\n",
        "data[\"SellSignal\"] = sell_signal\n",
        "\n",
        "data[\"NashEquilibrium\"] = ~(buy_signal & sell_signal)\n",
        "\n",
        "data[\"CombinedProbability\"] = ((data[\"close\"] - data[\"EMA\"]) / data[\"close\"] + (data[\"RSI\"] - 50) / 50 + (data[\"close\"] - data[\"MiddleBand\"]) / (data[\"UpperBand\"] - data[\"LowerBand\"])) / 3\n",
        "data[\"LogisticProbability\"] = 1 / (1 + np.exp(-data[\"CombinedProbability\"]))\n",
        "\n",
        "data[\"FinalBuySignal\"] = data[\"BuySignal\"] & (data[\"LogisticProbability\"] > 0.5) & data[\"NashEquilibrium\"]\n",
        "data[\"FinalSellSignal\"] = data[\"SellSignal\"] & (data[\"LogisticProbability\"] < 0.5) & data[\"NashEquilibrium\"]\n",
        "\n",
        "# CSV ve Excel çıktısı oluşturma\n",
        "data.to_csv(\"multi_coin_processed_signals.csv\", index=False)\n",
        "data.to_excel(\"multi_coin_processed_signals.xlsx\", index=False)\n",
        "print(\"Veri başarıyla 'multi_coin_processed_signals.csv' ve 'multi_coin_processed_signals.xlsx' olarak kaydedildi.\")\n",
        "\n",
        "print(data[[\"coin\", \"close\", \"FinalBuySignal\", \"FinalSellSignal\"]].tail())\n"
      ]
    }
  ]
}