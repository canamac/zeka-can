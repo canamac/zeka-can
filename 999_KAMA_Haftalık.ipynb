{
  "nbformat": 4,
  "nbformat_minor": 0,
  "metadata": {
    "colab": {
      "provenance": [],
      "include_colab_link": true
    },
    "kernelspec": {
      "name": "python3",
      "display_name": "Python 3"
    },
    "language_info": {
      "name": "python"
    }
  },
  "cells": [
    {
      "cell_type": "markdown",
      "metadata": {
        "id": "view-in-github",
        "colab_type": "text"
      },
      "source": [
        "<a href=\"https://colab.research.google.com/github/canamac/zeka-can/blob/main/999_KAMA_Haftal%C4%B1k.ipynb\" target=\"_parent\"><img src=\"https://colab.research.google.com/assets/colab-badge.svg\" alt=\"Open In Colab\"/></a>"
      ]
    },
    {
      "cell_type": "code",
      "execution_count": null,
      "metadata": {
        "id": "FQ19IIx-spvp"
      },
      "outputs": [],
      "source": [
        "!pip install git+https://github.com/rongardF/tvdatafeed tradingview-screener backtesting\n",
        "import pandas as pd\n",
        "import numpy as np\n",
        "from tvDatafeed import TvDatafeed, Interval\n",
        "from tradingview_screener import get_all_symbols\n",
        "import warnings\n",
        "warnings.simplefilter(action='ignore', category=FutureWarning)\n",
        "\n",
        "# Function to calculate Nadaraya-Watson estimator and its envelopes\n",
        "def kama(series, length=21, fast_end=0.666, slow_end=0.0645, offset=None, **kwargs):\n",
        "    \"\"\"\n",
        "    Calculates the Kaufman Adaptive Moving Average (KAMA) of a given price series.\n",
        "\n",
        "    Parameters:\n",
        "    - series: pandas Series containing price data.\n",
        "    - length (int): The number of periods to consider for the efficiency ratio. Default is 21.\n",
        "    - fast_end (float): The smoothing constant for the fastest EMA. Default is 0.666.\n",
        "    - slow_end (float): The smoothing constant for the slowest EMA. Default is 0.0645.\n",
        "    - offset (int): The offset from the current period. Default is None.\n",
        "    - **kwargs: Additional keyword arguments.\n",
        "\n",
        "    Returns:\n",
        "    - pandas.Series: The Kaufman Adaptive Moving Average (KAMA) values.\n",
        "    \"\"\"\n",
        "    # Validate Arguments\n",
        "    length = int(length) if length and length > 0 else 21\n",
        "    fast_end = float(fast_end) if fast_end else 0.666\n",
        "    slow_end = float(slow_end) if slow_end else 0.0645\n",
        "    offset = int(offset) if offset else 0\n",
        "\n",
        "    # Calculate Efficiency Ratio (ER)\n",
        "    price_diff = series.diff(1).abs()\n",
        "    signal = series.diff(length).abs()\n",
        "    noise = price_diff.rolling(window=length).sum()\n",
        "    er = signal / noise\n",
        "    er.replace([np.inf, -np.inf], 0, inplace=True)  # Handle division by zero\n",
        "\n",
        "    # Calculate Smoothing Constant (SC)\n",
        "    sc = (er * (fast_end - slow_end) + slow_end) ** 2\n",
        "\n",
        "    # Calculate KAMA\n",
        "    kama = pd.Series(np.zeros(len(series)), index=series.index)\n",
        "    kama.iloc[length - 1] = series.iloc[length - 1]  # Set initial value\n",
        "\n",
        "    for i in range(length, len(series)):\n",
        "        kama.iloc[i] = kama.iloc[i - 1] + sc.iloc[i] * (series.iloc[i] - kama.iloc[i - 1])\n",
        "\n",
        "    # Apply offset if needed\n",
        "    if offset != 0:\n",
        "        kama = kama.shift(offset)\n",
        "\n",
        "    return kama\n",
        "\n",
        "\n",
        "tv = TvDatafeed()\n",
        "Hisseler = get_all_symbols(market='turkey')\n",
        "Hisseler = [symbol.replace('BIST:', '') for symbol in Hisseler]\n",
        "Hisseler = sorted(Hisseler)\n",
        "print(Hisseler)\n",
        "\n",
        "Titles = ['Hisse Adı', 'Son Fiyat','Giriş Sinyali', 'Çıkış Sinyali']\n",
        "df_signals = pd.DataFrame(columns=Titles)\n",
        "for i in range(0,len(Hisseler)):\n",
        "    #print(Hisseler[i])\n",
        "    try:\n",
        "        data = tv.get_hist(symbol=Hisseler[i], exchange='BIST', interval=Interval.in_weekly, n_bars=100)\n",
        "        data = data.reset_index()\n",
        "        data['KAMA'] = kama(data['close'],21)\n",
        "        data['datetime'] = pd.to_datetime(data['datetime'])\n",
        "        Buy = False\n",
        "        Sell = False\n",
        "        Signals = data.tail(2)\n",
        "        Signals = Signals.reset_index()\n",
        "        last_rows = data.iloc[-2:]\n",
        "        Buy = (Signals.loc[1,'close'] > Signals.loc[1,'KAMA']) and (Signals.loc[0,'close'] < Signals.loc[0,'KAMA'])\n",
        "        Sell = (Signals.loc[1,'close'] < Signals.loc[1,'KAMA']) and (Signals.loc[0,'close'] > Signals.loc[0,'KAMA'])\n",
        "        Last_Price = Signals.loc[1,'close']\n",
        "        L1 = [Hisseler[i], Last_Price, str(Buy), str(Sell)]\n",
        "        df_signals.loc[len(df_signals)] = L1\n",
        "        print(L1)\n",
        "    except:\n",
        "        pass\n",
        "\n",
        "df_True = df_signals[(df_signals['Giriş Sinyali'] == 'True')]\n",
        "print(df_True)\n"
      ]
    }
  ]
}