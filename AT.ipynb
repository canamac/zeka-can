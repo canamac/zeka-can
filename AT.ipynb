{
  "nbformat": 4,
  "nbformat_minor": 0,
  "metadata": {
    "colab": {
      "provenance": [],
      "authorship_tag": "ABX9TyMJNXgm0fLX6gzajoEmOVCI",
      "include_colab_link": true
    },
    "kernelspec": {
      "name": "python3",
      "display_name": "Python 3"
    },
    "language_info": {
      "name": "python"
    }
  },
  "cells": [
    {
      "cell_type": "markdown",
      "metadata": {
        "id": "view-in-github",
        "colab_type": "text"
      },
      "source": [
        "<a href=\"https://colab.research.google.com/github/canamac/zeka-can/blob/main/AT.ipynb\" target=\"_parent\"><img src=\"https://colab.research.google.com/assets/colab-badge.svg\" alt=\"Open In Colab\"/></a>"
      ]
    },
    {
      "cell_type": "code",
      "execution_count": null,
      "metadata": {
        "colab": {
          "base_uri": "https://localhost:8080/"
        },
        "id": "uG545b2-mAu8",
        "outputId": "3f4f8a76-0b41-4d77-b7f6-abf338bc2184"
      },
      "outputs": [
        {
          "output_type": "stream",
          "name": "stdout",
          "text": [
            "        At İsmi  AGF Oranı  Son 6 Yarış Performansı  Jokey Başarı Oranı  \\\n",
            "3   Kıral Polat       9.60                        5                  15   \n",
            "2      Egeliefe      13.95                        6                  15   \n",
            "1  Bay Fırathan     102.60                        6                  15   \n",
            "\n",
            "   Antrenör Başarı Oranı  AGF Skoru  Son 6 Yarış Skoru  Jokey Skoru  \\\n",
            "3                   1.38        1.0                1.0          2.0   \n",
            "2                   1.50        2.0                2.0          2.0   \n",
            "1                   1.37        5.0                2.0          2.0   \n",
            "\n",
            "   Antrenör Skoru  Genel Skor  \n",
            "3             2.0         6.0  \n",
            "2             1.0         7.0  \n",
            "1             3.0        12.0  \n"
          ]
        }
      ],
      "source": [
        "import pandas as pd\n",
        "\n",
        "def en_iyi_atlari_belirle(df):\n",
        "    # Düşük AGF oranı olanlar avantajlıdır (küçük değer daha iyi)\n",
        "    df[\"AGF Oranı\"] = pd.to_numeric(df[\"AGF Oranı\"], errors='coerce')\n",
        "    df[\"AGF Skoru\"] = df[\"AGF Oranı\"].rank(method='min', ascending=True)\n",
        "\n",
        "    # Son 6 yarış performansı (küçük değer daha iyi)\n",
        "    df[\"Son 6 Yarış Skoru\"] = df[\"Son 6 Yarış Performansı\"].rank(method='min', ascending=True)\n",
        "\n",
        "    # Başarılı jokey ve antrenör (yüksek başarı oranı daha iyi)\n",
        "    df[\"Jokey Skoru\"] = df[\"Jokey Başarı Oranı\"].rank(method='min', ascending=False)\n",
        "    df[\"Antrenör Skoru\"] = df[\"Antrenör Başarı Oranı\"].rank(method='min', ascending=False)\n",
        "\n",
        "    # Genel sıralama (daha düşük toplam skor daha iyi at demektir)\n",
        "    df[\"Genel Skor\"] = df[[\"AGF Skoru\", \"Son 6 Yarış Skoru\", \"Jokey Skoru\", \"Antrenör Skoru\"]].sum(axis=1)\n",
        "\n",
        "    # En iyi atları belirle (en düşük skora sahip ilk 3 atı al)\n",
        "    en_iyi_atlar = df.sort_values(\"Genel Skor\").head(3)\n",
        "    return en_iyi_atlar\n",
        "\n",
        "# Örnek veri seti (düzgün uzunlukta olmalı)\n",
        "data = {\n",
        "    \"At İsmi\": [\"Alihanbir\", \"Bay Fırathan\", \"Egeliefe\", \"Kıral Polat\", \"Rush\"],\n",
        "    \"AGF Oranı\": [15.35, 102.60, 13.95, 9.60, 25.65],\n",
        "    \"Son 6 Yarış Performansı\": [6, 6, 6, 5, 6],\n",
        "    \"Jokey Başarı Oranı\": [11, 15, 15, 15, 19],\n",
        "    \"Antrenör Başarı Oranı\": [1.35, 1.37, 1.50, 1.38, 1.25]\n",
        "}\n",
        "\n",
        "df = pd.DataFrame(data)\n",
        "en_iyi_atlar = en_iyi_atlari_belirle(df)\n",
        "print(en_iyi_atlar)\n"
      ]
    }
  ]
}