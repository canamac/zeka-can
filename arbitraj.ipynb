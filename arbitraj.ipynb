{
  "nbformat": 4,
  "nbformat_minor": 0,
  "metadata": {
    "colab": {
      "provenance": [],
      "authorship_tag": "ABX9TyN/WEK3fK1gSoEHULvcykVR",
      "include_colab_link": true
    },
    "kernelspec": {
      "name": "python3",
      "display_name": "Python 3"
    },
    "language_info": {
      "name": "python"
    }
  },
  "cells": [
    {
      "cell_type": "markdown",
      "metadata": {
        "id": "view-in-github",
        "colab_type": "text"
      },
      "source": [
        "<a href=\"https://colab.research.google.com/github/canamac/zeka-can/blob/main/arbitraj.ipynb\" target=\"_parent\"><img src=\"https://colab.research.google.com/assets/colab-badge.svg\" alt=\"Open In Colab\"/></a>"
      ]
    },
    {
      "cell_type": "code",
      "execution_count": null,
      "metadata": {
        "id": "LTJnEfSPxPyc"
      },
      "outputs": [],
      "source": [
        "import numpy as np\n",
        "import pandas as pd\n",
        "import matplotlib.pyplot as plt\n",
        "import yfinance as yf\n",
        "from sklearn.decomposition import PCA\n",
        "from sklearn.preprocessing import StandardScaler\n",
        "\n",
        "# 10 adet coin'in fiyat verilerini çekme\n",
        "def get_data(symbols, start_date, end_date):\n",
        "    data = yf.download(symbols, start=start_date, end=end_date)['Adj Close']\n",
        "    return data\n",
        "\n",
        "# Z-score hesaplama\n",
        "def calculate_zscore(series):\n",
        "    return (series - series.mean()) / series.std()\n",
        "\n",
        "# PCA tabanlı istatistiksel arbitraj stratejisi\n",
        "def statistical_arbitrage(symbols, start_date, end_date):\n",
        "    # Verileri çek\n",
        "    data = get_data(symbols, start_date, end_date)\n",
        "    data = data.dropna()\n",
        "\n",
        "    # Log getirileri hesapla\n",
        "    log_returns = np.log(data / data.shift(1)).dropna()\n",
        "\n",
        "    # Verileri standardize et\n",
        "    scaler = StandardScaler()\n",
        "    scaled_returns = scaler.fit_transform(log_returns)\n",
        "\n",
        "    # PCA uygula\n",
        "    pca = PCA(n_components=2)  # İlk 2 bileşeni kullan\n",
        "    pca.fit(scaled_returns)\n",
        "    components = pca.transform(scaled_returns)\n",
        "\n",
        "    # İlk bileşeni spread olarak kullan\n",
        "    spread = components[:, 0]\n",
        "\n",
        "    # Z-score hesapla\n",
        "    zscore = calculate_zscore(spread)\n",
        "\n",
        "    # Alım/Satım sinyalleri\n",
        "    threshold = 1.0\n",
        "    data['position'] = np.where(zscore > threshold, -1, np.nan)\n",
        "    data['position'] = np.where(zscore < -threshold, 1, data['position'])\n",
        "    data['position'] = np.where(np.abs(zscore) < 0.5, 0, data['position'])\n",
        "    data['position'] = data['position'].ffill().fillna(0)\n",
        "\n",
        "    # Getiri hesapla\n",
        "    data['strategy_return'] = data['position'].shift(1) * log_returns.mean(axis=1)\n",
        "    data['cumulative_return'] = (data['strategy_return'] + 1).cumprod()\n",
        "\n",
        "    # Sonuçları görselleştir\n",
        "    plt.figure(figsize=(14, 7))\n",
        "    plt.plot(data['cumulative_return'], label='Strateji Getirisi')\n",
        "    plt.title('10 Coin İstatistiksel Arbitraj Stratejisi')\n",
        "    plt.legend()\n",
        "    plt.show()\n",
        "\n",
        "    return data\n",
        "\n",
        "# Örnek kullanım\n",
        "symbols = ['BTC-USD', 'ETH-USD', 'BNB-USD', 'ADA-USD', 'DOGE-USD',\n",
        "           'XRP-USD', 'DOT-USD', 'UNI-USD', 'LTC-USD', 'LINK-USD']\n",
        "start_date = '2020-01-01'\n",
        "end_date = '2023-01-01'\n",
        "\n",
        "results = statistical_arbitrage(symbols, start_date, end_date)"
      ]
    }
  ]
}