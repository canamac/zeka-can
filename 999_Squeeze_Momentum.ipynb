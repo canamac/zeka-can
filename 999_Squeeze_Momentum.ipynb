{
  "cells": [
    {
      "cell_type": "markdown",
      "metadata": {
        "id": "view-in-github",
        "colab_type": "text"
      },
      "source": [
        "<a href=\"https://colab.research.google.com/github/canamac/zeka-can/blob/main/999_Squeeze_Momentum.ipynb\" target=\"_parent\"><img src=\"https://colab.research.google.com/assets/colab-badge.svg\" alt=\"Open In Colab\"/></a>"
      ]
    },
    {
      "cell_type": "code",
      "execution_count": null,
      "metadata": {
        "colab": {
          "base_uri": "https://localhost:8080/"
        },
        "id": "rcnKi5lzGcWK",
        "outputId": "0e53637b-f410-474b-8119-5280a01f82d2"
      },
      "outputs": [
        {
          "output_type": "stream",
          "name": "stdout",
          "text": [
            "Collecting git+https://github.com/rongardF/tvdatafeed\n",
            "  Cloning https://github.com/rongardF/tvdatafeed to /tmp/pip-req-build-m5zdpxot\n",
            "  Running command git clone --filter=blob:none --quiet https://github.com/rongardF/tvdatafeed /tmp/pip-req-build-m5zdpxot\n",
            "  Resolved https://github.com/rongardF/tvdatafeed to commit e6f6aaa7de439ac6e454d9b26d2760ded8dc4923\n",
            "  Preparing metadata (setup.py) ... \u001b[?25l\u001b[?25hdone\n",
            "Requirement already satisfied: tradingview-screener in /usr/local/lib/python3.10/dist-packages (2.4.1)\n",
            "Requirement already satisfied: setuptools in /usr/local/lib/python3.10/dist-packages (from tvdatafeed==2.1.0) (67.7.2)\n",
            "Requirement already satisfied: pandas in /usr/local/lib/python3.10/dist-packages (from tvdatafeed==2.1.0) (2.2.2)\n",
            "Requirement already satisfied: websocket-client in /usr/local/lib/python3.10/dist-packages (from tvdatafeed==2.1.0) (1.8.0)\n",
            "Requirement already satisfied: requests in /usr/local/lib/python3.10/dist-packages (from tvdatafeed==2.1.0) (2.31.0)\n",
            "Requirement already satisfied: numpy>=1.22.4 in /usr/local/lib/python3.10/dist-packages (from pandas->tvdatafeed==2.1.0) (1.25.2)\n",
            "Requirement already satisfied: python-dateutil>=2.8.2 in /usr/local/lib/python3.10/dist-packages (from pandas->tvdatafeed==2.1.0) (2.8.2)\n",
            "Requirement already satisfied: pytz>=2020.1 in /usr/local/lib/python3.10/dist-packages (from pandas->tvdatafeed==2.1.0) (2023.4)\n",
            "Requirement already satisfied: tzdata>=2022.7 in /usr/local/lib/python3.10/dist-packages (from pandas->tvdatafeed==2.1.0) (2024.1)\n",
            "Requirement already satisfied: charset-normalizer<4,>=2 in /usr/local/lib/python3.10/dist-packages (from requests->tvdatafeed==2.1.0) (3.3.2)\n",
            "Requirement already satisfied: idna<4,>=2.5 in /usr/local/lib/python3.10/dist-packages (from requests->tvdatafeed==2.1.0) (3.7)\n",
            "Requirement already satisfied: urllib3<3,>=1.21.1 in /usr/local/lib/python3.10/dist-packages (from requests->tvdatafeed==2.1.0) (2.0.7)\n",
            "Requirement already satisfied: certifi>=2017.4.17 in /usr/local/lib/python3.10/dist-packages (from requests->tvdatafeed==2.1.0) (2024.6.2)\n",
            "Requirement already satisfied: six>=1.5 in /usr/local/lib/python3.10/dist-packages (from python-dateutil>=2.8.2->pandas->tvdatafeed==2.1.0) (1.16.0)\n"
          ]
        },
        {
          "output_type": "stream",
          "name": "stderr",
          "text": [
            "WARNING:tvDatafeed.main:you are using nologin method, data you access may be limited\n"
          ]
        },
        {
          "output_type": "stream",
          "name": "stdout",
          "text": [
            "['A1CAP', 26.52, False]\n",
            "['ACSEL', 132.1, False]\n",
            "['ADEL', 515.5, False]\n",
            "['ADESE', 2.25, False]\n",
            "['ADGYO', 27.5, False]\n",
            "['AEFES', 205.1, False]\n",
            "['AFYON', 12.7, False]\n",
            "['AGESA', 112.2, False]\n",
            "['AGHOL', 339.0, False]\n",
            "['AGROT', 15.92, False]\n"
          ]
        }
      ],
      "source": [
        "!pip install git+https://github.com/rongardF/tvdatafeed tradingview-screener\n",
        "\n",
        "import pandas as pd\n",
        "import numpy as np\n",
        "from tvDatafeed import TvDatafeed, Interval\n",
        "from tradingview_screener import get_all_symbols\n",
        "import warnings\n",
        "warnings.simplefilter(action='ignore', category=FutureWarning)\n",
        "\n",
        "\n",
        "#Standart Moving Average\n",
        "def sma(series, length):\n",
        "    \"\"\"\n",
        "    Calculate the Simple Moving Average (SMA) for a given series.\n",
        "    \"\"\"\n",
        "    return series.rolling(window=length).mean()\n",
        "\n",
        "#Standard Deviations\n",
        "def stdev(series, length):\n",
        "    \"\"\"\n",
        "    Calculates the rolling standard deviation of a series.\n",
        "\n",
        "    Args:\n",
        "    series (pd.Series): The input series for which the rolling standard deviation is calculated.\n",
        "    length (int): The window length for the rolling standard deviation calculation.\n",
        "\n",
        "    Returns:\n",
        "    pd.Series: The rolling standard deviation values.\n",
        "    \"\"\"\n",
        "    deviation = series.rolling(window=length).std()\n",
        "    return deviation\n",
        "\n",
        "def SqueezeMomentum(data,mult=2,length=20,multKC=1.5,lengthKC=20):\n",
        "    df=data.copy()\n",
        "    df['basis']=sma(data['Close'],length)\n",
        "    df['dev']=multKC*stdev(data['Close'],length)\n",
        "    df['upperBB']=df['basis']+df['dev']\n",
        "    df['lowerBB']=df['basis']-df['dev']\n",
        "    df['ma']=sma(df['Close'],lengthKC)\n",
        "    df['tr0'] = abs(df[\"High\"] - df[\"Low\"])\n",
        "    df['tr1'] = abs(df[\"High\"] - df[\"Close\"].shift())\n",
        "    df['tr2'] = abs(df[\"Low\"] - df[\"Close\"].shift())\n",
        "    df['range'] = df[['tr0', 'tr1', 'tr2']].max(axis=1)\n",
        "    df['rangema']=sma(df['range'],lengthKC)\n",
        "    df['upperKC']=df['ma']+df['rangema']*multKC\n",
        "    df['lowerKC']=df['ma']-df['rangema']*multKC\n",
        "    df['Squeeze'] = (df['lowerBB'] < df['lowerKC']) & (df['upperBB'] > df['upperKC'])\n",
        "    return df\n",
        "\n",
        "tv = TvDatafeed()\n",
        "Hisseler = get_all_symbols(market='turkey')\n",
        "Hisseler = [symbol.replace('BIST:', '') for symbol in Hisseler]\n",
        "Hisseler = sorted(Hisseler)\n",
        "\n",
        "#Raporlama için kullanılacak başlıklar\n",
        "Titles = ['Hisse Adı', 'Son Fiyat', 'Squeeze']\n",
        "df_signals = pd.DataFrame(columns=Titles)\n",
        "\n",
        "for i in range(0,len(Hisseler)):\n",
        "    #print(Hisseler[i])\n",
        "    try:\n",
        "        data = tv.get_hist(symbol=Hisseler[i], exchange='BIST', interval=Interval.in_1_hour, n_bars=100)\n",
        "        data.rename(columns={'open': 'Open', 'high': 'High', 'low': 'Low', 'close': 'Close', 'volume': 'Volume'}, inplace=True)\n",
        "        data = data.reset_index()\n",
        "        Squeeze = SqueezeMomentum(data,2,20,1.5,20)\n",
        "        Squeeze['datetime'] = pd.to_datetime(Squeeze['datetime'])\n",
        "        Squeeze.set_index('datetime', inplace=True)\n",
        "        Signals = Squeeze.tail(2)\n",
        "        Signals = Signals.reset_index()\n",
        "        Sq_Signal = Signals.loc[0, 'Squeeze'] == False and Signals.loc[1, 'Squeeze'] ==True\n",
        "\n",
        "        Last_Price = Signals.loc[1, 'Close']\n",
        "        L1 = [Hisseler[i],Last_Price, Sq_Signal]\n",
        "        df_signals.loc[len(df_signals)] = L1\n",
        "        print(L1)\n",
        "    except:\n",
        "        pass\n",
        "\n",
        "df_True = df_signals[(df_signals['Squeeze'] == True)]\n",
        "print(df_True)\n"
      ]
    }
  ],
  "metadata": {
    "colab": {
      "provenance": [],
      "include_colab_link": true
    },
    "kernelspec": {
      "display_name": "Python 3",
      "name": "python3"
    },
    "language_info": {
      "name": "python"
    }
  },
  "nbformat": 4,
  "nbformat_minor": 0
}