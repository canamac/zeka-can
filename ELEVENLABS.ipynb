{
  "nbformat": 4,
  "nbformat_minor": 0,
  "metadata": {
    "colab": {
      "provenance": [],
      "authorship_tag": "ABX9TyNU1r613yt4qmvZK5NgXeSe",
      "include_colab_link": true
    },
    "kernelspec": {
      "name": "python3",
      "display_name": "Python 3"
    },
    "language_info": {
      "name": "python"
    }
  },
  "cells": [
    {
      "cell_type": "markdown",
      "metadata": {
        "id": "view-in-github",
        "colab_type": "text"
      },
      "source": [
        "<a href=\"https://colab.research.google.com/github/canamac/zeka-can/blob/main/ELEVENLABS.ipynb\" target=\"_parent\"><img src=\"https://colab.research.google.com/assets/colab-badge.svg\" alt=\"Open In Colab\"/></a>"
      ]
    },
    {
      "cell_type": "code",
      "execution_count": null,
      "metadata": {
        "id": "JoXIwIdAVoH3"
      },
      "outputs": [],
      "source": [
        "from elevenlabs import play\n",
        "from elevenlabs.client import ElevenLabs\n",
        "from pydub import AudioSegment\n",
        "import io\n",
        "\n",
        "client = ElevenLabs(\n",
        "  api_key=\"xxx\",\n",
        ")\n",
        "\n",
        "audio = client.generate(\n",
        "  text=\"Merhaba\",\n",
        "  voice=\"Rachel\",\n",
        "  model=\"eleven_multilingual_v2\"\n",
        ")\n",
        "\n",
        "audio_data = b\"\".join(audio)\n",
        "\n",
        "audio_bytes = io.BytesIO(audio_data)\n",
        "\n",
        "audio_segment = AudioSegment.from_file(audio_bytes)\n",
        "\n",
        "audio_segment.export(\"deneme.mp3\",format=\"mp3\")\n",
        "\n",
        "print(\"Başarılı\")"
      ]
    }
  ]
}