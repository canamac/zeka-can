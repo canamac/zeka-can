{
  "nbformat": 4,
  "nbformat_minor": 0,
  "metadata": {
    "colab": {
      "provenance": [],
      "authorship_tag": "ABX9TyOYHKHEHqhWFiVbrzdaCg7a",
      "include_colab_link": true
    },
    "kernelspec": {
      "name": "python3",
      "display_name": "Python 3"
    },
    "language_info": {
      "name": "python"
    }
  },
  "cells": [
    {
      "cell_type": "markdown",
      "metadata": {
        "id": "view-in-github",
        "colab_type": "text"
      },
      "source": [
        "<a href=\"https://colab.research.google.com/github/canamac/zeka-can/blob/main/CAN.ipynb\" target=\"_parent\"><img src=\"https://colab.research.google.com/assets/colab-badge.svg\" alt=\"Open In Colab\"/></a>"
      ]
    },
    {
      "cell_type": "code",
      "execution_count": 3,
      "metadata": {
        "colab": {
          "base_uri": "https://localhost:8080/"
        },
        "id": "PMTkv689miBY",
        "outputId": "f0932536-3814-4621-8c93-550ec0c5e855"
      },
      "outputs": [
        {
          "output_type": "stream",
          "name": "stdout",
          "text": [
            "Collecting git+https://github.com/rongardF/tvdatafeed\n",
            "  Cloning https://github.com/rongardF/tvdatafeed to /tmp/pip-req-build-l8nq1rot\n",
            "  Running command git clone --filter=blob:none --quiet https://github.com/rongardF/tvdatafeed /tmp/pip-req-build-l8nq1rot\n",
            "  Resolved https://github.com/rongardF/tvdatafeed to commit e6f6aaa7de439ac6e454d9b26d2760ded8dc4923\n",
            "  Preparing metadata (setup.py) ... \u001b[?25l\u001b[?25hdone\n",
            "Requirement already satisfied: tradingview-screener in /usr/local/lib/python3.10/dist-packages (2.4.1)\n",
            "Requirement already satisfied: setuptools in /usr/local/lib/python3.10/dist-packages (from tvdatafeed==2.1.0) (67.7.2)\n",
            "Requirement already satisfied: pandas in /usr/local/lib/python3.10/dist-packages (from tvdatafeed==2.1.0) (2.2.2)\n",
            "Requirement already satisfied: websocket-client in /usr/local/lib/python3.10/dist-packages (from tvdatafeed==2.1.0) (1.8.0)\n",
            "Requirement already satisfied: requests in /usr/local/lib/python3.10/dist-packages (from tvdatafeed==2.1.0) (2.31.0)\n",
            "Requirement already satisfied: numpy>=1.22.4 in /usr/local/lib/python3.10/dist-packages (from pandas->tvdatafeed==2.1.0) (1.25.2)\n",
            "Requirement already satisfied: python-dateutil>=2.8.2 in /usr/local/lib/python3.10/dist-packages (from pandas->tvdatafeed==2.1.0) (2.8.2)\n",
            "Requirement already satisfied: pytz>=2020.1 in /usr/local/lib/python3.10/dist-packages (from pandas->tvdatafeed==2.1.0) (2023.4)\n",
            "Requirement already satisfied: tzdata>=2022.7 in /usr/local/lib/python3.10/dist-packages (from pandas->tvdatafeed==2.1.0) (2024.1)\n",
            "Requirement already satisfied: charset-normalizer<4,>=2 in /usr/local/lib/python3.10/dist-packages (from requests->tvdatafeed==2.1.0) (3.3.2)\n",
            "Requirement already satisfied: idna<4,>=2.5 in /usr/local/lib/python3.10/dist-packages (from requests->tvdatafeed==2.1.0) (3.7)\n",
            "Requirement already satisfied: urllib3<3,>=1.21.1 in /usr/local/lib/python3.10/dist-packages (from requests->tvdatafeed==2.1.0) (2.0.7)\n",
            "Requirement already satisfied: certifi>=2017.4.17 in /usr/local/lib/python3.10/dist-packages (from requests->tvdatafeed==2.1.0) (2024.6.2)\n",
            "Requirement already satisfied: six>=1.5 in /usr/local/lib/python3.10/dist-packages (from python-dateutil>=2.8.2->pandas->tvdatafeed==2.1.0) (1.16.0)\n"
          ]
        },
        {
          "output_type": "stream",
          "name": "stderr",
          "text": [
            "WARNING:tvDatafeed.main:you are using nologin method, data you access may be limited\n"
          ]
        },
        {
          "output_type": "stream",
          "name": "stdout",
          "text": [
            "Empty DataFrame\n",
            "Columns: [Hisse Adı, Son Fiyat, Dip Sinyali]\n",
            "Index: []\n"
          ]
        }
      ],
      "source": [
        "!pip install git+https://github.com/rongardF/tvdatafeed tradingview-screener\n",
        "\n",
        "import numpy as np\n",
        "import pandas as pd\n",
        "from tvDatafeed import TvDatafeed, Interval\n",
        "from tradingview_screener import get_all_symbols\n",
        "import warnings\n",
        "\n",
        "warnings.simplefilter(action='ignore')\n",
        "\n",
        "#Standart Moving Average\n",
        "def sma(series, length):\n",
        "    \"\"\"\n",
        "    Calculate the Simple Moving Average (SMA) for a given series.\n",
        "    \"\"\"\n",
        "    return series.rolling(window=length).mean()\n",
        "\n",
        "#Exponential Moving Average\n",
        "def ema(series, length):\n",
        "    \"\"\"\n",
        "    Calculate the Exponential Moving Average (EMA) for a given series.\n",
        "    \"\"\"\n",
        "    return series.ewm(span=length, adjust=False).mean()\n",
        "\n",
        "\n",
        "def Bankery(data):\n",
        "    df=data.copy()\n",
        "    close_minus_rolling_min = data['close'] - pd.Series(data['low']).rolling(window=27).min()\n",
        "    percentage_change = close_minus_rolling_min / (pd.Series(data['high']).rolling(window=27).max() - pd.Series(data['low']).rolling(window=27).min()) * 100\n",
        "\n",
        "    sma1 = sma(percentage_change, 5)\n",
        "    sma2 = sma(sma1, 3)\n",
        "\n",
        "    fundtrend = (3 * sma1 - 2 * sma2 - 50) * 1.032 + 50\n",
        "\n",
        "    typ = (2 * data['close'] + data['high'] + data['low'] + data['open']) / 5\n",
        "    lol = pd.Series(data['low']).rolling(window=34).min()\n",
        "    hoh = pd.Series(data['high']).rolling(window=34).max()\n",
        "    bullbearline = ema((typ - lol) / (hoh - lol) * 100, 13)\n",
        "    bankerentry = (fundtrend > bullbearline) & (bullbearline < 25)\n",
        "    df['Entry'] = (bankerentry==True)\n",
        "    return df\n",
        "\n",
        "\n",
        "tv = TvDatafeed()\n",
        "Hisseler = get_all_symbols(market='turkey')\n",
        "Hisseler = [symbol.replace('BIST:', '') for symbol in Hisseler]\n",
        "Hisseler = sorted(Hisseler)\n",
        "\n",
        "\n",
        "#Raporlama için kullanılacak başlıklar\n",
        "Titles = ['Hisse Adı', 'Son Fiyat','Dip Sinyali']\n",
        "df_signals = pd.DataFrame(columns=Titles)\n",
        "\n",
        "for hisse in Hisseler:\n",
        "    try:\n",
        "        data = tv.get_hist(symbol=hisse, exchange='BIST', interval=Interval.in_1_day, n_bars=100)\n",
        "        data = data.reset_index()\n",
        "        Banker = Bankery(data)\n",
        "        Banker.rename(columns={'open': 'Open', 'high': 'High', 'low': 'Low', 'close': 'Close', 'volume': 'Volume'}, inplace=True)\n",
        "        Banker.set_index('datetime', inplace=True)\n",
        "        Buy = False\n",
        "        Signals = Banker.tail(2)\n",
        "        Signals = Signals.reset_index()\n",
        "\n",
        "        Entry = (Signals.loc[0, 'Entry'] == False) & (Signals.loc[1, 'Entry'] == True)\n",
        "        Last_Price = Signals.loc[1, 'Close']\n",
        "        L1 = [hisse, Last_Price,Entry]\n",
        "        df_signals.loc[len(df_signals)] = L1\n",
        "        print(L1)\n",
        "    except:\n",
        "        pass\n",
        "\n",
        "df_True = df_signals[(df_signals['Dip Sinyali'] == True)]\n",
        "print(df_True)"
      ]
    }
  ]
}